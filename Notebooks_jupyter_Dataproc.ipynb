{
 "cells": [
  {
   "cell_type": "code",
   "execution_count": 18,
   "id": "8bd34f52-21fb-40a0-bac6-1845b488e92d",
   "metadata": {},
   "outputs": [
    {
     "name": "stdout",
     "output_type": "stream",
     "text": [
      "Collecting xlwt\n",
      "  Downloading xlwt-1.3.0-py2.py3-none-any.whl (99 kB)\n",
      "\u001b[2K     \u001b[90m━━━━━━━━━━━━━━━━━━━━━━━━━━━━━━━━━━━━━━━\u001b[0m \u001b[32m100.0/100.0 KB\u001b[0m \u001b[31m4.2 MB/s\u001b[0m eta \u001b[36m0:00:00\u001b[0m\n",
      "\u001b[?25hInstalling collected packages: xlwt\n",
      "Successfully installed xlwt-1.3.0\n",
      "\u001b[33mWARNING: Running pip as the 'root' user can result in broken permissions and conflicting behaviour with the system package manager. It is recommended to use a virtual environment instead: https://pip.pypa.io/warnings/venv\u001b[0m\u001b[33m\n",
      "\u001b[0mNote: you may need to restart the kernel to use updated packages.\n"
     ]
    }
   ],
   "source": [
    "pip install xlwt"
   ]
  },
  {
   "cell_type": "code",
   "execution_count": 19,
   "id": "78b1c6d6-e930-4105-b175-b6548a591626",
   "metadata": {},
   "outputs": [],
   "source": [
    "import xlwt\n",
    "import pandas as pd"
   ]
  },
  {
   "cell_type": "code",
   "execution_count": 4,
   "id": "d17d6fea-a0ce-47ab-8048-29e2addfcdcb",
   "metadata": {},
   "outputs": [
    {
     "name": "stdout",
     "output_type": "stream",
     "text": [
      "Collecting xlrd\n",
      "  Downloading xlrd-2.0.1-py2.py3-none-any.whl (96 kB)\n",
      "\u001b[2K     \u001b[90m━━━━━━━━━━━━━━━━━━━━━━━━━━━━━━━━━━━━━━━━\u001b[0m \u001b[32m96.5/96.5 KB\u001b[0m \u001b[31m4.0 MB/s\u001b[0m eta \u001b[36m0:00:00\u001b[0m\n",
      "\u001b[?25hInstalling collected packages: xlrd\n",
      "Successfully installed xlrd-2.0.1\n",
      "\u001b[33mWARNING: Running pip as the 'root' user can result in broken permissions and conflicting behaviour with the system package manager. It is recommended to use a virtual environment instead: https://pip.pypa.io/warnings/venv\u001b[0m\u001b[33m\n",
      "\u001b[0mNote: you may need to restart the kernel to use updated packages.\n"
     ]
    }
   ],
   "source": [
    "pip install xlrd"
   ]
  },
  {
   "cell_type": "code",
   "execution_count": 5,
   "id": "d0227f84-c5d2-4b16-b0d8-22084d6b47e2",
   "metadata": {},
   "outputs": [],
   "source": [
    "import xlrd"
   ]
  },
  {
   "cell_type": "code",
   "execution_count": 6,
   "id": "59bcae88-9301-4dab-a869-60fef283f526",
   "metadata": {},
   "outputs": [],
   "source": [
    "dff=pd.read_excel('gs://bucket-estilo-vida/dados_brutos/API_BRA_DS2_pt_excel_v2_3732408.xls')"
   ]
  },
  {
   "cell_type": "code",
   "execution_count": 8,
   "id": "8df9acba-3675-4820-bd33-17600a54b8a7",
   "metadata": {},
   "outputs": [],
   "source": [
    "pd.set_option('max_column',None)"
   ]
  },
  {
   "cell_type": "code",
   "execution_count": 10,
   "id": "29c61e39-bcf9-47a9-a04a-d9d660f04faa",
   "metadata": {},
   "outputs": [
    {
     "data": {
      "text/plain": [
       "Index(['Country Name', 'Country Code', 'Indicator Name', 'Indicator Code',\n",
       "       '1960', '1961', '1962', '1963', '1964', '1965', '1966', '1967', '1968',\n",
       "       '1969', '1970', '1971', '1972', '1973', '1974', '1975', '1976', '1977',\n",
       "       '1978', '1979', '1980', '1981', '1982', '1983', '1984', '1985', '1986',\n",
       "       '1987', '1988', '1989', '1990', '1991', '1992', '1993', '1994', '1995',\n",
       "       '1996', '1997', '1998', '1999', '2000', '2001', '2002', '2003', '2004',\n",
       "       '2005', '2006', '2007', '2008', '2009', '2010', '2011', '2012', '2013',\n",
       "       '2014', '2015', '2016', '2017', '2018', '2019', '2020'],\n",
       "      dtype='object')"
      ]
     },
     "execution_count": 10,
     "metadata": {},
     "output_type": "execute_result"
    }
   ],
   "source": [
    "dff.columns"
   ]
  },
  {
   "cell_type": "code",
   "execution_count": 13,
   "id": "a60afabf-16f6-47b2-8e6a-cd2eb0efa7e5",
   "metadata": {
    "tags": []
   },
   "outputs": [],
   "source": [
    "dffdataproc = dff[['Country Name','Indicator Name','Indicator Code','1991','2000','2010']]"
   ]
  },
  {
   "cell_type": "code",
   "execution_count": 14,
   "id": "cb7865c5-8763-4080-8a01-d75e7d87590e",
   "metadata": {
    "tags": []
   },
   "outputs": [
    {
     "data": {
      "text/html": [
       "<div>\n",
       "<style scoped>\n",
       "    .dataframe tbody tr th:only-of-type {\n",
       "        vertical-align: middle;\n",
       "    }\n",
       "\n",
       "    .dataframe tbody tr th {\n",
       "        vertical-align: top;\n",
       "    }\n",
       "\n",
       "    .dataframe thead th {\n",
       "        text-align: right;\n",
       "    }\n",
       "</style>\n",
       "<table border=\"1\" class=\"dataframe\">\n",
       "  <thead>\n",
       "    <tr style=\"text-align: right;\">\n",
       "      <th></th>\n",
       "      <th>Country Name</th>\n",
       "      <th>Indicator Name</th>\n",
       "      <th>Indicator Code</th>\n",
       "      <th>1991</th>\n",
       "      <th>2000</th>\n",
       "      <th>2010</th>\n",
       "    </tr>\n",
       "  </thead>\n",
       "  <tbody>\n",
       "    <tr>\n",
       "      <th>0</th>\n",
       "      <td>Brasil</td>\n",
       "      <td>Exportações de alta tecnologia (% de exportaçõ...</td>\n",
       "      <td>TX.VAL.TECH.MF.ZS</td>\n",
       "      <td>NaN</td>\n",
       "      <td>NaN</td>\n",
       "      <td>1.258945e+01</td>\n",
       "    </tr>\n",
       "    <tr>\n",
       "      <th>1</th>\n",
       "      <td>Brasil</td>\n",
       "      <td>Índice de termos de permuta líquida (2000 = 100)</td>\n",
       "      <td>TT.PRI.MRCH.XD.WD</td>\n",
       "      <td>7.890625e+01</td>\n",
       "      <td>1.000000e+02</td>\n",
       "      <td>1.272124e+02</td>\n",
       "    </tr>\n",
       "    <tr>\n",
       "      <th>2</th>\n",
       "      <td>Brasil</td>\n",
       "      <td>Comércio de mercadorias (% do PIB)</td>\n",
       "      <td>TG.VAL.TOTL.GD.ZS</td>\n",
       "      <td>1.592689e+01</td>\n",
       "      <td>1.735637e+01</td>\n",
       "      <td>1.781262e+01</td>\n",
       "    </tr>\n",
       "    <tr>\n",
       "      <th>3</th>\n",
       "      <td>Brasil</td>\n",
       "      <td>População, total</td>\n",
       "      <td>SP.POP.TOTL</td>\n",
       "      <td>1.516480e+08</td>\n",
       "      <td>1.747903e+08</td>\n",
       "      <td>1.957136e+08</td>\n",
       "    </tr>\n",
       "    <tr>\n",
       "      <th>4</th>\n",
       "      <td>Brasil</td>\n",
       "      <td>Crescimento da população (anual %)</td>\n",
       "      <td>SP.POP.GROW</td>\n",
       "      <td>1.759414e+00</td>\n",
       "      <td>1.424167e+00</td>\n",
       "      <td>9.379593e-01</td>\n",
       "    </tr>\n",
       "    <tr>\n",
       "      <th>...</th>\n",
       "      <td>...</td>\n",
       "      <td>...</td>\n",
       "      <td>...</td>\n",
       "      <td>...</td>\n",
       "      <td>...</td>\n",
       "      <td>...</td>\n",
       "    </tr>\n",
       "    <tr>\n",
       "      <th>58</th>\n",
       "      <td>Brasil</td>\n",
       "      <td>Remessas pessoais, recebidas (US$ atual)</td>\n",
       "      <td>BX.TRF.PWKR.CD.DT</td>\n",
       "      <td>1.110000e+09</td>\n",
       "      <td>1.349591e+09</td>\n",
       "      <td>3.082802e+09</td>\n",
       "    </tr>\n",
       "    <tr>\n",
       "      <th>59</th>\n",
       "      <td>Brasil</td>\n",
       "      <td>Investimento estrangeiro direto, ingressos líq...</td>\n",
       "      <td>BX.KLT.DINV.CD.WD</td>\n",
       "      <td>1.103000e+09</td>\n",
       "      <td>3.299472e+10</td>\n",
       "      <td>8.238993e+10</td>\n",
       "    </tr>\n",
       "    <tr>\n",
       "      <th>60</th>\n",
       "      <td>Brasil</td>\n",
       "      <td>Superfície (km²)</td>\n",
       "      <td>AG.SRF.TOTL.K2</td>\n",
       "      <td>8.515770e+06</td>\n",
       "      <td>8.515770e+06</td>\n",
       "      <td>8.515770e+06</td>\n",
       "    </tr>\n",
       "    <tr>\n",
       "      <th>61</th>\n",
       "      <td>Brasil</td>\n",
       "      <td>Área florestal (km²)</td>\n",
       "      <td>AG.LND.FRST.K2</td>\n",
       "      <td>5.851171e+06</td>\n",
       "      <td>5.510886e+06</td>\n",
       "      <td>5.115807e+06</td>\n",
       "    </tr>\n",
       "    <tr>\n",
       "      <th>62</th>\n",
       "      <td>Brasil</td>\n",
       "      <td>Terra cultivável (% de área terrestre)</td>\n",
       "      <td>AG.LND.AGRI.ZS</td>\n",
       "      <td>2.793447e+01</td>\n",
       "      <td>2.731750e+01</td>\n",
       "      <td>2.773753e+01</td>\n",
       "    </tr>\n",
       "  </tbody>\n",
       "</table>\n",
       "<p>63 rows × 6 columns</p>\n",
       "</div>"
      ],
      "text/plain": [
       "   Country Name                                     Indicator Name  \\\n",
       "0        Brasil  Exportações de alta tecnologia (% de exportaçõ...   \n",
       "1        Brasil   Índice de termos de permuta líquida (2000 = 100)   \n",
       "2        Brasil                 Comércio de mercadorias (% do PIB)   \n",
       "3        Brasil                                   População, total   \n",
       "4        Brasil                 Crescimento da população (anual %)   \n",
       "..          ...                                                ...   \n",
       "58       Brasil           Remessas pessoais, recebidas (US$ atual)   \n",
       "59       Brasil  Investimento estrangeiro direto, ingressos líq...   \n",
       "60       Brasil                                   Superfície (km²)   \n",
       "61       Brasil                               Área florestal (km²)   \n",
       "62       Brasil             Terra cultivável (% de área terrestre)   \n",
       "\n",
       "       Indicator Code          1991          2000          2010  \n",
       "0   TX.VAL.TECH.MF.ZS           NaN           NaN  1.258945e+01  \n",
       "1   TT.PRI.MRCH.XD.WD  7.890625e+01  1.000000e+02  1.272124e+02  \n",
       "2   TG.VAL.TOTL.GD.ZS  1.592689e+01  1.735637e+01  1.781262e+01  \n",
       "3         SP.POP.TOTL  1.516480e+08  1.747903e+08  1.957136e+08  \n",
       "4         SP.POP.GROW  1.759414e+00  1.424167e+00  9.379593e-01  \n",
       "..                ...           ...           ...           ...  \n",
       "58  BX.TRF.PWKR.CD.DT  1.110000e+09  1.349591e+09  3.082802e+09  \n",
       "59  BX.KLT.DINV.CD.WD  1.103000e+09  3.299472e+10  8.238993e+10  \n",
       "60     AG.SRF.TOTL.K2  8.515770e+06  8.515770e+06  8.515770e+06  \n",
       "61     AG.LND.FRST.K2  5.851171e+06  5.510886e+06  5.115807e+06  \n",
       "62     AG.LND.AGRI.ZS  2.793447e+01  2.731750e+01  2.773753e+01  \n",
       "\n",
       "[63 rows x 6 columns]"
      ]
     },
     "execution_count": 14,
     "metadata": {},
     "output_type": "execute_result"
    }
   ],
   "source": [
    "dffdataproc"
   ]
  },
  {
   "cell_type": "code",
   "execution_count": 20,
   "id": "c1b3a92a-8512-45e4-bafb-ddf3bc3e4bdf",
   "metadata": {},
   "outputs": [
    {
     "name": "stderr",
     "output_type": "stream",
     "text": [
      "/tmp/ipykernel_8193/3996201335.py:1: FutureWarning: As the xlwt package is no longer maintained, the xlwt engine will be removed in a future version of pandas. This is the only engine in pandas that supports writing in the xls format. Install openpyxl and write to an xlsx file instead. You can set the option io.excel.xls.writer to 'xlwt' to silence this warning. While this option is deprecated and will also raise a warning, it can be globally set and the warning suppressed.\n",
      "  dffdataproc.to_excel('gs://bucket-estilo-vida/dados_tratados/Dataproc/dffdataproc.xls',index=False)\n"
     ]
    }
   ],
   "source": [
    "dffdataproc.to_excel('gs://bucket-estilo-vida/dados_tratados/Dataproc/dffdataproc.xls',index=False)"
   ]
  }
 ],
 "metadata": {
  "kernelspec": {
   "display_name": "Python 3",
   "language": "python",
   "name": "python3"
  },
  "language_info": {
   "codemirror_mode": {
    "name": "ipython",
    "version": 3
   },
   "file_extension": ".py",
   "mimetype": "text/x-python",
   "name": "python",
   "nbconvert_exporter": "python",
   "pygments_lexer": "ipython3",
   "version": "3.8.12"
  }
 },
 "nbformat": 4,
 "nbformat_minor": 5
}