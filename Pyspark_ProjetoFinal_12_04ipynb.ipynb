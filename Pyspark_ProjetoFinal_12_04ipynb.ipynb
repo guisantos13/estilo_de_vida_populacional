{
  "nbformat": 4,
  "nbformat_minor": 0,
  "metadata": {
    "colab": {
      "name": "Pyspark_ProjetoFinal_12_04ipynb.ipynb",
      "provenance": [],
      "collapsed_sections": [
        "W2042QtXMa9h",
        "de37J3-IKqfV",
        "IErrP6_4kG7C",
        "GMk6zsgm9-0g",
        "M7x9OEwEX7KF",
        "-EH7n155Y0_o",
        "l6fjoXTBbDum",
        "DQYGXFXfdfHS",
        "K2Ifl0iBfp6x",
        "cQsn4B8ThPjG",
        "PZLX6GBYjb6O",
        "HYO6Sil0ksLC",
        "S3hD1Zk5oI0c",
        "lDAFORewoYBQ",
        "2oJ-5HJjYJV-"
      ]
    },
    "kernelspec": {
      "name": "python3",
      "display_name": "Python 3"
    },
    "language_info": {
      "name": "python"
    }
  },
  "cells": [
    {
      "cell_type": "markdown",
      "source": [
        "#INSTALAÇÃO E IMPORTAÇÃO DAS BIBLIOTECAS UTILIZADAS"
      ],
      "metadata": {
        "id": "BMBbknAVRrQG"
      }
    },
    {
      "cell_type": "code",
      "source": [
        "pip install mysql-connector-python"
      ],
      "metadata": {
        "id": "WmSHLIEKOzv4",
        "colab": {
          "base_uri": "https://localhost:8080/"
        },
        "outputId": "4715e1f8-f5ad-4f91-a7bb-d7b017517a1e"
      },
      "execution_count": null,
      "outputs": [
        {
          "output_type": "stream",
          "name": "stdout",
          "text": [
            "Requirement already satisfied: mysql-connector-python in /usr/local/lib/python3.7/dist-packages (8.0.28)\n",
            "Requirement already satisfied: protobuf>=3.0.0 in /usr/local/lib/python3.7/dist-packages (from mysql-connector-python) (3.17.3)\n",
            "Requirement already satisfied: six>=1.9 in /usr/local/lib/python3.7/dist-packages (from protobuf>=3.0.0->mysql-connector-python) (1.15.0)\n"
          ]
        }
      ]
    },
    {
      "cell_type": "code",
      "source": [
        "pip install xlrd"
      ],
      "metadata": {
        "id": "5OHRF--3s1ab",
        "colab": {
          "base_uri": "https://localhost:8080/"
        },
        "outputId": "93119386-9373-4e45-e7e4-eeed303d8593"
      },
      "execution_count": null,
      "outputs": [
        {
          "output_type": "stream",
          "name": "stdout",
          "text": [
            "Requirement already satisfied: xlrd in /usr/local/lib/python3.7/dist-packages (2.0.1)\n"
          ]
        }
      ]
    },
    {
      "cell_type": "code",
      "source": [
        "pip install --upgrade xlrd"
      ],
      "metadata": {
        "id": "1zUk6_DbeFXs",
        "colab": {
          "base_uri": "https://localhost:8080/"
        },
        "outputId": "2a4bf6b6-6ef7-4b87-c806-957744b6b4fa"
      },
      "execution_count": null,
      "outputs": [
        {
          "output_type": "stream",
          "name": "stdout",
          "text": [
            "Requirement already satisfied: xlrd in /usr/local/lib/python3.7/dist-packages (2.0.1)\n"
          ]
        }
      ]
    },
    {
      "cell_type": "code",
      "source": [
        "pip install pyspark"
      ],
      "metadata": {
        "id": "oaorXOFbmB8Z",
        "colab": {
          "base_uri": "https://localhost:8080/"
        },
        "outputId": "53d477e1-71a3-45fe-eda6-cb18dde20c2f"
      },
      "execution_count": null,
      "outputs": [
        {
          "output_type": "stream",
          "name": "stdout",
          "text": [
            "Requirement already satisfied: pyspark in /usr/local/lib/python3.7/dist-packages (3.2.1)\n",
            "Requirement already satisfied: py4j==0.10.9.3 in /usr/local/lib/python3.7/dist-packages (from pyspark) (0.10.9.3)\n"
          ]
        }
      ]
    },
    {
      "cell_type": "code",
      "source": [
        "pip install gcsfs"
      ],
      "metadata": {
        "id": "PVW5CQgfmTkW",
        "colab": {
          "base_uri": "https://localhost:8080/"
        },
        "outputId": "7f3df17b-7fc5-4427-d472-4629abfe0789"
      },
      "execution_count": null,
      "outputs": [
        {
          "output_type": "stream",
          "name": "stdout",
          "text": [
            "Requirement already satisfied: gcsfs in /usr/local/lib/python3.7/dist-packages (2022.3.0)\n",
            "Requirement already satisfied: decorator>4.1.2 in /usr/local/lib/python3.7/dist-packages (from gcsfs) (4.4.2)\n",
            "Requirement already satisfied: fsspec==2022.3.0 in /usr/local/lib/python3.7/dist-packages (from gcsfs) (2022.3.0)\n",
            "Requirement already satisfied: aiohttp<4 in /usr/local/lib/python3.7/dist-packages (from gcsfs) (3.8.1)\n",
            "Requirement already satisfied: google-auth>=1.2 in /usr/local/lib/python3.7/dist-packages (from gcsfs) (1.35.0)\n",
            "Requirement already satisfied: google-cloud-storage in /usr/local/lib/python3.7/dist-packages (from gcsfs) (1.18.1)\n",
            "Requirement already satisfied: requests in /usr/local/lib/python3.7/dist-packages (from gcsfs) (2.23.0)\n",
            "Requirement already satisfied: google-auth-oauthlib in /usr/local/lib/python3.7/dist-packages (from gcsfs) (0.4.6)\n",
            "Requirement already satisfied: yarl<2.0,>=1.0 in /usr/local/lib/python3.7/dist-packages (from aiohttp<4->gcsfs) (1.7.2)\n",
            "Requirement already satisfied: aiosignal>=1.1.2 in /usr/local/lib/python3.7/dist-packages (from aiohttp<4->gcsfs) (1.2.0)\n",
            "Requirement already satisfied: asynctest==0.13.0 in /usr/local/lib/python3.7/dist-packages (from aiohttp<4->gcsfs) (0.13.0)\n",
            "Requirement already satisfied: charset-normalizer<3.0,>=2.0 in /usr/local/lib/python3.7/dist-packages (from aiohttp<4->gcsfs) (2.0.12)\n",
            "Requirement already satisfied: async-timeout<5.0,>=4.0.0a3 in /usr/local/lib/python3.7/dist-packages (from aiohttp<4->gcsfs) (4.0.2)\n",
            "Requirement already satisfied: multidict<7.0,>=4.5 in /usr/local/lib/python3.7/dist-packages (from aiohttp<4->gcsfs) (6.0.2)\n",
            "Requirement already satisfied: frozenlist>=1.1.1 in /usr/local/lib/python3.7/dist-packages (from aiohttp<4->gcsfs) (1.3.0)\n",
            "Requirement already satisfied: typing-extensions>=3.7.4 in /usr/local/lib/python3.7/dist-packages (from aiohttp<4->gcsfs) (3.10.0.2)\n",
            "Requirement already satisfied: attrs>=17.3.0 in /usr/local/lib/python3.7/dist-packages (from aiohttp<4->gcsfs) (21.4.0)\n",
            "Requirement already satisfied: six>=1.9.0 in /usr/local/lib/python3.7/dist-packages (from google-auth>=1.2->gcsfs) (1.15.0)\n",
            "Requirement already satisfied: pyasn1-modules>=0.2.1 in /usr/local/lib/python3.7/dist-packages (from google-auth>=1.2->gcsfs) (0.2.8)\n",
            "Requirement already satisfied: cachetools<5.0,>=2.0.0 in /usr/local/lib/python3.7/dist-packages (from google-auth>=1.2->gcsfs) (4.2.4)\n",
            "Requirement already satisfied: setuptools>=40.3.0 in /usr/local/lib/python3.7/dist-packages (from google-auth>=1.2->gcsfs) (57.4.0)\n",
            "Requirement already satisfied: rsa<5,>=3.1.4 in /usr/local/lib/python3.7/dist-packages (from google-auth>=1.2->gcsfs) (4.8)\n",
            "Requirement already satisfied: pyasn1<0.5.0,>=0.4.6 in /usr/local/lib/python3.7/dist-packages (from pyasn1-modules>=0.2.1->google-auth>=1.2->gcsfs) (0.4.8)\n",
            "Requirement already satisfied: idna>=2.0 in /usr/local/lib/python3.7/dist-packages (from yarl<2.0,>=1.0->aiohttp<4->gcsfs) (2.10)\n",
            "Requirement already satisfied: requests-oauthlib>=0.7.0 in /usr/local/lib/python3.7/dist-packages (from google-auth-oauthlib->gcsfs) (1.3.1)\n",
            "Requirement already satisfied: oauthlib>=3.0.0 in /usr/local/lib/python3.7/dist-packages (from requests-oauthlib>=0.7.0->google-auth-oauthlib->gcsfs) (3.2.0)\n",
            "Requirement already satisfied: urllib3!=1.25.0,!=1.25.1,<1.26,>=1.21.1 in /usr/local/lib/python3.7/dist-packages (from requests->gcsfs) (1.24.3)\n",
            "Requirement already satisfied: certifi>=2017.4.17 in /usr/local/lib/python3.7/dist-packages (from requests->gcsfs) (2021.10.8)\n",
            "Requirement already satisfied: chardet<4,>=3.0.2 in /usr/local/lib/python3.7/dist-packages (from requests->gcsfs) (3.0.4)\n",
            "Requirement already satisfied: google-cloud-core<2.0dev,>=1.0.0 in /usr/local/lib/python3.7/dist-packages (from google-cloud-storage->gcsfs) (1.0.3)\n",
            "Requirement already satisfied: google-resumable-media<0.5.0dev,>=0.3.1 in /usr/local/lib/python3.7/dist-packages (from google-cloud-storage->gcsfs) (0.4.1)\n",
            "Requirement already satisfied: google-api-core<2.0.0dev,>=1.14.0 in /usr/local/lib/python3.7/dist-packages (from google-cloud-core<2.0dev,>=1.0.0->google-cloud-storage->gcsfs) (1.26.3)\n",
            "Requirement already satisfied: protobuf>=3.12.0 in /usr/local/lib/python3.7/dist-packages (from google-api-core<2.0.0dev,>=1.14.0->google-cloud-core<2.0dev,>=1.0.0->google-cloud-storage->gcsfs) (3.17.3)\n",
            "Requirement already satisfied: googleapis-common-protos<2.0dev,>=1.6.0 in /usr/local/lib/python3.7/dist-packages (from google-api-core<2.0.0dev,>=1.14.0->google-cloud-core<2.0dev,>=1.0.0->google-cloud-storage->gcsfs) (1.56.0)\n",
            "Requirement already satisfied: packaging>=14.3 in /usr/local/lib/python3.7/dist-packages (from google-api-core<2.0.0dev,>=1.14.0->google-cloud-core<2.0dev,>=1.0.0->google-cloud-storage->gcsfs) (21.3)\n",
            "Requirement already satisfied: pytz in /usr/local/lib/python3.7/dist-packages (from google-api-core<2.0.0dev,>=1.14.0->google-cloud-core<2.0dev,>=1.0.0->google-cloud-storage->gcsfs) (2018.9)\n",
            "Requirement already satisfied: pyparsing!=3.0.5,>=2.0.2 in /usr/local/lib/python3.7/dist-packages (from packaging>=14.3->google-api-core<2.0.0dev,>=1.14.0->google-cloud-core<2.0dev,>=1.0.0->google-cloud-storage->gcsfs) (3.0.7)\n"
          ]
        }
      ]
    },
    {
      "cell_type": "code",
      "source": [
        "pip install pymongo[srv]"
      ],
      "metadata": {
        "id": "csdsYLsBTfmD",
        "colab": {
          "base_uri": "https://localhost:8080/"
        },
        "outputId": "99118d88-b95d-4366-b315-84e6ba064f2e"
      },
      "execution_count": null,
      "outputs": [
        {
          "output_type": "stream",
          "name": "stdout",
          "text": [
            "Requirement already satisfied: pymongo[srv] in /usr/local/lib/python3.7/dist-packages (4.0.2)\n",
            "Requirement already satisfied: dnspython<3.0.0,>=1.16.0 in /usr/local/lib/python3.7/dist-packages (from pymongo[srv]) (2.2.1)\n"
          ]
        }
      ]
    },
    {
      "cell_type": "code",
      "execution_count": null,
      "metadata": {
        "id": "cef1c808"
      },
      "outputs": [],
      "source": [
        "#Importação das principais bibliotecas utilizadas\n",
        "from pyspark.sql import SparkSession\n",
        "from pyspark import SparkConf\n",
        "import pyspark.sql.functions as F\n",
        "from pyspark.sql.functions import col\n",
        "from pyspark.sql.functions import round\n",
        "import mysql.connector\n",
        "from sqlalchemy import create_engine\n",
        "import pymongo\n",
        "from pymongo import MongoClient"
      ]
    },
    {
      "cell_type": "code",
      "execution_count": null,
      "metadata": {
        "id": "a16ada23"
      },
      "outputs": [],
      "source": [
        "import pandas as pd\n",
        "from google.cloud import storage\n",
        "import os\n",
        "import xlrd\n",
        "import matplotlib.pyplot as plt\n",
        "import numpy as np\n",
        "#CRIAÇÃO DA STRUCT PARA FIXAR O ESQUEMA PARA A UTILIZAÇÃO DO PYSPARK\n",
        "from pyspark.sql.types import StructType, StructField, StringType, IntegerType, FloatType\n"
      ]
    },
    {
      "cell_type": "code",
      "source": [
        ""
      ],
      "metadata": {
        "id": "ttAC5EGu1XRg"
      },
      "execution_count": null,
      "outputs": []
    },
    {
      "cell_type": "code",
      "source": [
        ""
      ],
      "metadata": {
        "id": "vqBZ1S4W1ecR"
      },
      "execution_count": null,
      "outputs": []
    },
    {
      "cell_type": "markdown",
      "source": [
        "# CONEXÃO COM O GCP"
      ],
      "metadata": {
        "id": "yH8UigkNI6hN"
      }
    },
    {
      "cell_type": "code",
      "source": [
        "#Serviço de autenticação via chave JSON.\n",
        "serviceAccount='/content/bc12-estilo-de-vida-proj-final-ce1a0518f51e.json'\n",
        "os.environ['GOOGLE_APPLICATION_CREDENTIALS']=serviceAccount\n",
        "client=storage.Client()\n",
        "bucket=client.get_bucket('bucket-estilo-vida')"
      ],
      "metadata": {
        "id": "ygjCvlrLmoQh"
      },
      "execution_count": null,
      "outputs": []
    },
    {
      "cell_type": "markdown",
      "source": [
        "#Conexão MongoDB"
      ],
      "metadata": {
        "id": "eroRtPm7TNcD"
      }
    },
    {
      "cell_type": "code",
      "source": [
        "#Criando a conexão com o MongoDB\n",
        "client = pymongo.MongoClient(\"\")"
      ],
      "metadata": {
        "id": "oZCXM-3vTLGt"
      },
      "execution_count": null,
      "outputs": []
    },
    {
      "cell_type": "markdown",
      "source": [
        "#SPARK"
      ],
      "metadata": {
        "id": "W2042QtXMa9h"
      }
    },
    {
      "cell_type": "code",
      "source": [
        "# DEFININDO O ESQUEMA PARA O DF\n",
        "esquema = (\n",
        "\tStructType([\n",
        "\tStructField(\"ano\",IntegerType(), True),\n",
        "\tStructField(\"uf\", StringType(), True),\n",
        "\tStructField(\"municipio\", StringType(), True),\n",
        "\tStructField(\"renda_media\", FloatType(), True),\n",
        "\tStructField(\"tx_ativ_10_anos\", FloatType(), True),\n",
        "  StructField(\"tx_ativ_10-14_anos\", FloatType(), True),\n",
        "  StructField(\"tx_desocup_10_anos\", FloatType(), True),\n",
        "\tStructField(\"tx_desocup_adultos\", FloatType(), True),\n",
        "\tStructField(\"idhm_longevidade\", FloatType(), True),\n",
        "  StructField(\"idhm_renda\", FloatType(), True),\n",
        "  StructField(\"idhm_educacao\", FloatType(), True),\n",
        "  StructField(\"escol_fund_adulta\", FloatType(), True),\n",
        "  StructField(\"idhm\", FloatType(), True),\n",
        "  StructField(\"perc_ocup_18_anos\", FloatType(), True),\n",
        "  StructField(\"pop_rural\", IntegerType(), True),\n",
        "  StructField(\"pop_total\", IntegerType(), True),\n",
        "  StructField(\"pop_urb\", IntegerType(), True)\n",
        "\t])\n",
        ")"
      ],
      "metadata": {
        "id": "Rah-ABR7gGCJ"
      },
      "execution_count": null,
      "outputs": []
    },
    {
      "cell_type": "code",
      "source": [
        "# SparkSession\n",
        "\n",
        "spark = ( \n",
        "    SparkSession.builder\n",
        "          .master('local')\n",
        "          .appName('projeto-final')\n",
        "          .config('spark.ui.port','4050')\n",
        "          .config(\"spark.jars\", 'https://storage.googleapis.com/hadoop-lib/gcs/gcs-connector-hadoop2-latest.jar')          \n",
        "          .getOrCreate()\n",
        ")"
      ],
      "metadata": {
        "id": "5mOq-OBhiGpA"
      },
      "execution_count": null,
      "outputs": []
    },
    {
      "cell_type": "code",
      "source": [
        "# IMPORTANDO O DF PARA O PySpark\n",
        "\n",
        "path = 'gs://bucket-estilo-vida/dados_tratados/Tratados_pandas/df.csv'\n",
        "\n",
        "dfs = (\n",
        "    spark.read.format('csv')\n",
        "    .option('delimiter',',')\n",
        "    .option('header','true')\n",
        "    .option('inferschema','true')\n",
        "    .load(path)\n",
        "\n",
        ")"
      ],
      "metadata": {
        "id": "apa5BLbPVkI4"
      },
      "execution_count": null,
      "outputs": []
    },
    {
      "cell_type": "code",
      "execution_count": null,
      "metadata": {
        "id": "1fa82efb",
        "colab": {
          "base_uri": "https://localhost:8080/"
        },
        "outputId": "56985d15-70d9-4d02-bc04-4a394503b8cb"
      },
      "outputs": [
        {
          "output_type": "stream",
          "name": "stdout",
          "text": [
            "+----+---+--------------------+-----------+---------------+------------------+------------------+------------------+----------------+----------+-------------+-----------------+-----+-----------------+---------+---------+-------+\n",
            "| ano| uf|           municipio|renda_media|tx_ativ_10_anos|tx_ativ_10-14_anos|tx_desocup_10_anos|tx_desocup_adultos|idhm_longevidade|idhm_renda|idhm_educacao|escol_fund_adulta| idhm|perc_ocup_18_anos|pop_rural|pop_total|pop_urb|\n",
            "+----+---+--------------------+-----------+---------------+------------------+------------------+------------------+----------------+----------+-------------+-----------------+-----+-----------------+---------+---------+-------+\n",
            "|1991| RO|ALTA FLORESTA D'O...|     198.46|           null|              null|              null|              null|           0.617|     0.516|        0.112|            0.117|0.329|             null|    14167|    23546|   9379|\n",
            "|1991| RO|           ARIQUEMES|     319.47|           null|              null|              null|              null|           0.684|     0.593|        0.199|              0.2|0.432|             null|    11529|    56812|  45283|\n",
            "|1991| RO|              CABIXI|     116.38|           null|              null|              null|              null|           0.636|      0.43|        0.108|            0.111|0.309|             null|     5760|     7676|   1916|\n",
            "|1991| RO|              CACOAL|     320.24|           null|              null|              null|              null|           0.667|     0.593|        0.171|            0.176|0.407|             null|    27036|    69725|  42689|\n",
            "|1991| RO|          CEREJEIRAS|      240.1|           null|              null|              null|              null|           0.629|     0.547|        0.167|            0.152|0.386|             null|     5316|    19371|  14055|\n",
            "|1991| RO|   COLORADO DO OESTE|     224.82|           null|              null|              null|              null|           0.658|     0.536|        0.151|            0.148|0.376|             null|    10369|    25664|  15295|\n",
            "|1991| RO|          CORUMBIARA|      81.38|           null|              null|              null|              null|           0.572|     0.373|        0.039|            0.035|0.203|             null|    11897|    11897|      0|\n",
            "|1991| RO|       COSTA MARQUES|     250.08|           null|              null|              null|              null|           0.629|     0.553|         0.22|            0.236|0.425|             null|     1193|     7806|   6613|\n",
            "|1991| RO|     ESPIGÃO D'OESTE|     263.03|           null|              null|              null|              null|           0.653|     0.561|        0.159|            0.158|0.388|             null|    11970|    23156|  11186|\n",
            "|1991| RO|       GUAJARÁ-MIRIM|     391.37|           null|              null|              null|              null|           0.662|     0.625|        0.247|            0.319|0.468|             null|     5177|    32583|  27406|\n",
            "|1991| RO|                JARU|     221.53|           null|              null|              null|              null|           0.658|     0.534|        0.124|            0.123|0.352|             null|    21926|    49601|  27675|\n",
            "|1991| RO|           JI-PARANÁ|     312.09|           null|              null|              null|              null|           0.659|     0.589|        0.209|            0.223|0.433|             null|    25312|   100726|  75414|\n",
            "|1991| RO|  MACHADINHO D'OESTE|     220.98|           null|              null|              null|              null|           0.591|     0.533|        0.074|            0.132|0.286|             null|     6883|    11774|   4891|\n",
            "|1991| RO|NOVA BRASILÂNDIA ...|     109.75|           null|              null|              null|              null|           0.607|     0.421|        0.079|            0.069|0.272|             null|    14282|    19313|   5031|\n",
            "|1991| RO| OURO PRETO DO OESTE|     276.84|           null|              null|              null|              null|           0.629|      0.57|        0.155|             0.16|0.382|             null|    14219|    37805|  23586|\n",
            "|1991| RO|       PIMENTA BUENO|     332.51|           null|              null|              null|              null|           0.629|     0.599|        0.185|            0.202|0.412|             null|     6405|    31910|  25505|\n",
            "|1991| RO|         PORTO VELHO|     486.43|           null|              null|              null|              null|           0.633|      0.66|         0.29|            0.383|0.495|             null|    41653|   271441| 229788|\n",
            "|1991| RO|   PRESIDENTE MÉDICI|     187.85|           null|              null|              null|              null|           0.647|     0.507|        0.128|            0.111|0.348|             null|    18924|    29727|  10803|\n",
            "|1991| RO|          RIO CRESPO|     140.95|           null|              null|              null|              null|           0.578|     0.461|        0.065|            0.104|0.259|             null|     2696|     2696|      0|\n",
            "|1991| RO|      ROLIM DE MOURA|      251.8|           null|              null|              null|              null|           0.665|     0.554|        0.153|            0.157|0.383|             null|    15658|    43930|  28272|\n",
            "+----+---+--------------------+-----------+---------------+------------------+------------------+------------------+----------------+----------+-------------+-----------------+-----+-----------------+---------+---------+-------+\n",
            "only showing top 20 rows\n",
            "\n"
          ]
        }
      ],
      "source": [
        "dfs.show()"
      ]
    },
    {
      "cell_type": "code",
      "source": [
        "# DEFININDO O SCHEMA PARA O DFF\n",
        "\n",
        "schema = (\n",
        "    StructType([\n",
        "        StructField(\"Country Name\",StringType(), True),\n",
        "        StructField(\"Indicator Name\" ,StringType(), True),\n",
        "        StructField(\"1991\", FloatType(), True),\n",
        "        StructField(\"1992\", FloatType(), True),\n",
        "        StructField(\"1993\", FloatType(), True),\n",
        "        StructField(\"1994\", FloatType(), True),\n",
        "        StructField(\"1995\", FloatType(), True),\n",
        "        StructField(\"1996\", FloatType(), True),\n",
        "        StructField(\"1997\", FloatType(), True),\n",
        "        StructField(\"1998\", FloatType(), True),\n",
        "        StructField(\"1999\", FloatType(), True),\n",
        "        StructField(\"2000\" , FloatType(), True),\n",
        "        StructField(\"2001\" , FloatType(), True),\n",
        "        StructField(\"2002\" , FloatType(), True),\n",
        "        StructField(\"2003\" , FloatType(), True),\n",
        "        StructField(\"2004\" , FloatType(), True),\n",
        "        StructField(\"2005\" , FloatType(), True),\n",
        "        StructField(\"2006\" , FloatType(), True),\n",
        "        StructField(\"2007\" , FloatType(), True),\n",
        "        StructField(\"2008\" , FloatType(), True),\n",
        "        StructField(\"2009\" , FloatType(), True),\n",
        "        StructField(\"2010\", FloatType(), True),\n",
        "        StructField(\"2011\", FloatType(), True),\n",
        "        StructField(\"2012\", FloatType(), True),\n",
        "        StructField(\"2013\", FloatType(), True),\n",
        "        StructField(\"2014\", FloatType(), True),\n",
        "        StructField(\"2015\", FloatType(), True),\n",
        "        StructField(\"2016\", FloatType(), True),\n",
        "        StructField(\"2017\", FloatType(), True),\n",
        "        StructField(\"2018\", FloatType(), True),\n",
        "        StructField(\"2019\", FloatType(), True),\n",
        "        StructField(\"2020\", FloatType(), True)\n",
        "            ]))\n"
      ],
      "metadata": {
        "id": "r7eRQBOyTrJn"
      },
      "execution_count": null,
      "outputs": []
    },
    {
      "cell_type": "code",
      "source": [
        "# IMPORTANDO O DFF PARA O PySpark\n",
        "\n",
        "path = 'gs://bucket-estilo-vida/dados_tratados/Tratados_pandas/dff.csv'\n",
        "\n",
        "dffspark = (\n",
        "    spark.read.format('csv')\n",
        "    .option('delimiter',',')\n",
        "    .option('header','true')\n",
        "    .option('inferschema','true')\n",
        "    .load(path)\n",
        "\n",
        ")"
      ],
      "metadata": {
        "id": "_gjsyoc-XKDW"
      },
      "execution_count": null,
      "outputs": []
    },
    {
      "cell_type": "code",
      "source": [
        "#Dropando coluna \"Country Name\", pois todos os dados são do Brasil\n",
        "dffspark = dffspark.drop(F.col(\"Country Name\"))"
      ],
      "metadata": {
        "id": "tE0knvPFTrJp"
      },
      "execution_count": null,
      "outputs": []
    },
    {
      "cell_type": "code",
      "source": [
        "#Dropando coluna \"Country Name\", pois todos os dados são do Brasil\n",
        "dffspark = dffspark.drop(F.col(\"Country Code\"))"
      ],
      "metadata": {
        "id": "2dn9S1MZ60bi"
      },
      "execution_count": null,
      "outputs": []
    },
    {
      "cell_type": "code",
      "source": [
        "#Dropando coluna \"Indicator Code\" pois a mesma se refere a sigla em inglês da coluna \"Indicator Name\" sendo desta forma apenas um repetição da informação\n",
        "dffspark = dffspark.drop(F.col(\"Indicator Code\"))"
      ],
      "metadata": {
        "id": "5tGOKgOwTrJp"
      },
      "execution_count": null,
      "outputs": []
    },
    {
      "cell_type": "code",
      "source": [
        "#Renomeando a coluna Indicator Name\n",
        "dffspark = dffspark.withColumnRenamed('Indicator Name','indicador')"
      ],
      "metadata": {
        "id": "7gXdcQVqTrJq"
      },
      "execution_count": null,
      "outputs": []
    },
    {
      "cell_type": "code",
      "source": [
        "dffspark.show(50,truncate=False)"
      ],
      "metadata": {
        "id": "UnoZH_n4WuG1",
        "colab": {
          "base_uri": "https://localhost:8080/"
        },
        "outputId": "5b25e51c-cf58-4c55-bd90-f61d98675db2"
      },
      "execution_count": null,
      "outputs": [
        {
          "output_type": "stream",
          "name": "stdout",
          "text": [
            "+---------------------------------------------------------------------------------------------+---------------------+---------------------+---------------------+---------------------+---------------------+---------------------+---------------------+---------------------+---------------------+---------------------+---------------------+--------------------+---------------------+---------------------+---------------------+---------------------+---------------------+---------------------+---------------------+---------------------+---------------------+---------------------+---------------------+---------------------+---------------------+---------------------+---------------------+---------------------+---------------------+---------------------+\n",
            "|indicador                                                                                    |1991                 |1992                 |1993                 |1994                 |1995                 |1996                 |1997                 |1998                 |1999                 |2000                 |2001                 |2002                |2003                 |2004                 |2005                 |2006                 |2007                 |2008                 |2009                 |2010                 |2011                 |2012                 |2013                 |2014                 |2015                 |2016                 |2017                 |2018                 |2019                 |2020                 |\n",
            "+---------------------------------------------------------------------------------------------+---------------------+---------------------+---------------------+---------------------+---------------------+---------------------+---------------------+---------------------+---------------------+---------------------+---------------------+--------------------+---------------------+---------------------+---------------------+---------------------+---------------------+---------------------+---------------------+---------------------+---------------------+---------------------+---------------------+---------------------+---------------------+---------------------+---------------------+---------------------+---------------------+---------------------+\n",
            "|Exportações de alta tecnologia (% de exportações manufaturadas)                              |null                 |null                 |null                 |null                 |null                 |null                 |null                 |null                 |null                 |null                 |null                 |null                |null                 |null                 |null                 |null                 |12.609200038580607   |12.757724396567498   |14.75822057877675    |12.589452917244639   |11.140500011967337   |11.887213587482401   |11.969716858264032   |12.371055291792024   |14.485714879318962   |15.999958477236037   |14.311719242454693   |14.743912279247159   |14.06645875059223    |11.350047563414318   |\n",
            "|Índice de termos de permuta líquida (2000 = 100)                                             |78.90625             |81.96721311          |87.27272727          |100.952381           |110.3773585          |108.3333333          |114.4230769          |114.2857143          |103.1578947          |100.0                |99.7753485           |98.40117544         |97.25000194          |98.8866955           |99.71589304          |104.9823954          |108.793436           |112.6734729          |109.1113358          |127.2123978          |136.6428946          |129.3069759          |125.7597432          |121.4837064          |107.3474416          |109.9276522          |116.2341709          |114.7659498          |114.945085           |115.6160679          |\n",
            "|Comércio de mercadorias (% do PIB)                                                           |15.92689153307888    |17.94977573764493    |17.963551035141624   |15.177307908807173   |13.081845804305619   |12.314763033653014   |13.273906641983627   |12.943218165780626   |16.639926409309435   |17.35636806047378    |20.83435627626412    |21.609066685129662  |22.227965568663517   |24.370775784395672   |21.999726137269565   |21.094200563589098   |20.563386319250622   |22.426381508501233   |17.196918851451127   |17.812622775394686   |18.84459052427145    |19.307583041250936   |19.920177248953213   |18.902635466902737   |20.542810728969023   |18.30173372353287    |18.18654366958511    |22.318351340440206   |21.820625376628136   |26.036224864633017   |\n",
            "|População, total                                                                             |1.51648007E8         |1.54259382E8         |1.56849086E8         |1.59432717E8         |1.62019889E8         |1.64614682E8         |1.67209046E8         |1.69785253E8         |1.72318674E8         |1.74790339E8         |1.77196051E8         |1.79537523E8        |1.81809244E8         |1.84006479E8         |1.86127108E8         |1.88167353E8         |1.90130445E8         |1.92030362E8         |1.93886505E8         |1.95713637E8         |1.97514541E8         |1.99287292E8         |2.01035904E8         |2.02763744E8         |2.04471759E8         |2.06163056E8         |2.07833825E8         |2.0946932E8          |2.11049519E8         |2.12559409E8         |\n",
            "|Crescimento da população (anual %)                                                           |1.75941419381772     |1.70733923298647     |1.66486231216782     |1.6337888839804      |1.60971030654546     |1.58883830194468     |1.56373197369546     |1.52896188133332     |1.48110975211591     |1.42416744229362     |1.36695595542708     |1.31274754952678    |1.25737996705435     |1.20129414101631     |1.14588477164177     |1.09019257285986     |1.03786468320243     |0.994310571973971    |0.961946715342144    |0.937959306704135    |0.915965178459778    |0.893525506727112    |0.873605695817564    |0.855795964130977    |0.838838953278811    |0.823752152538353    |0.807145245445964    |0.783844259734468    |0.751550842096973    |0.712872791114979    |\n",
            "|Taxa de fertilidade, total (nascimentos por mulher)                                          |2.822                |2.754                |2.693                |2.639                |2.588                |2.536                |2.483                |2.426                |2.365                |2.3                  |2.232                |2.163               |2.097                |2.033                |1.976                |1.925                |1.882                |1.847                |1.818                |1.796                |1.781                |1.771                |1.764                |1.758                |1.753                |1.747                |1.739                |1.73                 |1.719                |null                 |\n",
            "|Expectativa de vida no nascimento, total (anos)                                              |66.742               |67.141               |67.539               |67.932               |68.318               |68.695               |69.061               |69.419               |69.769               |70.116               |70.462               |70.813              |71.17                |71.531               |71.896               |72.26                |72.618               |72.966               |73.3                 |73.619               |73.921               |74.209               |74.483               |74.745               |74.994               |75.23                |75.456               |75.672               |75.881               |null                 |\n",
            "|Taxa de mortalidade infantil (por 1.000 nascidos vivos):                                     |50.6                 |48.4                 |46.0                 |43.5                 |41.1                 |38.7                 |36.5                 |34.3                 |32.3                 |30.4                 |28.5                 |26.8                |25.1                 |23.5                 |22.0                 |20.7                 |19.5                 |18.4                 |17.5                 |16.7                 |16.0                 |15.4                 |14.9                 |14.6                 |14.2                 |15.0                 |13.8                 |13.6                 |13.3                 |13.1                 |\n",
            "|Uso de método anticoncepcional (% de mulheres de 15 a 19 anos de idade)                      |59.2                 |null                 |null                 |null                 |null                 |76.7                 |null                 |null                 |null                 |null                 |null                 |null                |null                 |null                 |null                 |80.3                 |80.6                 |null                 |null                 |null                 |null                 |null                 |80.2                 |null                 |null                 |null                 |null                 |null                 |null                 |null                 |\n",
            "|Taxa de fertilidade de adolescentes (nascimentos por 1.000 mulheres de 15 a 19 anos de idade)|83.3338              |83.727               |83.834               |83.941               |84.048               |84.155               |84.262               |83.578               |82.894               |82.21                |81.526               |80.842              |78.904               |76.966               |75.028               |73.09                |71.152               |69.7322              |68.3124              |66.8926              |65.4728              |64.053               |63.0646              |62.0762              |61.0878              |60.0994              |59.111               |57.8858              |56.6606              |null                 |\n",
            "|Migração, total líquido                                                                      |null                 |0.0                  |null                 |null                 |null                 |null                 |0.0                  |null                 |null                 |null                 |null                 |0.0                 |null                 |null                 |null                 |null                 |0.0                  |null                 |null                 |null                 |null                 |15924.0              |null                 |null                 |null                 |null                 |106000.0             |null                 |null                 |null                 |\n",
            "|Desemprego, total (% da força de trabalho total)                                             |6.31400012969971     |6.42000007629395     |6.03000020980835     |6.16900014877319     |6.42000007629395     |7.25                 |8.15999984741211     |9.42000007629395     |10.210000038147      |9.56099987030029     |9.60999965667725     |9.36999988555908    |9.98999977111816     |9.10999965667725     |9.56999969482422     |8.64000034332275     |8.32999992370605     |7.34000015258789     |8.52000045776367     |7.27400016784668     |6.92000007629395     |7.19000005722046     |6.98000001907349     |6.65999984741211     |8.43000030517578     |11.6000003814697     |12.8199996948242     |12.3299999237061     |11.9300003051758     |13.6899995803833     |\n",
            "|Pobreza, linha de pobreza nacional (% da população)                                          |null                 |null                 |null                 |null                 |null                 |null                 |null                 |null                 |null                 |null                 |null                 |null                |null                 |null                 |null                 |null                 |null                 |null                 |null                 |null                 |null                 |null                 |null                 |null                 |null                 |null                 |null                 |null                 |null                 |null                 |\n",
            "|Índice de Gini                                                                               |null                 |53.2                 |60.1                 |null                 |59.6                 |59.9                 |59.8                 |59.6                 |59.0                 |null                 |58.4                 |58.1                |57.6                 |56.5                 |56.3                 |55.6                 |54.9                 |54.0                 |53.7                 |null                 |52.9                 |53.5                 |52.8                 |52.1                 |51.9                 |53.3                 |53.3                 |53.9                 |53.4                 |null                 |\n",
            "|Pobreza, US$1,90/dia (PPP) (% da população)                                                  |null                 |20.7                 |19.8                 |null                 |12.9                 |14.1                 |14.0                 |12.7                 |13.3                 |null                 |11.5                 |10.2                |11.0                 |9.7                  |8.6                  |7.2                  |6.7                  |5.5                  |5.4                  |null                 |4.7                  |3.7                  |3.1                  |2.7                  |3.2                  |3.9                  |4.4                  |4.4                  |4.6                  |null                 |\n",
            "|Participação da renda dos 20% mais pobres                                                    |null                 |2.8                  |2.4                  |null                 |2.4                  |2.2                  |2.3                  |2.4                  |2.5                  |null                 |2.5                  |2.6                 |2.6                  |2.9                  |2.9                  |3.0                  |3.0                  |3.2                  |3.2                  |null                 |3.3                  |3.3                  |3.5                  |3.6                  |3.6                  |3.3                  |3.2                  |3.1                  |3.1                  |null                 |\n",
            "|Prevalência da desnutrição, peso para a idade (% de crianças menores de 5 anos):             |null                 |null                 |null                 |null                 |null                 |4.5                  |null                 |null                 |null                 |null                 |null                 |null                |null                 |null                 |null                 |null                 |2.2                  |null                 |null                 |null                 |null                 |null                 |null                 |null                 |null                 |null                 |null                 |null                 |null                 |null                 |\n",
            "|Partos assistidos por pessoal de saúde qualificado (% do total):                             |69.5                 |null                 |null                 |null                 |null                 |87.6                 |98.6                 |98.6                 |98.6                 |98.6                 |98.3                 |98.5                |98.4                 |98.6                 |98.6                 |97.0                 |98.6                 |98.8                 |98.9                 |98.9                 |99.0                 |99.0                 |99.1                 |99.1                 |99.1                 |99.1                 |99.1                 |null                 |null                 |null                 |\n",
            "|Imunização, sarampo (% de crianças de 12 a 23 meses)                                         |85.0                 |91.0                 |85.0                 |77.0                 |87.0                 |80.0                 |99.0                 |95.0                 |99.0                 |99.0                 |99.0                 |96.0                |97.0                 |97.0                 |98.0                 |99.0                 |99.0                 |99.0                 |99.0                 |99.0                 |99.0                 |99.0                 |98.0                 |97.0                 |96.0                 |95.0                 |91.0                 |92.0                 |91.0                 |null                 |\n",
            "|Taxa de mortalidade, menores de 5 anos (por 1.000 nascidos vivos)                            |60.4                 |57.4                 |54.3                 |51.1                 |48.0                 |45.0                 |42.2                 |39.6                 |37.1                 |34.7                 |32.5                 |30.4                |28.4                 |26.5                 |24.8                 |23.2                 |21.8                 |20.6                 |19.5                 |18.6                 |17.9                 |17.2                 |16.7                 |16.3                 |15.9                 |16.7                 |15.4                 |15.2                 |14.9                 |14.7                 |\n",
            "|Prevalência de HIV, total (% de população de 15 a 49 anos)                                   |0.2                  |0.2                  |0.2                  |0.2                  |0.2                  |0.3                  |0.3                  |0.3                  |0.3                  |0.3                  |0.3                  |0.4                 |0.4                  |0.4                  |0.4                  |0.4                  |0.4                  |0.4                  |0.5                  |0.5                  |0.5                  |0.5                  |0.5                  |0.5                  |0.5                  |0.5                  |0.5                  |0.5                  |0.5                  |0.6                  |\n",
            "|Despesa pública na educação, total (% do PIB)                                                |null                 |null                 |null                 |null                 |4.56816005706787     |null                 |null                 |4.75665998458862     |3.80062007904053     |3.94893002510071     |3.84468007087708     |3.75037002563477    |null                 |3.97447991371155     |4.47908020019531     |4.87060022354126     |4.97425985336304     |5.26883983612061     |5.46355009078979     |5.64879989624023     |5.73741006851196     |5.85510015487671     |5.8388500213623      |5.94848012924194     |6.24105978012085     |6.314040184021       |6.32047986984253     |6.08851003646851     |null                 |null                 |\n",
            "|Matrícula escolar, ensino médio (% bruto)                                                    |null                 |null                 |null                 |null                 |null                 |null                 |null                 |null                 |null                 |null                 |null                 |109.994216918945    |101.868667602539     |102.371032714844     |101.2919921875       |null                 |95.1699981689453     |96.7201232910156     |96.6654815673828     |null                 |95.2633819580078     |93.4202880859375     |102.603576660156     |101.388526916504     |100.608169555664     |102.063262939453     |101.313789367676     |105.00910949707      |103.952377319336     |null                 |\n",
            "|Taxa de Matrícula Líquida Ajustada                                                           |null                 |null                 |null                 |null                 |null                 |null                 |null                 |null                 |98.07272             |null                 |98.85493             |96.72741            |94.29506             |95.58531             |96.07993             |null                 |92.47411             |98.53831             |96.58508             |null                 |95.69718             |98.54993             |97.32389             |97.4362              |96.85231             |97.20202             |97.55117             |null                 |null                 |null                 |\n",
            "|Matrícula escolar, ensino fundamental (% bruto)                                              |null                 |null                 |null                 |null                 |null                 |null                 |null                 |null                 |165.645385742188     |null                 |150.785552978516     |146.827789306641    |140.544494628906     |133.696304321289     |133.262161254883     |null                 |128.179794311523     |132.055206298828     |131.165161132813     |null                 |106.985061645508     |108.819023132324     |114.502769470215     |114.858200073242     |113.369972229004     |114.520278930664     |115.971778869629     |114.476531982422     |111.965782165527     |null                 |\n",
            "|Taxa de conclusão do ensino fundamental, total (% de faixa etária relevante)                 |null                 |null                 |null                 |null                 |null                 |null                 |null                 |null                 |null                 |null                 |112.229606628418     |114.199432373047    |109.366607666016     |100.684646606445     |null                 |null                 |null                 |null                 |null                 |null                 |null                 |null                 |null                 |null                 |null                 |null                 |null                 |null                 |null                 |null                 |\n",
            "|Proporção meninas/meninos nos ensinos fundamental e médio (%)                                |null                 |null                 |null                 |null                 |null                 |null                 |null                 |null                 |null                 |null                 |null                 |1.0129599571228     |1.03544998168945     |1.03352999687195     |1.02884995937347     |null                 |1.04399001598358     |1.03873002529144     |1.04416000843048     |null                 |1.02467000484467     |1.03052997589111     |1.02643001079559     |1.0327399969101      |1.01532995700836     |1.017009973526       |1.00376999378204     |1.00705003738403     |1.01245999336243     |null                 |\n",
            "|Taxa de alfabetização, total de adultos (% de pessoas com 15 anos ou mais)                   |null                 |null                 |null                 |null                 |null                 |null                 |null                 |null                 |null                 |86.3678817749023     |null                 |null                |null                 |88.6162414550781     |null                 |89.6152267456055     |90.0093688964844     |90.03662109375       |90.298210144043      |90.3791809082031     |91.4112396240234     |91.3378524780273     |91.4842376708984     |91.7294311523438     |92.0478973388672     |92.8084411621094     |93.0758209228516     |93.2275009155273     |null                 |null                 |\n",
            "|RNB per capita, PPP ($ internacional atual)                                                  |6720.0               |6740.0               |7080.0               |7590.0               |7970.0               |8060.0               |8310.0               |8200.0               |8160.0               |8800.0               |8960.0               |9250.0              |9420.0               |10140.0              |10670.0              |11350.0              |12280.0              |12990.0              |12980.0              |13860.0              |14650.0              |14670.0              |15370.0              |15430.0              |14470.0              |13950.0              |14250.0              |14600.0              |14980.0              |14550.0              |\n",
            "|RNB per capita, método Atlas (US$ atual)                                                     |2390.0               |2340.0               |2310.0               |2670.0               |3430.0               |4350.0               |5020.0               |4840.0               |4120.0               |3930.0               |3350.0               |3100.0              |2990.0               |3350.0               |4000.0               |4850.0               |6190.0               |7620.0               |8320.0               |9650.0               |11080.0              |12310.0              |12790.0              |12120.0              |10190.0              |8920.0               |8700.0               |9170.0               |9270.0               |7850.0               |\n",
            "|RNB, PPP ($ internacional atual)                                                             |1.0188656793868098E12|1.0401743521145591E12|1.111028305480113E12 |1.210607970679508E12 |1.2905560081624119E12|1.3267702968380269E12|1.3892129620014705E12|1.3916814619443381E12|1.4064729581870464E12|1.5381295786458215E12|1.5876921469865898E12|1.660197051679057E12|1.7135299199629077E12|1.8652282236617336E12|1.9862194669032244E12|2.135908103751852E12 |2.335440691796655E12 |2.4937701660448037E12|2.5157762651890625E12|2.712168018855725E12 |2.894294561187883E12 |2.92371982324433E12  |3.0903476592254287E12|3.1277645369345293E12|2.958026429301577E12 |2.876740136512131E12 |2.962271099126893E12 |3.0588333192526313E12|3.160689540388808E12 |3.0930238157910664E12|\n",
            "|RNB, método Atlas (US$ atual)                                                                |3.6247081430084143E11|3.614235595203693E11 |3.624349184766566E11 |4.2596053993793713E11|5.557715069238184E11 |7.156639102725813E11 |8.387656790861338E11 |8.22017838549981E11  |7.103610005277623E11 |6.874776141114637E11 |5.939349887486967E11 |5.565543192239004E11|5.434808988921519E11 |6.161544794445844E11 |7.439144003285754E11 |9.1292379236696E11   |1.1775073388967673E12|1.4626881296120415E12|1.61402960119433E12  |1.8879139773354812E12|2.1889557770593516E12|2.4538098468281553E12|2.571101638560994E12 |2.4570074726106797E12|2.0842469485161265E12|1.8399916355003591E12|1.8084963250778618E12|1.9200497734735742E12|1.9572427822268535E12|1.6691154554082136E12|\n",
            "|PIB per capita, PPP ($ internacional atual)                                                  |6872.636942722494    |6872.666791263366    |7260.168864366995    |7722.0089579309515   |8085.722898559345    |8282.988337581175    |8582.069531493746    |8575.875453525092    |8611.902385806623    |9060.788666957324    |9260.768380930815    |9568.066027297284   |9733.773303922619    |10445.34717821038    |10988.961148447677   |11642.447054683771   |12549.93099930229    |13312.766757452167   |13269.122107324934   |14299.55513849254    |15040.061086437187   |15046.290181817818   |15588.726128914683   |15718.56495001409    |14744.113634469544   |14256.163385420981   |14524.613540817436   |15020.438223888053   |15388.234915991039   |14835.414926899834   |\n",
            "|PIB per capita (US$ atual)                                                                   |2259.239893668009    |2127.5071898116885   |2348.090047334286    |3295.244923623438    |4748.388207876052    |5166.16393308148     |5282.049469949876    |5087.079072323747    |3479.8438328539514   |3749.9108475288826   |3160.249344914407    |2839.4915010896643  |3070.4364194194154   |3637.313890151203    |4790.456565861311    |5886.391521948159    |7348.187962907121    |8831.183642776741    |8597.794335262639    |11286.07154021204    |13245.387369563963   |12370.223254847639   |12300.386712100415   |12112.834955487546   |8813.989806478283    |8710.063289953521    |9928.67589653405     |9151.381731615356    |8897.55296585529     |6796.844542278773    |\n",
            "|Aumento do PIB (% anual)                                                                     |1.0321895854695953   |-0.5440720510302981  |4.924690004637739    |5.852870364389304    |4.223793633647205    |2.208864050514819    |3.3948459853159676   |0.338097901952338    |0.46793756667946695  |4.387949443648694    |1.3898964044580993   |3.0534618568361935  |1.1408289987710134   |5.759964636859976    |3.2021320621625478   |3.961988708994852    |6.069870607331282    |5.094195448119976    |-0.1258120029914096  |7.528225818121513    |3.9744230794470212   |1.9211759850946208   |3.004822670288803    |0.5039557402732413   |-3.5457633934727824  |-3.2759169063211004  |1.3228690539081498   |1.7836667613700286   |1.411152985069947    |-4.059048272672712   |\n",
            "|PIB, (US$ atual)                                                                             |3.4260922720964545E11|3.281879443009078E11 |3.6829577777007947E11|5.253698513537422E11 |7.693333303689868E11 |8.50426433004077E11  |8.832064527951244E11 |8.637110073254927E11 |5.996420750044706E11 |6.554481882593507E11 |5.599837040941699E11 |5.097952706851901E11|5.582337241647108E11 |6.692893219445156E11 |8.916338266033773E11 |1.1076267114066265E12|1.3971142473311743E12|1.6958553918108962E12|1.6669962943728713E12|2.2088381085770903E12|2.6161566066666235E12|2.4652282938940117E12|2.472819362216695E12 |2.456043766028728E12 |1.802211999538684E12 |1.7956932658102322E12|2.063514688761976E12 |1.9169337083818914E12|1.8778242737207822E12|1.4447332589716514E12|\n",
            "|Inflação, deflator do PIB (% anual)                                                          |416.67808769907003   |969.012921772513     |1996.1503502950345   |2240.168869201598    |93.97804304413225    |18.456243776898546   |7.729023410047816    |4.924361586752909    |8.010500876868292    |5.606065152717775    |8.225094316433413    |9.798112234313109   |14.091021527267017   |7.752060759463262    |7.431224754784878    |6.77427411909737     |6.439038089211451    |8.778552722176045    |7.313482745945407    |8.423338335981882    |8.3185922188201      |7.943126942064154    |7.504564532048576    |7.846709743494841    |7.566175012939368    |8.10360435702502     |3.671384512889375    |4.493534331641186    |4.280505119003692    |4.805398417051251    |\n",
            "|Indústria, valor agregado (% do PIB)                                                         |31.767245605248323   |34.13226664222514    |37.29912071752452    |35.42091971797434    |23.38146038673418    |22.340114560779302   |22.59414761182627    |22.118790379466635   |21.746711249679297   |23.006618629367843   |22.639527912854906   |22.495327821077982  |23.083817818323578   |24.30662329057763    |24.172578278009887   |23.544021669300093   |23.125380408802084   |23.085293753548424   |21.878592629077925   |23.267977354744023   |23.102050963558483   |22.133647367677725   |21.224809949848257   |20.472462745414262   |19.360043977546233   |18.35475827712316    |18.188502309399208   |18.749051453989864   |18.408842687882693   |17.650108816676926   |\n",
            "|Agricultura, valor agregado (% do PIB)                                                       |6.841308029801072    |6.806091411657388    |6.778109376557369    |8.721989375176728    |5.011666463863474    |4.768411208331665    |4.685047025481692    |4.750044787566312    |4.645981538206647    |4.750459972091092    |4.801043018955071    |5.475274894762806   |6.167184387424183    |5.6653115767889215   |4.651168820814417    |4.370043779317608    |4.416915436128082    |4.56785118173209     |4.476773992870127    |4.11575648758173     |4.342034127733823    |4.168328224044396    |4.506886182227199    |4.32561053879483     |4.31914942942436     |4.891353586859708    |4.600591695759716    |4.420399303783291    |4.401763235457582    |5.905569345385268    |\n",
            "|Importação de bens e serviços (% do PIB)                                                     |7.914520879740154    |8.38505912549662     |9.096048645829836    |9.161683369082233    |9.455584964252443    |8.905381793670406    |9.592559686050647    |9.408084593565363    |11.417268214315927   |12.451713727280987   |14.564574473394803   |13.387767211830262  |12.959601188915107   |13.13249111009058    |11.842965919765717   |11.66738343157781    |11.964936310849552   |13.723568849205916   |11.254604431529682   |11.906593337308442   |12.351892499329354   |13.236734541285546   |14.04372668039483    |13.673462995805641   |14.053434519938751   |12.067003034456006   |11.800766504608093   |14.24120388210346    |14.350575186541919   |15.48344104107847    |\n",
            "|Formação de capital bruto (% do PIB)                                                         |19.768805298004384   |18.93453584914791    |20.846355555839878   |22.145562946480453   |17.292346346417908   |17.266946378350628   |17.763985615088906   |18.164751917307612   |17.38955974337654    |18.903119268969977   |18.741860293251456   |17.449079484503706  |16.856688397799      |17.912568341938947   |17.204883460677934   |17.8164739011777     |19.819325987884255   |21.61938283529792    |18.796135045888693   |21.801321565156837   |21.82627110704687    |21.41722536533493    |21.693766940210843   |20.54841075883469    |17.411625863293676   |14.96954697536961    |14.62558759962639    |15.095041633228115   |15.403009483887553   |15.404865186999125   |\n",
            "|Exportação de bens e serviços (% do PIB)                                                     |8.677605337920818    |10.868313400759144   |10.503271539985565   |9.513076427020039    |7.528875043387441    |6.730209684712538    |6.98364957728647     |7.03050033464164     |9.564898259565036    |10.188048187509985   |12.371710548036031   |14.230590318793604  |15.180783597872816   |16.545761629733345   |15.24382913811164    |14.37431638762409    |13.327675165405212   |13.534000512202049   |10.85137108902099    |10.865584774696483   |11.582512678280827   |11.877539067367843   |11.742230643262394   |11.011942820784318   |12.900191417740489   |12.466679044388808   |12.518967868548362   |14.634999495298567   |14.10536212869529    |16.870854838817994   |\n",
            "|Despesas militares (% do PIB)                                                                |1.96333333333333     |1.52152886115445     |1.92792281498297     |2.016007789121       |1.86213698033379     |1.6548434995029102   |1.5776883155177401   |1.6622919197582402   |1.64547466656987     |1.73072614713627     |1.9518824453253198   |1.8957711991561699  |1.50347763554507     |1.46126840890621     |1.52401339252107     |1.48108489489303     |1.46629209992902     |1.4419240934311799   |1.53862569660074     |1.53940698112515     |1.41185115924524     |1.37865646470437     |1.32944608407492     |1.330244423168       |1.36551715396161     |1.34797541299482     |1.41448561149999     |1.4942033526188199   |1.40798851592398     |1.43916822562215     |\n",
            "|Assinatura de telefone celular (por 1.000 pessoas)                                           |0.004418126          |0.020744281          |0.11603511           |0.360032128          |0.793441443          |1.517576609          |2.721144742          |4.33972798           |8.723777617          |13.26627719          |16.22257852          |19.42823093         |25.50654987          |35.65363548          |46.31799164          |53.10093266          |63.63005371          |78.44665887          |87.36326511          |100.6214912          |118.653296           |124.6058852          |134.8514284          |138.4511833          |126.0879559          |118.3855945          |106.4644877          |99.9717023           |95.71649455          |96.83635             |\n",
            "|Tempo necessário para iniciar um negócio (dias)                                              |null                 |null                 |null                 |null                 |null                 |null                 |null                 |null                 |null                 |null                 |null                 |null                |null                 |null                 |null                 |null                 |null                 |null                 |null                 |null                 |null                 |null                 |86.6                 |83.6                 |86.0                 |82.5                 |82.5                 |20.1                 |16.6                 |null                 |\n",
            "|Índice da facilidade de fazer negócios (1 = regulamentações mais favoráveis ao usuário)      |null                 |null                 |null                 |null                 |null                 |null                 |null                 |null                 |null                 |null                 |null                 |null                |null                 |null                 |null                 |null                 |null                 |null                 |null                 |null                 |null                 |null                 |null                 |null                 |null                 |null                 |null                 |null                 |124.0                |null                 |\n",
            "|Receita, excluindo subsídios (% do PIB)                                                      |null                 |null                 |null                 |null                 |null                 |null                 |null                 |null                 |null                 |null                 |null                 |null                |null                 |null                 |null                 |null                 |null                 |null                 |null                 |28.999894669587604   |29.100940298750427   |29.66604997956887    |28.651541859077888   |27.371718622520724   |29.25164049855607    |29.670277841035276   |27.82533099141034    |28.583901574480436   |29.11318938820727    |null                 |\n",
            "|Dívida do governo central, total (% do PIB)                                                  |null                 |null                 |null                 |null                 |null                 |null                 |null                 |null                 |null                 |null                 |null                 |null                |null                 |null                 |null                 |63.95235634010889    |62.451683488729415   |60.65593048782011    |63.80782742754212    |61.31878046114786    |59.341658301460434   |59.849489995824726   |57.228409380258036   |58.45727110586086    |67.53755402771162    |73.41880380967594    |null                 |null                 |null                 |null                 |\n",
            "|Despesa com pesquisas e desenvolvimento (% do PIB)                                           |null                 |null                 |null                 |null                 |null                 |null                 |null                 |null                 |null                 |1.04751              |1.06198              |1.00968             |0.99939              |0.96343              |1.00246              |0.98807              |1.08138              |1.12904              |1.11866              |1.15992              |1.13966              |1.12684              |1.19567              |1.27131              |1.34264              |1.26343              |1.09392              |1.16038              |null                 |null                 |\n",
            "|Inflação, preços ao consumidor (% anual)                                                     |432.786661926461     |951.962053052818     |1927.38079016026     |2075.88839757325     |66.0070335542481     |15.7576656002606     |6.92671251629151     |3.19507629280056     |4.85844749902668     |7.04414105947266     |6.84035902487525     |8.4501643770833     |14.7149197228147     |6.59718509985962     |6.86953720898965     |4.18356812896902     |3.64127299102654     |5.67859390284171     |4.88803479876804     |5.03872690108066     |6.63644962213085     |5.40349914037009     |6.204310666401       |6.32904015516142     |9.02990102416129     |8.73914352329393     |3.44637335032672     |3.66485028376724     |3.73297621216894     |3.21176803803379     |\n",
            "+---------------------------------------------------------------------------------------------+---------------------+---------------------+---------------------+---------------------+---------------------+---------------------+---------------------+---------------------+---------------------+---------------------+---------------------+--------------------+---------------------+---------------------+---------------------+---------------------+---------------------+---------------------+---------------------+---------------------+---------------------+---------------------+---------------------+---------------------+---------------------+---------------------+---------------------+---------------------+---------------------+---------------------+\n",
            "only showing top 50 rows\n",
            "\n"
          ]
        }
      ]
    },
    {
      "cell_type": "code",
      "source": [
        "#TRANSPONDO AS LINHAS E COLUNAS DO DATAFRAME DFFSPARK UTILIZANDO O PANDAS E RECONVERTENDO PARA O PYSPARK\n",
        "dffspark = dffspark.toPandas()"
      ],
      "metadata": {
        "id": "tZvxYznSglrc"
      },
      "execution_count": null,
      "outputs": []
    },
    {
      "cell_type": "code",
      "source": [
        "dffspark = dffspark.set_index('indicador')"
      ],
      "metadata": {
        "id": "yGCF2USzEiE9"
      },
      "execution_count": null,
      "outputs": []
    },
    {
      "cell_type": "code",
      "source": [
        "dffspark = dffspark.T"
      ],
      "metadata": {
        "id": "tln1sGNkFeIC"
      },
      "execution_count": null,
      "outputs": []
    },
    {
      "cell_type": "code",
      "source": [
        "dffspark['ano'] = dffspark.index"
      ],
      "metadata": {
        "id": "y6TBFY0VHKHa"
      },
      "execution_count": null,
      "outputs": []
    },
    {
      "cell_type": "code",
      "source": [
        "dffspark"
      ],
      "metadata": {
        "id": "zmJtkOBh6P1D",
        "colab": {
          "base_uri": "https://localhost:8080/"
        },
        "outputId": "62e64ca4-fd4d-4830-dfba-bf7900311b1f"
      },
      "execution_count": null,
      "outputs": [
        {
          "output_type": "execute_result",
          "data": {
            "text/plain": [
              "indicador  Exportações de alta tecnologia (% de exportações manufaturadas)  \\\n",
              "1991                                                     NaN                 \n",
              "1992                                                     NaN                 \n",
              "1993                                                     NaN                 \n",
              "1994                                                     NaN                 \n",
              "1995                                                     NaN                 \n",
              "1996                                                     NaN                 \n",
              "1997                                                     NaN                 \n",
              "1998                                                     NaN                 \n",
              "1999                                                     NaN                 \n",
              "2000                                                     NaN                 \n",
              "2001                                                     NaN                 \n",
              "2002                                                     NaN                 \n",
              "2003                                                     NaN                 \n",
              "2004                                                     NaN                 \n",
              "2005                                                     NaN                 \n",
              "2006                                                     NaN                 \n",
              "2007                                               12.609200                 \n",
              "2008                                               12.757724                 \n",
              "2009                                               14.758221                 \n",
              "2010                                               12.589453                 \n",
              "2011                                               11.140500                 \n",
              "2012                                               11.887214                 \n",
              "2013                                               11.969717                 \n",
              "2014                                               12.371055                 \n",
              "2015                                               14.485715                 \n",
              "2016                                               15.999958                 \n",
              "2017                                               14.311719                 \n",
              "2018                                               14.743912                 \n",
              "2019                                               14.066459                 \n",
              "2020                                               11.350048                 \n",
              "\n",
              "indicador  Índice de termos de permuta líquida (2000 = 100)  \\\n",
              "1991                                              78.906250   \n",
              "1992                                              81.967213   \n",
              "1993                                              87.272727   \n",
              "1994                                             100.952381   \n",
              "1995                                             110.377358   \n",
              "1996                                             108.333333   \n",
              "1997                                             114.423077   \n",
              "1998                                             114.285714   \n",
              "1999                                             103.157895   \n",
              "2000                                             100.000000   \n",
              "2001                                              99.775349   \n",
              "2002                                              98.401175   \n",
              "2003                                              97.250002   \n",
              "2004                                              98.886696   \n",
              "2005                                              99.715893   \n",
              "2006                                             104.982395   \n",
              "2007                                             108.793436   \n",
              "2008                                             112.673473   \n",
              "2009                                             109.111336   \n",
              "2010                                             127.212398   \n",
              "2011                                             136.642895   \n",
              "2012                                             129.306976   \n",
              "2013                                             125.759743   \n",
              "2014                                             121.483706   \n",
              "2015                                             107.347442   \n",
              "2016                                             109.927652   \n",
              "2017                                             116.234171   \n",
              "2018                                             114.765950   \n",
              "2019                                             114.945085   \n",
              "2020                                             115.616068   \n",
              "\n",
              "indicador  Comércio de mercadorias (% do PIB)  População, total  \\\n",
              "1991                                15.926892       151648007.0   \n",
              "1992                                17.949776       154259382.0   \n",
              "1993                                17.963551       156849086.0   \n",
              "1994                                15.177308       159432717.0   \n",
              "1995                                13.081846       162019889.0   \n",
              "1996                                12.314763       164614682.0   \n",
              "1997                                13.273907       167209046.0   \n",
              "1998                                12.943218       169785253.0   \n",
              "1999                                16.639926       172318674.0   \n",
              "2000                                17.356368       174790339.0   \n",
              "2001                                20.834356       177196051.0   \n",
              "2002                                21.609067       179537523.0   \n",
              "2003                                22.227966       181809244.0   \n",
              "2004                                24.370776       184006479.0   \n",
              "2005                                21.999726       186127108.0   \n",
              "2006                                21.094201       188167353.0   \n",
              "2007                                20.563386       190130445.0   \n",
              "2008                                22.426382       192030362.0   \n",
              "2009                                17.196919       193886505.0   \n",
              "2010                                17.812623       195713637.0   \n",
              "2011                                18.844591       197514541.0   \n",
              "2012                                19.307583       199287292.0   \n",
              "2013                                19.920177       201035904.0   \n",
              "2014                                18.902635       202763744.0   \n",
              "2015                                20.542811       204471759.0   \n",
              "2016                                18.301734       206163056.0   \n",
              "2017                                18.186544       207833825.0   \n",
              "2018                                22.318351       209469320.0   \n",
              "2019                                21.820625       211049519.0   \n",
              "2020                                26.036225       212559409.0   \n",
              "\n",
              "indicador  Crescimento da população (anual %)  \\\n",
              "1991                                 1.759414   \n",
              "1992                                 1.707339   \n",
              "1993                                 1.664862   \n",
              "1994                                 1.633789   \n",
              "1995                                 1.609710   \n",
              "1996                                 1.588838   \n",
              "1997                                 1.563732   \n",
              "1998                                 1.528962   \n",
              "1999                                 1.481110   \n",
              "2000                                 1.424167   \n",
              "2001                                 1.366956   \n",
              "2002                                 1.312748   \n",
              "2003                                 1.257380   \n",
              "2004                                 1.201294   \n",
              "2005                                 1.145885   \n",
              "2006                                 1.090193   \n",
              "2007                                 1.037865   \n",
              "2008                                 0.994311   \n",
              "2009                                 0.961947   \n",
              "2010                                 0.937959   \n",
              "2011                                 0.915965   \n",
              "2012                                 0.893526   \n",
              "2013                                 0.873606   \n",
              "2014                                 0.855796   \n",
              "2015                                 0.838839   \n",
              "2016                                 0.823752   \n",
              "2017                                 0.807145   \n",
              "2018                                 0.783844   \n",
              "2019                                 0.751551   \n",
              "2020                                 0.712873   \n",
              "\n",
              "indicador  Taxa de fertilidade, total (nascimentos por mulher)  \\\n",
              "1991                                                   2.822     \n",
              "1992                                                   2.754     \n",
              "1993                                                   2.693     \n",
              "1994                                                   2.639     \n",
              "1995                                                   2.588     \n",
              "1996                                                   2.536     \n",
              "1997                                                   2.483     \n",
              "1998                                                   2.426     \n",
              "1999                                                   2.365     \n",
              "2000                                                   2.300     \n",
              "2001                                                   2.232     \n",
              "2002                                                   2.163     \n",
              "2003                                                   2.097     \n",
              "2004                                                   2.033     \n",
              "2005                                                   1.976     \n",
              "2006                                                   1.925     \n",
              "2007                                                   1.882     \n",
              "2008                                                   1.847     \n",
              "2009                                                   1.818     \n",
              "2010                                                   1.796     \n",
              "2011                                                   1.781     \n",
              "2012                                                   1.771     \n",
              "2013                                                   1.764     \n",
              "2014                                                   1.758     \n",
              "2015                                                   1.753     \n",
              "2016                                                   1.747     \n",
              "2017                                                   1.739     \n",
              "2018                                                   1.730     \n",
              "2019                                                   1.719     \n",
              "2020                                                     NaN     \n",
              "\n",
              "indicador  Expectativa de vida no nascimento, total (anos)  \\\n",
              "1991                                                66.742   \n",
              "1992                                                67.141   \n",
              "1993                                                67.539   \n",
              "1994                                                67.932   \n",
              "1995                                                68.318   \n",
              "1996                                                68.695   \n",
              "1997                                                69.061   \n",
              "1998                                                69.419   \n",
              "1999                                                69.769   \n",
              "2000                                                70.116   \n",
              "2001                                                70.462   \n",
              "2002                                                70.813   \n",
              "2003                                                71.170   \n",
              "2004                                                71.531   \n",
              "2005                                                71.896   \n",
              "2006                                                72.260   \n",
              "2007                                                72.618   \n",
              "2008                                                72.966   \n",
              "2009                                                73.300   \n",
              "2010                                                73.619   \n",
              "2011                                                73.921   \n",
              "2012                                                74.209   \n",
              "2013                                                74.483   \n",
              "2014                                                74.745   \n",
              "2015                                                74.994   \n",
              "2016                                                75.230   \n",
              "2017                                                75.456   \n",
              "2018                                                75.672   \n",
              "2019                                                75.881   \n",
              "2020                                                   NaN   \n",
              "\n",
              "indicador  Taxa de mortalidade infantil (por 1.000 nascidos vivos):  \\\n",
              "1991                                                    50.6          \n",
              "1992                                                    48.4          \n",
              "1993                                                    46.0          \n",
              "1994                                                    43.5          \n",
              "1995                                                    41.1          \n",
              "1996                                                    38.7          \n",
              "1997                                                    36.5          \n",
              "1998                                                    34.3          \n",
              "1999                                                    32.3          \n",
              "2000                                                    30.4          \n",
              "2001                                                    28.5          \n",
              "2002                                                    26.8          \n",
              "2003                                                    25.1          \n",
              "2004                                                    23.5          \n",
              "2005                                                    22.0          \n",
              "2006                                                    20.7          \n",
              "2007                                                    19.5          \n",
              "2008                                                    18.4          \n",
              "2009                                                    17.5          \n",
              "2010                                                    16.7          \n",
              "2011                                                    16.0          \n",
              "2012                                                    15.4          \n",
              "2013                                                    14.9          \n",
              "2014                                                    14.6          \n",
              "2015                                                    14.2          \n",
              "2016                                                    15.0          \n",
              "2017                                                    13.8          \n",
              "2018                                                    13.6          \n",
              "2019                                                    13.3          \n",
              "2020                                                    13.1          \n",
              "\n",
              "indicador  Uso de método anticoncepcional (% de mulheres de 15 a 19 anos de idade)  \\\n",
              "1991                                                    59.2                         \n",
              "1992                                                     NaN                         \n",
              "1993                                                     NaN                         \n",
              "1994                                                     NaN                         \n",
              "1995                                                     NaN                         \n",
              "1996                                                    76.7                         \n",
              "1997                                                     NaN                         \n",
              "1998                                                     NaN                         \n",
              "1999                                                     NaN                         \n",
              "2000                                                     NaN                         \n",
              "2001                                                     NaN                         \n",
              "2002                                                     NaN                         \n",
              "2003                                                     NaN                         \n",
              "2004                                                     NaN                         \n",
              "2005                                                     NaN                         \n",
              "2006                                                    80.3                         \n",
              "2007                                                    80.6                         \n",
              "2008                                                     NaN                         \n",
              "2009                                                     NaN                         \n",
              "2010                                                     NaN                         \n",
              "2011                                                     NaN                         \n",
              "2012                                                     NaN                         \n",
              "2013                                                    80.2                         \n",
              "2014                                                     NaN                         \n",
              "2015                                                     NaN                         \n",
              "2016                                                     NaN                         \n",
              "2017                                                     NaN                         \n",
              "2018                                                     NaN                         \n",
              "2019                                                     NaN                         \n",
              "2020                                                     NaN                         \n",
              "\n",
              "indicador  Taxa de fertilidade de adolescentes (nascimentos por 1.000 mulheres de 15 a 19 anos de idade)  \\\n",
              "1991                                                 83.3338                                               \n",
              "1992                                                 83.7270                                               \n",
              "1993                                                 83.8340                                               \n",
              "1994                                                 83.9410                                               \n",
              "1995                                                 84.0480                                               \n",
              "1996                                                 84.1550                                               \n",
              "1997                                                 84.2620                                               \n",
              "1998                                                 83.5780                                               \n",
              "1999                                                 82.8940                                               \n",
              "2000                                                 82.2100                                               \n",
              "2001                                                 81.5260                                               \n",
              "2002                                                 80.8420                                               \n",
              "2003                                                 78.9040                                               \n",
              "2004                                                 76.9660                                               \n",
              "2005                                                 75.0280                                               \n",
              "2006                                                 73.0900                                               \n",
              "2007                                                 71.1520                                               \n",
              "2008                                                 69.7322                                               \n",
              "2009                                                 68.3124                                               \n",
              "2010                                                 66.8926                                               \n",
              "2011                                                 65.4728                                               \n",
              "2012                                                 64.0530                                               \n",
              "2013                                                 63.0646                                               \n",
              "2014                                                 62.0762                                               \n",
              "2015                                                 61.0878                                               \n",
              "2016                                                 60.0994                                               \n",
              "2017                                                 59.1110                                               \n",
              "2018                                                 57.8858                                               \n",
              "2019                                                 56.6606                                               \n",
              "2020                                                     NaN                                               \n",
              "\n",
              "indicador  ...  \\\n",
              "1991       ...   \n",
              "1992       ...   \n",
              "1993       ...   \n",
              "1994       ...   \n",
              "1995       ...   \n",
              "1996       ...   \n",
              "1997       ...   \n",
              "1998       ...   \n",
              "1999       ...   \n",
              "2000       ...   \n",
              "2001       ...   \n",
              "2002       ...   \n",
              "2003       ...   \n",
              "2004       ...   \n",
              "2005       ...   \n",
              "2006       ...   \n",
              "2007       ...   \n",
              "2008       ...   \n",
              "2009       ...   \n",
              "2010       ...   \n",
              "2011       ...   \n",
              "2012       ...   \n",
              "2013       ...   \n",
              "2014       ...   \n",
              "2015       ...   \n",
              "2016       ...   \n",
              "2017       ...   \n",
              "2018       ...   \n",
              "2019       ...   \n",
              "2020       ...   \n",
              "\n",
              "indicador  Serviço da dívida total (% de exportações de produtos, serviços e renda primária)  \\\n",
              "1991                                               23.425089                                   \n",
              "1992                                               21.240737                                   \n",
              "1993                                               25.158259                                   \n",
              "1994                                               31.241839                                   \n",
              "1995                                               38.565682                                   \n",
              "1996                                               43.694779                                   \n",
              "1997                                               59.846535                                   \n",
              "1998                                               80.755916                                   \n",
              "1999                                              116.563894                                   \n",
              "2000                                               87.004623                                   \n",
              "2001                                               71.737227                                   \n",
              "2002                                               72.048459                                   \n",
              "2003                                               67.921772                                   \n",
              "2004                                               48.356227                                   \n",
              "2005                                               46.186531                                   \n",
              "2006                                               38.248547                                   \n",
              "2007                                               28.052082                                   \n",
              "2008                                               23.471300                                   \n",
              "2009                                               23.488943                                   \n",
              "2010                                               18.385264                                   \n",
              "2011                                               18.737510                                   \n",
              "2012                                               15.676848                                   \n",
              "2013                                               28.015669                                   \n",
              "2014                                               22.911704                                   \n",
              "2015                                               39.762112                                   \n",
              "2016                                               51.011083                                   \n",
              "2017                                               34.616616                                   \n",
              "2018                                               33.153990                                   \n",
              "2019                                               53.229235                                   \n",
              "2020                                               50.639293                                   \n",
              "\n",
              "indicador  Assistência oficial para o desenvolvimento  (US$ atual, líquido)  \\\n",
              "1991                                            1.961400e+08                  \n",
              "1992                                           -2.355900e+08                  \n",
              "1993                                            1.975200e+08                  \n",
              "1994                                            2.598700e+08                  \n",
              "1995                                            2.643300e+08                  \n",
              "1996                                            2.578000e+08                  \n",
              "1997                                            2.297900e+08                  \n",
              "1998                                            2.606100e+08                  \n",
              "1999                                            1.443800e+08                  \n",
              "2000                                            2.556800e+08                  \n",
              "2001                                            2.520200e+08                  \n",
              "2002                                            2.364100e+08                  \n",
              "2003                                            2.293000e+08                  \n",
              "2004                                            1.782800e+08                  \n",
              "2005                                            2.172400e+08                  \n",
              "2006                                            1.102000e+08                  \n",
              "2007                                            3.285900e+08                  \n",
              "2008                                            4.686300e+08                  \n",
              "2009                                            3.748100e+08                  \n",
              "2010                                            4.647800e+08                  \n",
              "2011                                            8.406900e+08                  \n",
              "2012                                            1.288540e+09                  \n",
              "2013                                            1.155730e+09                  \n",
              "2014                                            9.141500e+08                  \n",
              "2015                                            1.003190e+09                  \n",
              "2016                                            6.746300e+08                  \n",
              "2017                                            2.738900e+08                  \n",
              "2018                                            4.448300e+08                  \n",
              "2019                                            2.902300e+08                  \n",
              "2020                                                     NaN                  \n",
              "\n",
              "indicador  Ações da dívida externa, total (DOD, US$ atual)  \\\n",
              "1991                                          1.213367e+11   \n",
              "1992                                          1.295359e+11   \n",
              "1993                                          1.445996e+11   \n",
              "1994                                          1.529031e+11   \n",
              "1995                                          1.609642e+11   \n",
              "1996                                          1.817935e+11   \n",
              "1997                                          1.989803e+11   \n",
              "1998                                          2.419984e+11   \n",
              "1999                                          2.451150e+11   \n",
              "2000                                          2.425117e+11   \n",
              "2001                                          2.299597e+11   \n",
              "2002                                          2.319442e+11   \n",
              "2003                                          2.359080e+11   \n",
              "2004                                          2.206936e+11   \n",
              "2005                                          1.883645e+11   \n",
              "2006                                          1.943030e+11   \n",
              "2007                                          2.384445e+11   \n",
              "2008                                          2.629572e+11   \n",
              "2009                                          2.816511e+11   \n",
              "2010                                          3.523644e+11   \n",
              "2011                                          4.040461e+11   \n",
              "2012                                          4.405152e+11   \n",
              "2013                                          4.837654e+11   \n",
              "2014                                          5.569196e+11   \n",
              "2015                                          5.433974e+11   \n",
              "2016                                          5.432572e+11   \n",
              "2017                                          5.430003e+11   \n",
              "2018                                          5.577425e+11   \n",
              "2019                                          5.686459e+11   \n",
              "2020                                          5.492343e+11   \n",
              "\n",
              "indicador  Capitalização de mercado de empresas listadas (% do PIB)  \\\n",
              "1991                                                     NaN          \n",
              "1992                                                     NaN          \n",
              "1993                                                     NaN          \n",
              "1994                                                     NaN          \n",
              "1995                                                     NaN          \n",
              "1996                                                     NaN          \n",
              "1997                                                     NaN          \n",
              "1998                                                     NaN          \n",
              "1999                                                     NaN          \n",
              "2000                                               34.503461          \n",
              "2001                                               33.257684          \n",
              "2002                                               24.865184          \n",
              "2003                                               42.018250          \n",
              "2004                                               49.357814          \n",
              "2005                                               53.233386          \n",
              "2006                                               64.123359          \n",
              "2007                                               98.038602          \n",
              "2008                                               34.906605          \n",
              "2009                                               80.218995          \n",
              "2010                                               69.971885          \n",
              "2011                                               46.974872          \n",
              "2012                                               49.790400          \n",
              "2013                                               41.266877          \n",
              "2014                                               34.359901          \n",
              "2015                                               27.218447          \n",
              "2016                                               42.243235          \n",
              "2017                                               46.266455          \n",
              "2018                                               47.827652          \n",
              "2019                                               63.230714          \n",
              "2020                                               68.412236          \n",
              "\n",
              "indicador  Remessas pessoais, recebidas (US$ atual)  \\\n",
              "1991                                   1.110000e+09   \n",
              "1992                                   1.791000e+09   \n",
              "1993                                   1.247000e+09   \n",
              "1994                                   2.068000e+09   \n",
              "1995                                   2.952000e+09   \n",
              "1996                                   2.059000e+09   \n",
              "1997                                   1.572000e+09   \n",
              "1998                                   1.236000e+09   \n",
              "1999                                   1.501000e+09   \n",
              "2000                                   1.349591e+09   \n",
              "2001                                   1.448914e+09   \n",
              "2002                                   2.003791e+09   \n",
              "2003                                   2.286680e+09   \n",
              "2004                                   2.812514e+09   \n",
              "2005                                   2.805358e+09   \n",
              "2006                                   3.287162e+09   \n",
              "2007                                   3.305694e+09   \n",
              "2008                                   3.642585e+09   \n",
              "2009                                   2.889160e+09   \n",
              "2010                                   3.082802e+09   \n",
              "2011                                   3.214602e+09   \n",
              "2012                                   2.784072e+09   \n",
              "2013                                   2.717675e+09   \n",
              "2014                                   2.647909e+09   \n",
              "2015                                   2.896910e+09   \n",
              "2016                                   2.739787e+09   \n",
              "2017                                   2.698771e+09   \n",
              "2018                                   2.933489e+09   \n",
              "2019                                   3.213622e+09   \n",
              "2020                                   3.566219e+09   \n",
              "\n",
              "indicador  Investimento estrangeiro direto, ingressos líquidos (BoP, US$ atual)  \\\n",
              "1991                                            1.103000e+09                      \n",
              "1992                                            2.061000e+09                      \n",
              "1993                                            1.292000e+09                      \n",
              "1994                                            3.072000e+09                      \n",
              "1995                                            4.859000e+09                      \n",
              "1996                                            1.255200e+10                      \n",
              "1997                                            1.899293e+10                      \n",
              "1998                                            2.885561e+10                      \n",
              "1999                                            2.838568e+10                      \n",
              "2000                                            3.299472e+10                      \n",
              "2001                                            2.322585e+10                      \n",
              "2002                                            1.658660e+10                      \n",
              "2003                                            1.012301e+10                      \n",
              "2004                                            1.816138e+10                      \n",
              "2005                                            1.545998e+10                      \n",
              "2006                                            1.941809e+10                      \n",
              "2007                                            4.457949e+10                      \n",
              "2008                                            5.071640e+10                      \n",
              "2009                                            3.148093e+10                      \n",
              "2010                                            8.238993e+10                      \n",
              "2011                                            1.024272e+11                      \n",
              "2012                                            9.256839e+10                      \n",
              "2013                                            7.521103e+10                      \n",
              "2014                                            8.771398e+10                      \n",
              "2015                                            6.473815e+10                      \n",
              "2016                                            7.429463e+10                      \n",
              "2017                                            6.888549e+10                      \n",
              "2018                                            7.816272e+10                      \n",
              "2019                                            6.917441e+10                      \n",
              "2020                                            3.778629e+10                      \n",
              "\n",
              "indicador  Superfície (km²)  Área florestal (km²)  \\\n",
              "1991              8515770.0             5851170.6   \n",
              "1992              8515770.0             5813361.2   \n",
              "1993              8515770.0             5775551.8   \n",
              "1994              8515770.0             5737742.4   \n",
              "1995              8515770.0             5699933.0   \n",
              "1996              8515770.0             5662123.6   \n",
              "1997              8515770.0             5624314.2   \n",
              "1998              8515770.0             5586504.8   \n",
              "1999              8515770.0             5548695.4   \n",
              "2000              8515770.0             5510886.0   \n",
              "2001              8515770.0             5471378.1   \n",
              "2002              8515770.0             5431870.2   \n",
              "2003              8515770.0             5392362.3   \n",
              "2004              8515770.0             5352854.4   \n",
              "2005              8515770.0             5313346.5   \n",
              "2006              8515770.0             5273838.6   \n",
              "2007              8515770.0             5234330.7   \n",
              "2008              8515770.0             5194822.8   \n",
              "2009              8515770.0             5155314.9   \n",
              "2010              8515770.0             5115807.0   \n",
              "2011              8515770.0             5100415.2   \n",
              "2012              8515770.0             5085023.4   \n",
              "2013              8515770.0             5069631.6   \n",
              "2014              8515770.0             5054239.8   \n",
              "2015              8515770.0             5038848.0   \n",
              "2016              8515770.0             5020821.0   \n",
              "2017              8515770.0             5000916.0   \n",
              "2018              8515770.0             4990514.0   \n",
              "2019                    NaN             4977985.0   \n",
              "2020                    NaN             4966196.0   \n",
              "\n",
              "indicador  Terra cultivável (% de área terrestre)   ano  \n",
              "1991                                    27.934469  1991  \n",
              "1992                                    27.764598  1992  \n",
              "1993                                    27.594728  1993  \n",
              "1994                                    27.424858  1994  \n",
              "1995                                    27.255466  1995  \n",
              "1996                                    27.267873  1996  \n",
              "1997                                    27.280280  1997  \n",
              "1998                                    27.292687  1998  \n",
              "1999                                    27.305094  1999  \n",
              "2000                                    27.317501  2000  \n",
              "2001                                    27.329908  2001  \n",
              "2002                                    27.342315  2002  \n",
              "2003                                    27.354722  2003  \n",
              "2004                                    27.367130  2004  \n",
              "2005                                    27.379537  2005  \n",
              "2006                                    27.392578  2006  \n",
              "2007                                    27.478817  2007  \n",
              "2008                                    27.565056  2008  \n",
              "2009                                    27.651296  2009  \n",
              "2010                                    27.737535  2010  \n",
              "2011                                    27.823774  2011  \n",
              "2012                                    27.910013  2012  \n",
              "2013                                    27.996253  2013  \n",
              "2014                                    28.082492  2014  \n",
              "2015                                    28.168731  2015  \n",
              "2016                                    28.254971  2016  \n",
              "2017                                    28.341066  2017  \n",
              "2018                                    28.341090  2018  \n",
              "2019                                          NaN  2019  \n",
              "2020                                          NaN  2020  \n",
              "\n",
              "[30 rows x 64 columns]"
            ],
            "text/html": [
              "\n",
              "  <div id=\"df-4db62a7a-f91a-4109-bed6-6330c6f63b33\">\n",
              "    <div class=\"colab-df-container\">\n",
              "      <div>\n",
              "<style scoped>\n",
              "    .dataframe tbody tr th:only-of-type {\n",
              "        vertical-align: middle;\n",
              "    }\n",
              "\n",
              "    .dataframe tbody tr th {\n",
              "        vertical-align: top;\n",
              "    }\n",
              "\n",
              "    .dataframe thead th {\n",
              "        text-align: right;\n",
              "    }\n",
              "</style>\n",
              "<table border=\"1\" class=\"dataframe\">\n",
              "  <thead>\n",
              "    <tr style=\"text-align: right;\">\n",
              "      <th>indicador</th>\n",
              "      <th>Exportações de alta tecnologia (% de exportações manufaturadas)</th>\n",
              "      <th>Índice de termos de permuta líquida (2000 = 100)</th>\n",
              "      <th>Comércio de mercadorias (% do PIB)</th>\n",
              "      <th>População, total</th>\n",
              "      <th>Crescimento da população (anual %)</th>\n",
              "      <th>Taxa de fertilidade, total (nascimentos por mulher)</th>\n",
              "      <th>Expectativa de vida no nascimento, total (anos)</th>\n",
              "      <th>Taxa de mortalidade infantil (por 1.000 nascidos vivos):</th>\n",
              "      <th>Uso de método anticoncepcional (% de mulheres de 15 a 19 anos de idade)</th>\n",
              "      <th>Taxa de fertilidade de adolescentes (nascimentos por 1.000 mulheres de 15 a 19 anos de idade)</th>\n",
              "      <th>...</th>\n",
              "      <th>Serviço da dívida total (% de exportações de produtos, serviços e renda primária)</th>\n",
              "      <th>Assistência oficial para o desenvolvimento  (US$ atual, líquido)</th>\n",
              "      <th>Ações da dívida externa, total (DOD, US$ atual)</th>\n",
              "      <th>Capitalização de mercado de empresas listadas (% do PIB)</th>\n",
              "      <th>Remessas pessoais, recebidas (US$ atual)</th>\n",
              "      <th>Investimento estrangeiro direto, ingressos líquidos (BoP, US$ atual)</th>\n",
              "      <th>Superfície (km²)</th>\n",
              "      <th>Área florestal (km²)</th>\n",
              "      <th>Terra cultivável (% de área terrestre)</th>\n",
              "      <th>ano</th>\n",
              "    </tr>\n",
              "  </thead>\n",
              "  <tbody>\n",
              "    <tr>\n",
              "      <th>1991</th>\n",
              "      <td>NaN</td>\n",
              "      <td>78.906250</td>\n",
              "      <td>15.926892</td>\n",
              "      <td>151648007.0</td>\n",
              "      <td>1.759414</td>\n",
              "      <td>2.822</td>\n",
              "      <td>66.742</td>\n",
              "      <td>50.6</td>\n",
              "      <td>59.2</td>\n",
              "      <td>83.3338</td>\n",
              "      <td>...</td>\n",
              "      <td>23.425089</td>\n",
              "      <td>1.961400e+08</td>\n",
              "      <td>1.213367e+11</td>\n",
              "      <td>NaN</td>\n",
              "      <td>1.110000e+09</td>\n",
              "      <td>1.103000e+09</td>\n",
              "      <td>8515770.0</td>\n",
              "      <td>5851170.6</td>\n",
              "      <td>27.934469</td>\n",
              "      <td>1991</td>\n",
              "    </tr>\n",
              "    <tr>\n",
              "      <th>1992</th>\n",
              "      <td>NaN</td>\n",
              "      <td>81.967213</td>\n",
              "      <td>17.949776</td>\n",
              "      <td>154259382.0</td>\n",
              "      <td>1.707339</td>\n",
              "      <td>2.754</td>\n",
              "      <td>67.141</td>\n",
              "      <td>48.4</td>\n",
              "      <td>NaN</td>\n",
              "      <td>83.7270</td>\n",
              "      <td>...</td>\n",
              "      <td>21.240737</td>\n",
              "      <td>-2.355900e+08</td>\n",
              "      <td>1.295359e+11</td>\n",
              "      <td>NaN</td>\n",
              "      <td>1.791000e+09</td>\n",
              "      <td>2.061000e+09</td>\n",
              "      <td>8515770.0</td>\n",
              "      <td>5813361.2</td>\n",
              "      <td>27.764598</td>\n",
              "      <td>1992</td>\n",
              "    </tr>\n",
              "    <tr>\n",
              "      <th>1993</th>\n",
              "      <td>NaN</td>\n",
              "      <td>87.272727</td>\n",
              "      <td>17.963551</td>\n",
              "      <td>156849086.0</td>\n",
              "      <td>1.664862</td>\n",
              "      <td>2.693</td>\n",
              "      <td>67.539</td>\n",
              "      <td>46.0</td>\n",
              "      <td>NaN</td>\n",
              "      <td>83.8340</td>\n",
              "      <td>...</td>\n",
              "      <td>25.158259</td>\n",
              "      <td>1.975200e+08</td>\n",
              "      <td>1.445996e+11</td>\n",
              "      <td>NaN</td>\n",
              "      <td>1.247000e+09</td>\n",
              "      <td>1.292000e+09</td>\n",
              "      <td>8515770.0</td>\n",
              "      <td>5775551.8</td>\n",
              "      <td>27.594728</td>\n",
              "      <td>1993</td>\n",
              "    </tr>\n",
              "    <tr>\n",
              "      <th>1994</th>\n",
              "      <td>NaN</td>\n",
              "      <td>100.952381</td>\n",
              "      <td>15.177308</td>\n",
              "      <td>159432717.0</td>\n",
              "      <td>1.633789</td>\n",
              "      <td>2.639</td>\n",
              "      <td>67.932</td>\n",
              "      <td>43.5</td>\n",
              "      <td>NaN</td>\n",
              "      <td>83.9410</td>\n",
              "      <td>...</td>\n",
              "      <td>31.241839</td>\n",
              "      <td>2.598700e+08</td>\n",
              "      <td>1.529031e+11</td>\n",
              "      <td>NaN</td>\n",
              "      <td>2.068000e+09</td>\n",
              "      <td>3.072000e+09</td>\n",
              "      <td>8515770.0</td>\n",
              "      <td>5737742.4</td>\n",
              "      <td>27.424858</td>\n",
              "      <td>1994</td>\n",
              "    </tr>\n",
              "    <tr>\n",
              "      <th>1995</th>\n",
              "      <td>NaN</td>\n",
              "      <td>110.377358</td>\n",
              "      <td>13.081846</td>\n",
              "      <td>162019889.0</td>\n",
              "      <td>1.609710</td>\n",
              "      <td>2.588</td>\n",
              "      <td>68.318</td>\n",
              "      <td>41.1</td>\n",
              "      <td>NaN</td>\n",
              "      <td>84.0480</td>\n",
              "      <td>...</td>\n",
              "      <td>38.565682</td>\n",
              "      <td>2.643300e+08</td>\n",
              "      <td>1.609642e+11</td>\n",
              "      <td>NaN</td>\n",
              "      <td>2.952000e+09</td>\n",
              "      <td>4.859000e+09</td>\n",
              "      <td>8515770.0</td>\n",
              "      <td>5699933.0</td>\n",
              "      <td>27.255466</td>\n",
              "      <td>1995</td>\n",
              "    </tr>\n",
              "    <tr>\n",
              "      <th>1996</th>\n",
              "      <td>NaN</td>\n",
              "      <td>108.333333</td>\n",
              "      <td>12.314763</td>\n",
              "      <td>164614682.0</td>\n",
              "      <td>1.588838</td>\n",
              "      <td>2.536</td>\n",
              "      <td>68.695</td>\n",
              "      <td>38.7</td>\n",
              "      <td>76.7</td>\n",
              "      <td>84.1550</td>\n",
              "      <td>...</td>\n",
              "      <td>43.694779</td>\n",
              "      <td>2.578000e+08</td>\n",
              "      <td>1.817935e+11</td>\n",
              "      <td>NaN</td>\n",
              "      <td>2.059000e+09</td>\n",
              "      <td>1.255200e+10</td>\n",
              "      <td>8515770.0</td>\n",
              "      <td>5662123.6</td>\n",
              "      <td>27.267873</td>\n",
              "      <td>1996</td>\n",
              "    </tr>\n",
              "    <tr>\n",
              "      <th>1997</th>\n",
              "      <td>NaN</td>\n",
              "      <td>114.423077</td>\n",
              "      <td>13.273907</td>\n",
              "      <td>167209046.0</td>\n",
              "      <td>1.563732</td>\n",
              "      <td>2.483</td>\n",
              "      <td>69.061</td>\n",
              "      <td>36.5</td>\n",
              "      <td>NaN</td>\n",
              "      <td>84.2620</td>\n",
              "      <td>...</td>\n",
              "      <td>59.846535</td>\n",
              "      <td>2.297900e+08</td>\n",
              "      <td>1.989803e+11</td>\n",
              "      <td>NaN</td>\n",
              "      <td>1.572000e+09</td>\n",
              "      <td>1.899293e+10</td>\n",
              "      <td>8515770.0</td>\n",
              "      <td>5624314.2</td>\n",
              "      <td>27.280280</td>\n",
              "      <td>1997</td>\n",
              "    </tr>\n",
              "    <tr>\n",
              "      <th>1998</th>\n",
              "      <td>NaN</td>\n",
              "      <td>114.285714</td>\n",
              "      <td>12.943218</td>\n",
              "      <td>169785253.0</td>\n",
              "      <td>1.528962</td>\n",
              "      <td>2.426</td>\n",
              "      <td>69.419</td>\n",
              "      <td>34.3</td>\n",
              "      <td>NaN</td>\n",
              "      <td>83.5780</td>\n",
              "      <td>...</td>\n",
              "      <td>80.755916</td>\n",
              "      <td>2.606100e+08</td>\n",
              "      <td>2.419984e+11</td>\n",
              "      <td>NaN</td>\n",
              "      <td>1.236000e+09</td>\n",
              "      <td>2.885561e+10</td>\n",
              "      <td>8515770.0</td>\n",
              "      <td>5586504.8</td>\n",
              "      <td>27.292687</td>\n",
              "      <td>1998</td>\n",
              "    </tr>\n",
              "    <tr>\n",
              "      <th>1999</th>\n",
              "      <td>NaN</td>\n",
              "      <td>103.157895</td>\n",
              "      <td>16.639926</td>\n",
              "      <td>172318674.0</td>\n",
              "      <td>1.481110</td>\n",
              "      <td>2.365</td>\n",
              "      <td>69.769</td>\n",
              "      <td>32.3</td>\n",
              "      <td>NaN</td>\n",
              "      <td>82.8940</td>\n",
              "      <td>...</td>\n",
              "      <td>116.563894</td>\n",
              "      <td>1.443800e+08</td>\n",
              "      <td>2.451150e+11</td>\n",
              "      <td>NaN</td>\n",
              "      <td>1.501000e+09</td>\n",
              "      <td>2.838568e+10</td>\n",
              "      <td>8515770.0</td>\n",
              "      <td>5548695.4</td>\n",
              "      <td>27.305094</td>\n",
              "      <td>1999</td>\n",
              "    </tr>\n",
              "    <tr>\n",
              "      <th>2000</th>\n",
              "      <td>NaN</td>\n",
              "      <td>100.000000</td>\n",
              "      <td>17.356368</td>\n",
              "      <td>174790339.0</td>\n",
              "      <td>1.424167</td>\n",
              "      <td>2.300</td>\n",
              "      <td>70.116</td>\n",
              "      <td>30.4</td>\n",
              "      <td>NaN</td>\n",
              "      <td>82.2100</td>\n",
              "      <td>...</td>\n",
              "      <td>87.004623</td>\n",
              "      <td>2.556800e+08</td>\n",
              "      <td>2.425117e+11</td>\n",
              "      <td>34.503461</td>\n",
              "      <td>1.349591e+09</td>\n",
              "      <td>3.299472e+10</td>\n",
              "      <td>8515770.0</td>\n",
              "      <td>5510886.0</td>\n",
              "      <td>27.317501</td>\n",
              "      <td>2000</td>\n",
              "    </tr>\n",
              "    <tr>\n",
              "      <th>2001</th>\n",
              "      <td>NaN</td>\n",
              "      <td>99.775349</td>\n",
              "      <td>20.834356</td>\n",
              "      <td>177196051.0</td>\n",
              "      <td>1.366956</td>\n",
              "      <td>2.232</td>\n",
              "      <td>70.462</td>\n",
              "      <td>28.5</td>\n",
              "      <td>NaN</td>\n",
              "      <td>81.5260</td>\n",
              "      <td>...</td>\n",
              "      <td>71.737227</td>\n",
              "      <td>2.520200e+08</td>\n",
              "      <td>2.299597e+11</td>\n",
              "      <td>33.257684</td>\n",
              "      <td>1.448914e+09</td>\n",
              "      <td>2.322585e+10</td>\n",
              "      <td>8515770.0</td>\n",
              "      <td>5471378.1</td>\n",
              "      <td>27.329908</td>\n",
              "      <td>2001</td>\n",
              "    </tr>\n",
              "    <tr>\n",
              "      <th>2002</th>\n",
              "      <td>NaN</td>\n",
              "      <td>98.401175</td>\n",
              "      <td>21.609067</td>\n",
              "      <td>179537523.0</td>\n",
              "      <td>1.312748</td>\n",
              "      <td>2.163</td>\n",
              "      <td>70.813</td>\n",
              "      <td>26.8</td>\n",
              "      <td>NaN</td>\n",
              "      <td>80.8420</td>\n",
              "      <td>...</td>\n",
              "      <td>72.048459</td>\n",
              "      <td>2.364100e+08</td>\n",
              "      <td>2.319442e+11</td>\n",
              "      <td>24.865184</td>\n",
              "      <td>2.003791e+09</td>\n",
              "      <td>1.658660e+10</td>\n",
              "      <td>8515770.0</td>\n",
              "      <td>5431870.2</td>\n",
              "      <td>27.342315</td>\n",
              "      <td>2002</td>\n",
              "    </tr>\n",
              "    <tr>\n",
              "      <th>2003</th>\n",
              "      <td>NaN</td>\n",
              "      <td>97.250002</td>\n",
              "      <td>22.227966</td>\n",
              "      <td>181809244.0</td>\n",
              "      <td>1.257380</td>\n",
              "      <td>2.097</td>\n",
              "      <td>71.170</td>\n",
              "      <td>25.1</td>\n",
              "      <td>NaN</td>\n",
              "      <td>78.9040</td>\n",
              "      <td>...</td>\n",
              "      <td>67.921772</td>\n",
              "      <td>2.293000e+08</td>\n",
              "      <td>2.359080e+11</td>\n",
              "      <td>42.018250</td>\n",
              "      <td>2.286680e+09</td>\n",
              "      <td>1.012301e+10</td>\n",
              "      <td>8515770.0</td>\n",
              "      <td>5392362.3</td>\n",
              "      <td>27.354722</td>\n",
              "      <td>2003</td>\n",
              "    </tr>\n",
              "    <tr>\n",
              "      <th>2004</th>\n",
              "      <td>NaN</td>\n",
              "      <td>98.886696</td>\n",
              "      <td>24.370776</td>\n",
              "      <td>184006479.0</td>\n",
              "      <td>1.201294</td>\n",
              "      <td>2.033</td>\n",
              "      <td>71.531</td>\n",
              "      <td>23.5</td>\n",
              "      <td>NaN</td>\n",
              "      <td>76.9660</td>\n",
              "      <td>...</td>\n",
              "      <td>48.356227</td>\n",
              "      <td>1.782800e+08</td>\n",
              "      <td>2.206936e+11</td>\n",
              "      <td>49.357814</td>\n",
              "      <td>2.812514e+09</td>\n",
              "      <td>1.816138e+10</td>\n",
              "      <td>8515770.0</td>\n",
              "      <td>5352854.4</td>\n",
              "      <td>27.367130</td>\n",
              "      <td>2004</td>\n",
              "    </tr>\n",
              "    <tr>\n",
              "      <th>2005</th>\n",
              "      <td>NaN</td>\n",
              "      <td>99.715893</td>\n",
              "      <td>21.999726</td>\n",
              "      <td>186127108.0</td>\n",
              "      <td>1.145885</td>\n",
              "      <td>1.976</td>\n",
              "      <td>71.896</td>\n",
              "      <td>22.0</td>\n",
              "      <td>NaN</td>\n",
              "      <td>75.0280</td>\n",
              "      <td>...</td>\n",
              "      <td>46.186531</td>\n",
              "      <td>2.172400e+08</td>\n",
              "      <td>1.883645e+11</td>\n",
              "      <td>53.233386</td>\n",
              "      <td>2.805358e+09</td>\n",
              "      <td>1.545998e+10</td>\n",
              "      <td>8515770.0</td>\n",
              "      <td>5313346.5</td>\n",
              "      <td>27.379537</td>\n",
              "      <td>2005</td>\n",
              "    </tr>\n",
              "    <tr>\n",
              "      <th>2006</th>\n",
              "      <td>NaN</td>\n",
              "      <td>104.982395</td>\n",
              "      <td>21.094201</td>\n",
              "      <td>188167353.0</td>\n",
              "      <td>1.090193</td>\n",
              "      <td>1.925</td>\n",
              "      <td>72.260</td>\n",
              "      <td>20.7</td>\n",
              "      <td>80.3</td>\n",
              "      <td>73.0900</td>\n",
              "      <td>...</td>\n",
              "      <td>38.248547</td>\n",
              "      <td>1.102000e+08</td>\n",
              "      <td>1.943030e+11</td>\n",
              "      <td>64.123359</td>\n",
              "      <td>3.287162e+09</td>\n",
              "      <td>1.941809e+10</td>\n",
              "      <td>8515770.0</td>\n",
              "      <td>5273838.6</td>\n",
              "      <td>27.392578</td>\n",
              "      <td>2006</td>\n",
              "    </tr>\n",
              "    <tr>\n",
              "      <th>2007</th>\n",
              "      <td>12.609200</td>\n",
              "      <td>108.793436</td>\n",
              "      <td>20.563386</td>\n",
              "      <td>190130445.0</td>\n",
              "      <td>1.037865</td>\n",
              "      <td>1.882</td>\n",
              "      <td>72.618</td>\n",
              "      <td>19.5</td>\n",
              "      <td>80.6</td>\n",
              "      <td>71.1520</td>\n",
              "      <td>...</td>\n",
              "      <td>28.052082</td>\n",
              "      <td>3.285900e+08</td>\n",
              "      <td>2.384445e+11</td>\n",
              "      <td>98.038602</td>\n",
              "      <td>3.305694e+09</td>\n",
              "      <td>4.457949e+10</td>\n",
              "      <td>8515770.0</td>\n",
              "      <td>5234330.7</td>\n",
              "      <td>27.478817</td>\n",
              "      <td>2007</td>\n",
              "    </tr>\n",
              "    <tr>\n",
              "      <th>2008</th>\n",
              "      <td>12.757724</td>\n",
              "      <td>112.673473</td>\n",
              "      <td>22.426382</td>\n",
              "      <td>192030362.0</td>\n",
              "      <td>0.994311</td>\n",
              "      <td>1.847</td>\n",
              "      <td>72.966</td>\n",
              "      <td>18.4</td>\n",
              "      <td>NaN</td>\n",
              "      <td>69.7322</td>\n",
              "      <td>...</td>\n",
              "      <td>23.471300</td>\n",
              "      <td>4.686300e+08</td>\n",
              "      <td>2.629572e+11</td>\n",
              "      <td>34.906605</td>\n",
              "      <td>3.642585e+09</td>\n",
              "      <td>5.071640e+10</td>\n",
              "      <td>8515770.0</td>\n",
              "      <td>5194822.8</td>\n",
              "      <td>27.565056</td>\n",
              "      <td>2008</td>\n",
              "    </tr>\n",
              "    <tr>\n",
              "      <th>2009</th>\n",
              "      <td>14.758221</td>\n",
              "      <td>109.111336</td>\n",
              "      <td>17.196919</td>\n",
              "      <td>193886505.0</td>\n",
              "      <td>0.961947</td>\n",
              "      <td>1.818</td>\n",
              "      <td>73.300</td>\n",
              "      <td>17.5</td>\n",
              "      <td>NaN</td>\n",
              "      <td>68.3124</td>\n",
              "      <td>...</td>\n",
              "      <td>23.488943</td>\n",
              "      <td>3.748100e+08</td>\n",
              "      <td>2.816511e+11</td>\n",
              "      <td>80.218995</td>\n",
              "      <td>2.889160e+09</td>\n",
              "      <td>3.148093e+10</td>\n",
              "      <td>8515770.0</td>\n",
              "      <td>5155314.9</td>\n",
              "      <td>27.651296</td>\n",
              "      <td>2009</td>\n",
              "    </tr>\n",
              "    <tr>\n",
              "      <th>2010</th>\n",
              "      <td>12.589453</td>\n",
              "      <td>127.212398</td>\n",
              "      <td>17.812623</td>\n",
              "      <td>195713637.0</td>\n",
              "      <td>0.937959</td>\n",
              "      <td>1.796</td>\n",
              "      <td>73.619</td>\n",
              "      <td>16.7</td>\n",
              "      <td>NaN</td>\n",
              "      <td>66.8926</td>\n",
              "      <td>...</td>\n",
              "      <td>18.385264</td>\n",
              "      <td>4.647800e+08</td>\n",
              "      <td>3.523644e+11</td>\n",
              "      <td>69.971885</td>\n",
              "      <td>3.082802e+09</td>\n",
              "      <td>8.238993e+10</td>\n",
              "      <td>8515770.0</td>\n",
              "      <td>5115807.0</td>\n",
              "      <td>27.737535</td>\n",
              "      <td>2010</td>\n",
              "    </tr>\n",
              "    <tr>\n",
              "      <th>2011</th>\n",
              "      <td>11.140500</td>\n",
              "      <td>136.642895</td>\n",
              "      <td>18.844591</td>\n",
              "      <td>197514541.0</td>\n",
              "      <td>0.915965</td>\n",
              "      <td>1.781</td>\n",
              "      <td>73.921</td>\n",
              "      <td>16.0</td>\n",
              "      <td>NaN</td>\n",
              "      <td>65.4728</td>\n",
              "      <td>...</td>\n",
              "      <td>18.737510</td>\n",
              "      <td>8.406900e+08</td>\n",
              "      <td>4.040461e+11</td>\n",
              "      <td>46.974872</td>\n",
              "      <td>3.214602e+09</td>\n",
              "      <td>1.024272e+11</td>\n",
              "      <td>8515770.0</td>\n",
              "      <td>5100415.2</td>\n",
              "      <td>27.823774</td>\n",
              "      <td>2011</td>\n",
              "    </tr>\n",
              "    <tr>\n",
              "      <th>2012</th>\n",
              "      <td>11.887214</td>\n",
              "      <td>129.306976</td>\n",
              "      <td>19.307583</td>\n",
              "      <td>199287292.0</td>\n",
              "      <td>0.893526</td>\n",
              "      <td>1.771</td>\n",
              "      <td>74.209</td>\n",
              "      <td>15.4</td>\n",
              "      <td>NaN</td>\n",
              "      <td>64.0530</td>\n",
              "      <td>...</td>\n",
              "      <td>15.676848</td>\n",
              "      <td>1.288540e+09</td>\n",
              "      <td>4.405152e+11</td>\n",
              "      <td>49.790400</td>\n",
              "      <td>2.784072e+09</td>\n",
              "      <td>9.256839e+10</td>\n",
              "      <td>8515770.0</td>\n",
              "      <td>5085023.4</td>\n",
              "      <td>27.910013</td>\n",
              "      <td>2012</td>\n",
              "    </tr>\n",
              "    <tr>\n",
              "      <th>2013</th>\n",
              "      <td>11.969717</td>\n",
              "      <td>125.759743</td>\n",
              "      <td>19.920177</td>\n",
              "      <td>201035904.0</td>\n",
              "      <td>0.873606</td>\n",
              "      <td>1.764</td>\n",
              "      <td>74.483</td>\n",
              "      <td>14.9</td>\n",
              "      <td>80.2</td>\n",
              "      <td>63.0646</td>\n",
              "      <td>...</td>\n",
              "      <td>28.015669</td>\n",
              "      <td>1.155730e+09</td>\n",
              "      <td>4.837654e+11</td>\n",
              "      <td>41.266877</td>\n",
              "      <td>2.717675e+09</td>\n",
              "      <td>7.521103e+10</td>\n",
              "      <td>8515770.0</td>\n",
              "      <td>5069631.6</td>\n",
              "      <td>27.996253</td>\n",
              "      <td>2013</td>\n",
              "    </tr>\n",
              "    <tr>\n",
              "      <th>2014</th>\n",
              "      <td>12.371055</td>\n",
              "      <td>121.483706</td>\n",
              "      <td>18.902635</td>\n",
              "      <td>202763744.0</td>\n",
              "      <td>0.855796</td>\n",
              "      <td>1.758</td>\n",
              "      <td>74.745</td>\n",
              "      <td>14.6</td>\n",
              "      <td>NaN</td>\n",
              "      <td>62.0762</td>\n",
              "      <td>...</td>\n",
              "      <td>22.911704</td>\n",
              "      <td>9.141500e+08</td>\n",
              "      <td>5.569196e+11</td>\n",
              "      <td>34.359901</td>\n",
              "      <td>2.647909e+09</td>\n",
              "      <td>8.771398e+10</td>\n",
              "      <td>8515770.0</td>\n",
              "      <td>5054239.8</td>\n",
              "      <td>28.082492</td>\n",
              "      <td>2014</td>\n",
              "    </tr>\n",
              "    <tr>\n",
              "      <th>2015</th>\n",
              "      <td>14.485715</td>\n",
              "      <td>107.347442</td>\n",
              "      <td>20.542811</td>\n",
              "      <td>204471759.0</td>\n",
              "      <td>0.838839</td>\n",
              "      <td>1.753</td>\n",
              "      <td>74.994</td>\n",
              "      <td>14.2</td>\n",
              "      <td>NaN</td>\n",
              "      <td>61.0878</td>\n",
              "      <td>...</td>\n",
              "      <td>39.762112</td>\n",
              "      <td>1.003190e+09</td>\n",
              "      <td>5.433974e+11</td>\n",
              "      <td>27.218447</td>\n",
              "      <td>2.896910e+09</td>\n",
              "      <td>6.473815e+10</td>\n",
              "      <td>8515770.0</td>\n",
              "      <td>5038848.0</td>\n",
              "      <td>28.168731</td>\n",
              "      <td>2015</td>\n",
              "    </tr>\n",
              "    <tr>\n",
              "      <th>2016</th>\n",
              "      <td>15.999958</td>\n",
              "      <td>109.927652</td>\n",
              "      <td>18.301734</td>\n",
              "      <td>206163056.0</td>\n",
              "      <td>0.823752</td>\n",
              "      <td>1.747</td>\n",
              "      <td>75.230</td>\n",
              "      <td>15.0</td>\n",
              "      <td>NaN</td>\n",
              "      <td>60.0994</td>\n",
              "      <td>...</td>\n",
              "      <td>51.011083</td>\n",
              "      <td>6.746300e+08</td>\n",
              "      <td>5.432572e+11</td>\n",
              "      <td>42.243235</td>\n",
              "      <td>2.739787e+09</td>\n",
              "      <td>7.429463e+10</td>\n",
              "      <td>8515770.0</td>\n",
              "      <td>5020821.0</td>\n",
              "      <td>28.254971</td>\n",
              "      <td>2016</td>\n",
              "    </tr>\n",
              "    <tr>\n",
              "      <th>2017</th>\n",
              "      <td>14.311719</td>\n",
              "      <td>116.234171</td>\n",
              "      <td>18.186544</td>\n",
              "      <td>207833825.0</td>\n",
              "      <td>0.807145</td>\n",
              "      <td>1.739</td>\n",
              "      <td>75.456</td>\n",
              "      <td>13.8</td>\n",
              "      <td>NaN</td>\n",
              "      <td>59.1110</td>\n",
              "      <td>...</td>\n",
              "      <td>34.616616</td>\n",
              "      <td>2.738900e+08</td>\n",
              "      <td>5.430003e+11</td>\n",
              "      <td>46.266455</td>\n",
              "      <td>2.698771e+09</td>\n",
              "      <td>6.888549e+10</td>\n",
              "      <td>8515770.0</td>\n",
              "      <td>5000916.0</td>\n",
              "      <td>28.341066</td>\n",
              "      <td>2017</td>\n",
              "    </tr>\n",
              "    <tr>\n",
              "      <th>2018</th>\n",
              "      <td>14.743912</td>\n",
              "      <td>114.765950</td>\n",
              "      <td>22.318351</td>\n",
              "      <td>209469320.0</td>\n",
              "      <td>0.783844</td>\n",
              "      <td>1.730</td>\n",
              "      <td>75.672</td>\n",
              "      <td>13.6</td>\n",
              "      <td>NaN</td>\n",
              "      <td>57.8858</td>\n",
              "      <td>...</td>\n",
              "      <td>33.153990</td>\n",
              "      <td>4.448300e+08</td>\n",
              "      <td>5.577425e+11</td>\n",
              "      <td>47.827652</td>\n",
              "      <td>2.933489e+09</td>\n",
              "      <td>7.816272e+10</td>\n",
              "      <td>8515770.0</td>\n",
              "      <td>4990514.0</td>\n",
              "      <td>28.341090</td>\n",
              "      <td>2018</td>\n",
              "    </tr>\n",
              "    <tr>\n",
              "      <th>2019</th>\n",
              "      <td>14.066459</td>\n",
              "      <td>114.945085</td>\n",
              "      <td>21.820625</td>\n",
              "      <td>211049519.0</td>\n",
              "      <td>0.751551</td>\n",
              "      <td>1.719</td>\n",
              "      <td>75.881</td>\n",
              "      <td>13.3</td>\n",
              "      <td>NaN</td>\n",
              "      <td>56.6606</td>\n",
              "      <td>...</td>\n",
              "      <td>53.229235</td>\n",
              "      <td>2.902300e+08</td>\n",
              "      <td>5.686459e+11</td>\n",
              "      <td>63.230714</td>\n",
              "      <td>3.213622e+09</td>\n",
              "      <td>6.917441e+10</td>\n",
              "      <td>NaN</td>\n",
              "      <td>4977985.0</td>\n",
              "      <td>NaN</td>\n",
              "      <td>2019</td>\n",
              "    </tr>\n",
              "    <tr>\n",
              "      <th>2020</th>\n",
              "      <td>11.350048</td>\n",
              "      <td>115.616068</td>\n",
              "      <td>26.036225</td>\n",
              "      <td>212559409.0</td>\n",
              "      <td>0.712873</td>\n",
              "      <td>NaN</td>\n",
              "      <td>NaN</td>\n",
              "      <td>13.1</td>\n",
              "      <td>NaN</td>\n",
              "      <td>NaN</td>\n",
              "      <td>...</td>\n",
              "      <td>50.639293</td>\n",
              "      <td>NaN</td>\n",
              "      <td>5.492343e+11</td>\n",
              "      <td>68.412236</td>\n",
              "      <td>3.566219e+09</td>\n",
              "      <td>3.778629e+10</td>\n",
              "      <td>NaN</td>\n",
              "      <td>4966196.0</td>\n",
              "      <td>NaN</td>\n",
              "      <td>2020</td>\n",
              "    </tr>\n",
              "  </tbody>\n",
              "</table>\n",
              "<p>30 rows × 64 columns</p>\n",
              "</div>\n",
              "      <button class=\"colab-df-convert\" onclick=\"convertToInteractive('df-4db62a7a-f91a-4109-bed6-6330c6f63b33')\"\n",
              "              title=\"Convert this dataframe to an interactive table.\"\n",
              "              style=\"display:none;\">\n",
              "        \n",
              "  <svg xmlns=\"http://www.w3.org/2000/svg\" height=\"24px\"viewBox=\"0 0 24 24\"\n",
              "       width=\"24px\">\n",
              "    <path d=\"M0 0h24v24H0V0z\" fill=\"none\"/>\n",
              "    <path d=\"M18.56 5.44l.94 2.06.94-2.06 2.06-.94-2.06-.94-.94-2.06-.94 2.06-2.06.94zm-11 1L8.5 8.5l.94-2.06 2.06-.94-2.06-.94L8.5 2.5l-.94 2.06-2.06.94zm10 10l.94 2.06.94-2.06 2.06-.94-2.06-.94-.94-2.06-.94 2.06-2.06.94z\"/><path d=\"M17.41 7.96l-1.37-1.37c-.4-.4-.92-.59-1.43-.59-.52 0-1.04.2-1.43.59L10.3 9.45l-7.72 7.72c-.78.78-.78 2.05 0 2.83L4 21.41c.39.39.9.59 1.41.59.51 0 1.02-.2 1.41-.59l7.78-7.78 2.81-2.81c.8-.78.8-2.07 0-2.86zM5.41 20L4 18.59l7.72-7.72 1.47 1.35L5.41 20z\"/>\n",
              "  </svg>\n",
              "      </button>\n",
              "      \n",
              "  <style>\n",
              "    .colab-df-container {\n",
              "      display:flex;\n",
              "      flex-wrap:wrap;\n",
              "      gap: 12px;\n",
              "    }\n",
              "\n",
              "    .colab-df-convert {\n",
              "      background-color: #E8F0FE;\n",
              "      border: none;\n",
              "      border-radius: 50%;\n",
              "      cursor: pointer;\n",
              "      display: none;\n",
              "      fill: #1967D2;\n",
              "      height: 32px;\n",
              "      padding: 0 0 0 0;\n",
              "      width: 32px;\n",
              "    }\n",
              "\n",
              "    .colab-df-convert:hover {\n",
              "      background-color: #E2EBFA;\n",
              "      box-shadow: 0px 1px 2px rgba(60, 64, 67, 0.3), 0px 1px 3px 1px rgba(60, 64, 67, 0.15);\n",
              "      fill: #174EA6;\n",
              "    }\n",
              "\n",
              "    [theme=dark] .colab-df-convert {\n",
              "      background-color: #3B4455;\n",
              "      fill: #D2E3FC;\n",
              "    }\n",
              "\n",
              "    [theme=dark] .colab-df-convert:hover {\n",
              "      background-color: #434B5C;\n",
              "      box-shadow: 0px 1px 3px 1px rgba(0, 0, 0, 0.15);\n",
              "      filter: drop-shadow(0px 1px 2px rgba(0, 0, 0, 0.3));\n",
              "      fill: #FFFFFF;\n",
              "    }\n",
              "  </style>\n",
              "\n",
              "      <script>\n",
              "        const buttonEl =\n",
              "          document.querySelector('#df-4db62a7a-f91a-4109-bed6-6330c6f63b33 button.colab-df-convert');\n",
              "        buttonEl.style.display =\n",
              "          google.colab.kernel.accessAllowed ? 'block' : 'none';\n",
              "\n",
              "        async function convertToInteractive(key) {\n",
              "          const element = document.querySelector('#df-4db62a7a-f91a-4109-bed6-6330c6f63b33');\n",
              "          const dataTable =\n",
              "            await google.colab.kernel.invokeFunction('convertToInteractive',\n",
              "                                                     [key], {});\n",
              "          if (!dataTable) return;\n",
              "\n",
              "          const docLinkHtml = 'Like what you see? Visit the ' +\n",
              "            '<a target=\"_blank\" href=https://colab.research.google.com/notebooks/data_table.ipynb>data table notebook</a>'\n",
              "            + ' to learn more about interactive tables.';\n",
              "          element.innerHTML = '';\n",
              "          dataTable['output_type'] = 'display_data';\n",
              "          await google.colab.output.renderOutput(dataTable, element);\n",
              "          const docLink = document.createElement('div');\n",
              "          docLink.innerHTML = docLinkHtml;\n",
              "          element.appendChild(docLink);\n",
              "        }\n",
              "      </script>\n",
              "    </div>\n",
              "  </div>\n",
              "  "
            ]
          },
          "metadata": {},
          "execution_count": 26
        }
      ]
    },
    {
      "cell_type": "code",
      "source": [
        "dffspark = spark.createDataFrame(data=dffspark)"
      ],
      "metadata": {
        "id": "IZajXZrS4J-8"
      },
      "execution_count": null,
      "outputs": []
    },
    {
      "cell_type": "code",
      "source": [
        "dffspark.columns"
      ],
      "metadata": {
        "id": "qgc3bD0KOCkW",
        "colab": {
          "base_uri": "https://localhost:8080/"
        },
        "outputId": "5096e5d7-1bc9-4558-f697-e89a8789b317"
      },
      "execution_count": null,
      "outputs": [
        {
          "output_type": "execute_result",
          "data": {
            "text/plain": [
              "['Exportações de alta tecnologia (% de exportações manufaturadas)',\n",
              " 'Índice de termos de permuta líquida (2000 = 100)',\n",
              " 'Comércio de mercadorias (% do PIB)',\n",
              " 'População, total',\n",
              " 'Crescimento da população (anual %)',\n",
              " 'Taxa de fertilidade, total (nascimentos por mulher)',\n",
              " 'Expectativa de vida no nascimento, total (anos)',\n",
              " 'Taxa de mortalidade infantil (por 1.000 nascidos vivos):',\n",
              " 'Uso de método anticoncepcional (% de mulheres de 15 a 19 anos de idade)',\n",
              " 'Taxa de fertilidade de adolescentes (nascimentos por 1.000 mulheres de 15 a 19 anos de idade)',\n",
              " 'Migração, total líquido',\n",
              " 'Desemprego, total (% da força de trabalho total)',\n",
              " 'Pobreza, linha de pobreza nacional (% da população)',\n",
              " 'Índice de Gini',\n",
              " 'Pobreza, US$1,90/dia (PPP) (% da população)',\n",
              " 'Participação da renda dos 20% mais pobres',\n",
              " 'Prevalência da desnutrição, peso para a idade (% de crianças menores de 5 anos):',\n",
              " 'Partos assistidos por pessoal de saúde qualificado (% do total):',\n",
              " 'Imunização, sarampo (% de crianças de 12 a 23 meses)',\n",
              " 'Taxa de mortalidade, menores de 5 anos (por 1.000 nascidos vivos)',\n",
              " 'Prevalência de HIV, total (% de população de 15 a 49 anos)',\n",
              " 'Despesa pública na educação, total (% do PIB)',\n",
              " 'Matrícula escolar, ensino médio (% bruto)',\n",
              " 'Taxa de Matrícula Líquida Ajustada',\n",
              " 'Matrícula escolar, ensino fundamental (% bruto)',\n",
              " 'Taxa de conclusão do ensino fundamental, total (% de faixa etária relevante)',\n",
              " 'Proporção meninas/meninos nos ensinos fundamental e médio (%)',\n",
              " 'Taxa de alfabetização, total de adultos (% de pessoas com 15 anos ou mais)',\n",
              " 'RNB per capita, PPP ($ internacional atual)',\n",
              " 'RNB per capita, método Atlas (US$ atual)',\n",
              " 'RNB, PPP ($ internacional atual)',\n",
              " 'RNB, método Atlas (US$ atual)',\n",
              " 'PIB per capita, PPP ($ internacional atual)',\n",
              " 'PIB per capita (US$ atual)',\n",
              " 'Aumento do PIB (% anual)',\n",
              " 'PIB, (US$ atual)',\n",
              " 'Inflação, deflator do PIB (% anual)',\n",
              " 'Indústria, valor agregado (% do PIB)',\n",
              " 'Agricultura, valor agregado (% do PIB)',\n",
              " 'Importação de bens e serviços (% do PIB)',\n",
              " 'Formação de capital bruto (% do PIB)',\n",
              " 'Exportação de bens e serviços (% do PIB)',\n",
              " 'Despesas militares (% do PIB)',\n",
              " 'Assinatura de telefone celular (por 1.000 pessoas)',\n",
              " 'Tempo necessário para iniciar um negócio (dias)',\n",
              " 'Índice da facilidade de fazer negócios (1 = regulamentações mais favoráveis ao usuário)',\n",
              " 'Receita, excluindo subsídios (% do PIB)',\n",
              " 'Dívida do governo central, total (% do PIB)',\n",
              " 'Despesa com pesquisas e desenvolvimento (% do PIB)',\n",
              " 'Inflação, preços ao consumidor (% anual)',\n",
              " 'Retiradas anuais de água doce, total (% de recursos internos)',\n",
              " 'Emissões de CO2 (toneladas métricas per capita)',\n",
              " 'Uso de energia (kg do petróleo equivalente per capita)',\n",
              " 'Consumo de energia elétrica (kWh per capita)',\n",
              " 'Serviço da dívida total (% de exportações de produtos, serviços e renda primária)',\n",
              " 'Assistência oficial para o desenvolvimento  (US$ atual, líquido)',\n",
              " 'Ações da dívida externa, total (DOD, US$ atual)',\n",
              " 'Capitalização de mercado de empresas listadas (% do PIB)',\n",
              " 'Remessas pessoais, recebidas (US$ atual)',\n",
              " 'Investimento estrangeiro direto, ingressos líquidos (BoP, US$ atual)',\n",
              " 'Superfície (km²)',\n",
              " 'Área florestal (km²)',\n",
              " 'Terra cultivável (% de área terrestre)',\n",
              " 'ano']"
            ]
          },
          "metadata": {},
          "execution_count": 28
        }
      ]
    },
    {
      "cell_type": "code",
      "source": [
        "dffspark.show()"
      ],
      "metadata": {
        "id": "K4o3NbGVHmMf",
        "colab": {
          "base_uri": "https://localhost:8080/"
        },
        "outputId": "3ed71e86-a87d-4f11-a6aa-66c66279955f"
      },
      "execution_count": null,
      "outputs": [
        {
          "output_type": "stream",
          "name": "stdout",
          "text": [
            "+---------------------------------------------------------------+------------------------------------------------+----------------------------------+----------------+----------------------------------+---------------------------------------------------+-----------------------------------------------+--------------------------------------------------------+-----------------------------------------------------------------------+---------------------------------------------------------------------------------------------+-----------------------+------------------------------------------------+---------------------------------------------------+--------------+-------------------------------------------+-----------------------------------------+--------------------------------------------------------------------------------+----------------------------------------------------------------+----------------------------------------------------+-----------------------------------------------------------------+----------------------------------------------------------+---------------------------------------------+-----------------------------------------+----------------------------------+-----------------------------------------------+----------------------------------------------------------------------------+-------------------------------------------------------------+--------------------------------------------------------------------------+-------------------------------------------+----------------------------------------+--------------------------------+-----------------------------+-------------------------------------------+--------------------------+------------------------+--------------------+-----------------------------------+------------------------------------+--------------------------------------+----------------------------------------+------------------------------------+----------------------------------------+-----------------------------+--------------------------------------------------+-----------------------------------------------+---------------------------------------------------------------------------------------+---------------------------------------+-------------------------------------------+--------------------------------------------------+----------------------------------------+-------------------------------------------------------------+-----------------------------------------------+------------------------------------------------------+--------------------------------------------+---------------------------------------------------------------------------------+----------------------------------------------------------------+-----------------------------------------------+--------------------------------------------------------+----------------------------------------+--------------------------------------------------------------------+----------------+--------------------+--------------------------------------+----+\n",
            "|Exportações de alta tecnologia (% de exportações manufaturadas)|Índice de termos de permuta líquida (2000 = 100)|Comércio de mercadorias (% do PIB)|População, total|Crescimento da população (anual %)|Taxa de fertilidade, total (nascimentos por mulher)|Expectativa de vida no nascimento, total (anos)|Taxa de mortalidade infantil (por 1.000 nascidos vivos):|Uso de método anticoncepcional (% de mulheres de 15 a 19 anos de idade)|Taxa de fertilidade de adolescentes (nascimentos por 1.000 mulheres de 15 a 19 anos de idade)|Migração, total líquido|Desemprego, total (% da força de trabalho total)|Pobreza, linha de pobreza nacional (% da população)|Índice de Gini|Pobreza, US$1,90/dia (PPP) (% da população)|Participação da renda dos 20% mais pobres|Prevalência da desnutrição, peso para a idade (% de crianças menores de 5 anos):|Partos assistidos por pessoal de saúde qualificado (% do total):|Imunização, sarampo (% de crianças de 12 a 23 meses)|Taxa de mortalidade, menores de 5 anos (por 1.000 nascidos vivos)|Prevalência de HIV, total (% de população de 15 a 49 anos)|Despesa pública na educação, total (% do PIB)|Matrícula escolar, ensino médio (% bruto)|Taxa de Matrícula Líquida Ajustada|Matrícula escolar, ensino fundamental (% bruto)|Taxa de conclusão do ensino fundamental, total (% de faixa etária relevante)|Proporção meninas/meninos nos ensinos fundamental e médio (%)|Taxa de alfabetização, total de adultos (% de pessoas com 15 anos ou mais)|RNB per capita, PPP ($ internacional atual)|RNB per capita, método Atlas (US$ atual)|RNB, PPP ($ internacional atual)|RNB, método Atlas (US$ atual)|PIB per capita, PPP ($ internacional atual)|PIB per capita (US$ atual)|Aumento do PIB (% anual)|    PIB, (US$ atual)|Inflação, deflator do PIB (% anual)|Indústria, valor agregado (% do PIB)|Agricultura, valor agregado (% do PIB)|Importação de bens e serviços (% do PIB)|Formação de capital bruto (% do PIB)|Exportação de bens e serviços (% do PIB)|Despesas militares (% do PIB)|Assinatura de telefone celular (por 1.000 pessoas)|Tempo necessário para iniciar um negócio (dias)|Índice da facilidade de fazer negócios (1 = regulamentações mais favoráveis ao usuário)|Receita, excluindo subsídios (% do PIB)|Dívida do governo central, total (% do PIB)|Despesa com pesquisas e desenvolvimento (% do PIB)|Inflação, preços ao consumidor (% anual)|Retiradas anuais de água doce, total (% de recursos internos)|Emissões de CO2 (toneladas métricas per capita)|Uso de energia (kg do petróleo equivalente per capita)|Consumo de energia elétrica (kWh per capita)|Serviço da dívida total (% de exportações de produtos, serviços e renda primária)|Assistência oficial para o desenvolvimento  (US$ atual, líquido)|Ações da dívida externa, total (DOD, US$ atual)|Capitalização de mercado de empresas listadas (% do PIB)|Remessas pessoais, recebidas (US$ atual)|Investimento estrangeiro direto, ingressos líquidos (BoP, US$ atual)|Superfície (km²)|Área florestal (km²)|Terra cultivável (% de área terrestre)| ano|\n",
            "+---------------------------------------------------------------+------------------------------------------------+----------------------------------+----------------+----------------------------------+---------------------------------------------------+-----------------------------------------------+--------------------------------------------------------+-----------------------------------------------------------------------+---------------------------------------------------------------------------------------------+-----------------------+------------------------------------------------+---------------------------------------------------+--------------+-------------------------------------------+-----------------------------------------+--------------------------------------------------------------------------------+----------------------------------------------------------------+----------------------------------------------------+-----------------------------------------------------------------+----------------------------------------------------------+---------------------------------------------+-----------------------------------------+----------------------------------+-----------------------------------------------+----------------------------------------------------------------------------+-------------------------------------------------------------+--------------------------------------------------------------------------+-------------------------------------------+----------------------------------------+--------------------------------+-----------------------------+-------------------------------------------+--------------------------+------------------------+--------------------+-----------------------------------+------------------------------------+--------------------------------------+----------------------------------------+------------------------------------+----------------------------------------+-----------------------------+--------------------------------------------------+-----------------------------------------------+---------------------------------------------------------------------------------------+---------------------------------------+-------------------------------------------+--------------------------------------------------+----------------------------------------+-------------------------------------------------------------+-----------------------------------------------+------------------------------------------------------+--------------------------------------------+---------------------------------------------------------------------------------+----------------------------------------------------------------+-----------------------------------------------+--------------------------------------------------------+----------------------------------------+--------------------------------------------------------------------+----------------+--------------------+--------------------------------------+----+\n",
            "|                                                            NaN|                                        78.90625|                 15.92689153307888|    1.51648007E8|                  1.75941419381772|                                              2.822|                                         66.742|                                                    50.6|                                                                   59.2|                                                                                      83.3338|                    NaN|                                6.31400012969971|                                                NaN|           NaN|                                        NaN|                                      NaN|                                                                             NaN|                                                            69.5|                                                85.0|                                                             60.4|                                                       0.2|                                          NaN|                                      NaN|                               NaN|                                            NaN|                                                                         NaN|                                                          NaN|                                                                       NaN|                                     6720.0|                                  2390.0|            1.018865679386809...|         3.624708143008414...|                          6872.636942722494|         2259.239893668009|      1.0321895854695953|3.426092272096454...|                 416.67808769907003|                  31.767245605248323|                     6.841308029801072|                       7.914520879740154|                  19.768805298004384|                       8.677605337920818|             1.96333333333333|                                       0.004418126|                                            NaN|                                                                                    NaN|                                    NaN|                                        NaN|                                               NaN|                        432.786661926461|                                                          NaN|                             1.3530016256659412|                                     942.0380381260137|                          1486.2246095987268|                                                               23.425089253389878|                                            1.9613999938964802E8|                              1.213367091298E11|                                                     NaN|                                  1.11E9|                                                             1.103E9|       8515770.0|           5851170.6|                    27.934468673652272|1991|\n",
            "|                                                            NaN|                                     81.96721311|                 17.94977573764493|    1.54259382E8|                  1.70733923298647|                                              2.754|                                         67.141|                                                    48.4|                                                                    NaN|                                                                                       83.727|                    0.0|                                6.42000007629395|                                                NaN|          53.2|                                       20.7|                                      2.8|                                                                             NaN|                                                             NaN|                                                91.0|                                                             57.4|                                                       0.2|                                          NaN|                                      NaN|                               NaN|                                            NaN|                                                                         NaN|                                                          NaN|                                                                       NaN|                                     6740.0|                                  2340.0|            1.040174352114559...|         3.614235595203693E11|                          6872.666791263366|        2127.5071898116885|     -0.5440720510302981|3.281879443009078E11|                   969.012921772513|                   34.13226664222514|                     6.806091411657388|                        8.38505912549662|                   18.93453584914791|                      10.868313400759144|             1.52152886115445|                                       0.020744281|                                            NaN|                                                                                    NaN|                                    NaN|                                        NaN|                                               NaN|                        951.962053052818|                                           0.8135782841671083|                             1.3526567868656443|                                     935.7464624096575|                          1494.0614762737737|                                                               21.240737381399548|                                            -2.35589996337890...|                              1.295359485572E11|                                                     NaN|                                 1.791E9|                                                             2.061E9|       8515770.0|           5813361.2|                    27.764598343650622|1992|\n",
            "|                                                            NaN|                                     87.27272727|                17.963551035141624|    1.56849086E8|                  1.66486231216782|                                              2.693|                                         67.539|                                                    46.0|                                                                    NaN|                                                                                       83.834|                    NaN|                                6.03000020980835|                                                NaN|          60.1|                                       19.8|                                      2.4|                                                                             NaN|                                                             NaN|                                                85.0|                                                             54.3|                                                       0.2|                                          NaN|                                      NaN|                               NaN|                                            NaN|                                                                         NaN|                                                          NaN|                                                                       NaN|                                     7080.0|                                  2310.0|            1.111028305480113E12|         3.624349184766566E11|                          7260.168864366995|         2348.090047334286|       4.924690004637739|3.682957777700794...|                 1996.1503502950345|                   37.29912071752452|                     6.778109376557369|                       9.096048645829836|                  20.846355555839878|                      10.503271539985565|             1.92792281498297|                                        0.11603511|                                            NaN|                                                                                    NaN|                                    NaN|                                        NaN|                                               NaN|                        1927.38079016026|                                                          NaN|                             1.3718919598932187|                                     943.3269952239315|                          1537.5926385697906|                                                               25.158259372647706|                                              1.97520004272461E8|                              1.445995771243E11|                                                     NaN|                                 1.247E9|                                                             1.292E9|       8515770.0|           5775551.8|                    27.594728013648968|1993|\n",
            "|                                                            NaN|                                      100.952381|                15.177307908807173|    1.59432717E8|                   1.6337888839804|                                              2.639|                                         67.932|                                                    43.5|                                                                    NaN|                                                                                       83.941|                    NaN|                                6.16900014877319|                                                NaN|           NaN|                                        NaN|                                      NaN|                                                                             NaN|                                                             NaN|                                                77.0|                                                             51.1|                                                       0.2|                                          NaN|                                      NaN|                               NaN|                                            NaN|                                                                         NaN|                                                          NaN|                                                                       NaN|                                     7590.0|                                  2670.0|            1.210607970679508E12|         4.259605399379371...|                         7722.0089579309515|         3295.244923623438|       5.852870364389304|5.253698513537422E11|                  2240.168869201598|                   35.42091971797434|                     8.721989375176728|                       9.161683369082233|                  22.145562946480453|                       9.513076427020039|               2.016007789121|                                       0.360032128|                                            NaN|                                                                                    NaN|                                    NaN|                                        NaN|                                               NaN|                        2075.88839757325|                                                          NaN|                             1.3969529227805857|                                     976.9821773783108|                          1566.7612313224267|                                                                31.24183905940014|                                              2.59869995117188E8|                              1.529031035577E11|                                                     NaN|                                 2.068E9|                                                             3.072E9|       8515770.0|           5737742.4|                    27.424857683647318|1994|\n",
            "|                                                            NaN|                                     110.3773585|                13.081845804305619|    1.62019889E8|                  1.60971030654546|                                              2.588|                                         68.318|                                                    41.1|                                                                    NaN|                                                                                       84.048|                    NaN|                                6.42000007629395|                                                NaN|          59.6|                                       12.9|                                      2.4|                                                                             NaN|                                                             NaN|                                                87.0|                                                             48.0|                                                       0.2|                             4.56816005706787|                                      NaN|                               NaN|                                            NaN|                                                                         NaN|                                                          NaN|                                                                       NaN|                                     7970.0|                                  3430.0|            1.290556008162411...|         5.557715069238184E11|                          8085.722898559345|         4748.388207876052|       4.223793633647205|7.693333303689868E11|                  93.97804304413225|                   23.38146038673418|                     5.011666463863474|                       9.455584964252443|                  17.292346346417908|                       7.528875043387441|             1.86213698033379|                                       0.793441443|                                            NaN|                                                                                    NaN|                                    NaN|                                        NaN|                                               NaN|                        66.0070335542481|                                                          NaN|                             1.4905577425744316|                                     994.2898491925273|                           1634.398107753302|                                                                38.56568185532461|                                              2.64329986572266E8|                              1.609642283435E11|                                                     NaN|                                 2.952E9|                                                             4.859E9|       8515770.0|           5699933.0|                     27.25546592902249|1995|\n",
            "|                                                            NaN|                                     108.3333333|                12.314763033653014|    1.64614682E8|                  1.58883830194468|                                              2.536|                                         68.695|                                                    38.7|                                                                   76.7|                                                                                       84.155|                    NaN|                                            7.25|                                                NaN|          59.9|                                       14.1|                                      2.2|                                                                             4.5|                                                            87.6|                                                80.0|                                                             45.0|                                                       0.3|                                          NaN|                                      NaN|                               NaN|                                            NaN|                                                                         NaN|                                                          NaN|                                                                       NaN|                                     8060.0|                                  4350.0|            1.326770296838026...|         7.156639102725813E11|                          8282.988337581175|          5166.16393308148|       2.208864050514819| 8.50426433004077E11|                 18.456243776898546|                  22.340114560779302|                     4.768411208331665|                       8.905381793670406|                  17.266946378350628|                       6.730209684712538|           1.6548434995029102|                                       1.517576609|                                            NaN|                                                                                    NaN|                                    NaN|                                        NaN|                                               NaN|                        15.7576656002606|                                                          NaN|                             1.5970628913889955|                                    1030.6680724869973|                           1687.085238241386|                                                                43.69477886805171|                                              2.57799987792969E8|                              1.817935269892E11|                                                     NaN|                                 2.059E9|                                                           1.2552E10|       8515770.0|           5662123.6|                    27.267872995666497|1996|\n",
            "|                                                            NaN|                                     114.4230769|                13.273906641983627|    1.67209046E8|                  1.56373197369546|                                              2.483|                                         69.061|                                                    36.5|                                                                    NaN|                                                                                       84.262|                    0.0|                                8.15999984741211|                                                NaN|          59.8|                                       14.0|                                      2.3|                                                                             NaN|                                                            98.6|                                                99.0|                                                             42.2|                                                       0.3|                                          NaN|                                      NaN|                               NaN|                                            NaN|                                                                         NaN|                                                          NaN|                                                                       NaN|                                     8310.0|                                  5020.0|            1.389212962001470...|         8.387656790861338E11|                          8582.069531493746|         5282.049469949876|      3.3948459853159676|8.832064527951244E11|                  7.729023410047816|                   22.59414761182627|                     4.685047025481692|                       9.592559686050647|                  17.763985615088906|                        6.98364957728647|           1.5776883155177401|                                       2.721144742|                                            NaN|                                                                                    NaN|                                    NaN|                                        NaN|                                               NaN|                        6.92671251629151|                                           0.9742095036212683|                             1.6835811622297039|                                    1066.1869513925699|                           1762.410629386642|                                                                59.84653480084312|                                            2.2978999328613302E8|                              1.989802934951E11|                                                     NaN|                                 1.572E9|                                                 1.89929343106468E10|       8515770.0|           5624314.2|                    27.280280062310514|1997|\n",
            "|                                                            NaN|                                     114.2857143|                12.943218165780626|    1.69785253E8|                  1.52896188133332|                                              2.426|                                         69.419|                                                    34.3|                                                                    NaN|                                                                                       83.578|                    NaN|                                9.42000007629395|                                                NaN|          59.6|                                       12.7|                                      2.4|                                                                             NaN|                                                            98.6|                                                95.0|                                                             39.6|                                                       0.3|                             4.75665998458862|                                      NaN|                               NaN|                                            NaN|                                                                         NaN|                                                          NaN|                                                                       NaN|                                     8200.0|                                  4840.0|            1.391681461944338...|          8.22017838549981E11|                          8575.875453525092|         5087.079072323747|       0.338097901952338|8.637110073254927E11|                  4.924361586752909|                  22.118790379466635|                     4.750044787566312|                       9.408084593565363|                  18.164751917307612|                        7.03050033464164|           1.6622919197582402|                                        4.33972798|                                            NaN|                                                                                    NaN|                                    NaN|                                        NaN|                                               NaN|                        3.19507629280056|                                                          NaN|                              1.712516221888835|                                    1075.1990810415084|                           1808.343154514132|                                                                80.75591555346179|                                              2.60609985351563E8|                              2.419984157638E11|                                                     NaN|                                 1.236E9|                                                   2.885560991642E10|       8515770.0|           5586504.8|                     27.29268712895453|1998|\n",
            "|                                                            NaN|                                     103.1578947|                16.639926409309435|    1.72318674E8|                  1.48110975211591|                                              2.365|                                         69.769|                                                    32.3|                                                                    NaN|                                                                                       82.894|                    NaN|                                 10.210000038147|                                                NaN|          59.0|                                       13.3|                                      2.5|                                                                             NaN|                                                            98.6|                                                99.0|                                                             37.1|                                                       0.3|                             3.80062007904053|                                      NaN|                          98.07272|                               165.645385742188|                                                                         NaN|                                                          NaN|                                                                       NaN|                                     8160.0|                                  4120.0|            1.406472958187046...|         7.103610005277623E11|                          8611.902385806623|        3479.8438328539514|     0.46793756667946695|5.996420750044706E11|                  8.010500876868292|                  21.746711249679297|                     4.645981538206647|                      11.417268214315927|                   17.38955974337654|                       9.564898259565036|             1.64547466656987|                                       8.723777617|                                            NaN|                                                                                    NaN|                                    NaN|                                        NaN|                                               NaN|                        4.85844749902668|                                                          NaN|                             1.7445584568507069|                                     1083.403984410883|                          1832.3783062536797|                                                               116.56389423631173|                                              1.44380004882813E8|                               2.45114967226E11|                                                     NaN|                                 1.501E9|                                                 2.83856756149902E10|       8515770.0|           5548695.4|                    27.305094195598546|1999|\n",
            "|                                                            NaN|                                           100.0|                 17.35636806047378|    1.74790339E8|                  1.42416744229362|                                                2.3|                                         70.116|                                                    30.4|                                                                    NaN|                                                                                        82.21|                    NaN|                                9.56099987030029|                                                NaN|           NaN|                                        NaN|                                      NaN|                                                                             NaN|                                                            98.6|                                                99.0|                                                             34.7|                                                       0.3|                             3.94893002510071|                                      NaN|                               NaN|                                            NaN|                                                                         NaN|                                                          NaN|                                                          86.3678817749023|                                     8800.0|                                  3930.0|            1.538129578645821...|         6.874776141114637E11|                          9060.788666957324|        3749.9108475288826|       4.387949443648694|6.554481882593507E11|                  5.606065152717775|                  23.006618629367843|                     4.750459972091092|                      12.451713727280987|                  18.903119268969977|                      10.188048187509985|             1.73072614713627|                                       13.26627719|                                            NaN|                                                                                    NaN|                                    NaN|                                        NaN|                                           1.04751|                        7.04414105947266|                                                          NaN|                             1.7888288436811144|                                    1072.3795438144896|                          1897.3531483339018|                                                                87.00462324894433|                                            2.5567999267578098E8|                              2.425116855218E11|                                       34.50346099828032|                              1.349591E9|                                                   3.299471869975E10|       8515770.0|           5510886.0|                    27.317501262242555|2000|\n",
            "|                                                            NaN|                                      99.7753485|                 20.83435627626412|    1.77196051E8|                  1.36695595542708|                                              2.232|                                         70.462|                                                    28.5|                                                                    NaN|                                                                                       81.526|                    NaN|                                9.60999965667725|                                                NaN|          58.4|                                       11.5|                                      2.5|                                                                             NaN|                                                            98.3|                                                99.0|                                                             32.5|                                                       0.3|                             3.84468007087708|                                      NaN|                          98.85493|                               150.785552978516|                                                            112.229606628418|                                                          NaN|                                                                       NaN|                                     8960.0|                                  3350.0|            1.587692146986589...|         5.939349887486967E11|                          9260.768380930815|         3160.249344914407|      1.3898964044580993|5.599837040941699E11|                  8.225094316433413|                  22.639527912854906|                     4.801043018955071|                      14.564574473394803|                  18.741860293251456|                      12.371710548036031|           1.9518824453253198|                                       16.22257852|                                            NaN|                                                                                    NaN|                                    NaN|                                        NaN|                                           1.06198|                        6.84035902487525|                                                          NaN|                             1.8034261948648054|                                    1076.2754921665833|                          1747.9396310022732|                                                                71.73722700005504|                                              2.52020004272461E8|                              2.299597174021E11|                                      33.257683864436395|                              1.448914E9|                                                  2.3225846372251E10|       8515770.0|           5471378.1|                     27.32990832888657|2001|\n",
            "|                                                            NaN|                                     98.40117544|                21.609066685129662|    1.79537523E8|                  1.31274754952678|                                              2.163|                                         70.813|                                                    26.8|                                                                    NaN|                                                                                       80.842|                    0.0|                                9.36999988555908|                                                NaN|          58.1|                                       10.2|                                      2.6|                                                                             NaN|                                                            98.5|                                                96.0|                                                             30.4|                                                       0.4|                             3.75037002563477|                         109.994216918945|                          96.72741|                               146.827789306641|                                                            114.199432373047|                                              1.0129599571228|                                                                       NaN|                                     9250.0|                                  3100.0|            1.660197051679057E12|         5.565543192239004E11|                          9568.066027297284|        2839.4915010896643|      3.0534618568361935|5.097952706851901E11|                  9.798112234313109|                  22.495327821077982|                     5.475274894762806|                      13.387767211830262|                  17.449079484503706|                      14.230590318793604|           1.8957711991561699|                                       19.42823093|                                            NaN|                                                                                    NaN|                                    NaN|                                        NaN|                                           1.00968|                         8.4501643770833|                                           1.0024730612965906|                              1.767207181531629|                                    1090.3498484826484|                           1806.669684308834|                                                                72.04845901011001|                                            2.3641000366210902E8|                              2.319441810345E11|                                      24.865183592155773|                              2.003791E9|                                                  1.6586600193114E10|       8515770.0|           5431870.2|                    27.342315395530587|2002|\n",
            "|                                                            NaN|                                     97.25000194|                22.227965568663517|    1.81809244E8|                  1.25737996705435|                                              2.097|                                          71.17|                                                    25.1|                                                                    NaN|                                                                                       78.904|                    NaN|                                9.98999977111816|                                                NaN|          57.6|                                       11.0|                                      2.6|                                                                             NaN|                                                            98.4|                                                97.0|                                                             28.4|                                                       0.4|                                          NaN|                         101.868667602539|                          94.29506|                               140.544494628906|                                                            109.366607666016|                                             1.03544998168945|                                                                       NaN|                                     9420.0|                                  2990.0|            1.713529919962907...|         5.434808988921519E11|                          9733.773303922619|        3070.4364194194154|      1.1408289987710134|5.582337241647108E11|                 14.091021527267017|                  23.083817818323578|                     6.167184387424183|                      12.959601188915107|                     16.856688397799|                      15.180783597872816|             1.50347763554507|                                       25.50654987|                                            NaN|                                                                                    NaN|                                    NaN|                                        NaN|                                           0.99939|                        14.7149197228147|                                                          NaN|                             1.7015086427618609|                                    1094.4246817285045|                           1882.264028335105|                                                                67.92177237640448|                                            2.2930000305175802E8|                              2.359079841684E11|                                       42.01824967686678|                               2.28668E9|                                                 1.01230136709901E10|       8515770.0|           5392362.3|                    27.354722462174596|2003|\n",
            "|                                                            NaN|                                      98.8866955|                24.370775784395672|    1.84006479E8|                  1.20129414101631|                                              2.033|                                         71.531|                                                    23.5|                                                                    NaN|                                                                                       76.966|                    NaN|                                9.10999965667725|                                                NaN|          56.5|                                        9.7|                                      2.9|                                                                             NaN|                                                            98.6|                                                97.0|                                                             26.5|                                                       0.4|                             3.97447991371155|                         102.371032714844|                          95.58531|                               133.696304321289|                                                            100.684646606445|                                             1.03352999687195|                                                          88.6162414550781|                                    10140.0|                                  3350.0|            1.865228223661733...|         6.161544794445844E11|                          10445.34717821038|         3637.313890151203|       5.759964636859976|6.692893219445156E11|                  7.752060759463262|                   24.30662329057763|                    5.6653115767889215|                       13.13249111009058|                  17.912568341938947|                      16.545761629733345|             1.46126840890621|                                       35.65363548|                                            NaN|                                                                                    NaN|                                    NaN|                                        NaN|                                           0.96343|                        6.59718509985962|                                                          NaN|                             1.7758070355772635|                                    1141.4911102124834|                          1956.1593806705034|                                                               48.356227095706544|                                              1.78279998779297E8|                              2.206935926006E11|                                      49.357814202119584|                              2.812514E9|                                                 1.81613804597533E10|       8515770.0|           5352854.4|                    27.367129528818612|2004|\n",
            "|                                                            NaN|                                     99.71589304|                21.999726137269565|    1.86127108E8|                  1.14588477164177|                                              1.976|                                         71.896|                                                    22.0|                                                                    NaN|                                                                                       75.028|                    NaN|                                9.56999969482422|                                                NaN|          56.3|                                        8.6|                                      2.9|                                                                             NaN|                                                            98.6|                                                98.0|                                                             24.8|                                                       0.4|                             4.47908020019531|                           101.2919921875|                          96.07993|                               133.262161254883|                                                                         NaN|                                             1.02884995937347|                                                                       NaN|                                    10670.0|                                  4000.0|            1.986219466903224...|         7.439144003285754E11|                         10988.961148447677|         4790.456565861311|      3.2021320621625478|8.916338266033773E11|                  7.431224754784878|                  24.172578278009887|                     4.651168820814417|                      11.842965919765717|                  17.204883460677934|                       15.24382913811164|             1.52401339252107|                                       46.31799164|                                            NaN|                                                                                    NaN|                                    NaN|                                        NaN|                                           1.00246|                        6.86953720898965|                                                          NaN|                             1.7757219974642275|                                    1156.9075365421786|                          2015.7998694096725|                                                                46.18653099320047|                                              2.17240005493164E8|                              1.883645455899E11|                                      53.233386378816206|                              2.805358E9|                                                 1.54599816041196E10|       8515770.0|           5313346.5|                     27.37953659546263|2005|\n",
            "|                                                            NaN|                                     104.9823954|                21.094200563589098|    1.88167353E8|                  1.09019257285986|                                              1.925|                                          72.26|                                                    20.7|                                                                   80.3|                                                                                        73.09|                    NaN|                                8.64000034332275|                                                NaN|          55.6|                                        7.2|                                      3.0|                                                                             NaN|                                                            97.0|                                                99.0|                                                             23.2|                                                       0.4|                             4.87060022354126|                                      NaN|                               NaN|                                            NaN|                                                                         NaN|                                                          NaN|                                                          89.6152267456055|                                    11350.0|                                  4850.0|            2.135908103751852E12|           9.1292379236696E11|                         11642.447054683771|         5886.391521948159|       3.961988708994852|1.107626711406626...|                   6.77427411909737|                  23.544021669300093|                     4.370043779317608|                       11.66738343157781|                    17.8164739011777|                       14.37431638762409|             1.48108489489303|                                       53.10093266|                                            NaN|                                                                                    NaN|                                    NaN|                          63.95235634010889|                                           0.98807|                        4.18356812896902|                                                          NaN|                             1.7749093807999732|                                    1184.1451210720918|                           2072.362680257292|                                                                38.24854708267736|                                            1.1019999694824201E8|                              1.943030180169E11|                                       64.12335877111738|                              3.287162E9|                                                 1.94180855980794E10|       8515770.0|           5273838.6|                    27.392577774480927|2006|\n",
            "|                                             12.609200038580607|                                      108.793436|                20.563386319250622|    1.90130445E8|                  1.03786468320243|                                              1.882|                                         72.618|                                                    19.5|                                                                   80.6|                                                                                       71.152|                    0.0|                                8.32999992370605|                                                NaN|          54.9|                                        6.7|                                      3.0|                                                                             2.2|                                                            98.6|                                                99.0|                                                             21.8|                                                       0.4|                             4.97425985336304|                         95.1699981689453|                          92.47411|                               128.179794311523|                                                                         NaN|                                             1.04399001598358|                                                          90.0093688964844|                                    12280.0|                                  6190.0|            2.335440691796655E12|         1.177507338896767...|                          12549.93099930229|         7348.187962907121|       6.069870607331282|1.397114247331174...|                  6.439038089211451|                  23.125380408802084|                     4.416915436128082|                      11.964936310849552|                  19.819325987884255|                      13.327675165405212|             1.46629209992902|                                       63.63005371|                                            NaN|                                                                                    NaN|                                    NaN|                         62.451683488729415|                                           1.08138|                        3.64127299102654|                                           1.0990990990990992|                              1.848835939977945|                                    1238.4116283954418|                          2167.6065608535237|                                                                28.05208160488058|                                            3.2858999633789104E8|                              2.384444526226E11|                                       98.03860154003006|                              3.305694E9|                                                 4.45794924636336E10|       8515770.0|           5234330.7|                     27.47881705738358|2007|\n",
            "|                                             12.757724396567498|                                     112.6734729|                22.426381508501233|    1.92030362E8|                 0.994310571973971|                                              1.847|                                         72.966|                                                    18.4|                                                                    NaN|                                                                                      69.7322|                    NaN|                                7.34000015258789|                                                NaN|          54.0|                                        5.5|                                      3.2|                                                                             NaN|                                                            98.8|                                                99.0|                                                             20.6|                                                       0.4|                             5.26883983612061|                         96.7201232910156|                          98.53831|                               132.055206298828|                                                                         NaN|                                             1.03873002529144|                                                            90.03662109375|                                    12990.0|                                  7620.0|            2.493770166044803...|         1.462688129612041...|                         13312.766757452167|         8831.183642776741|       5.094195448119976|1.695855391810896...|                  8.778552722176045|                  23.085293753548424|                      4.56785118173209|                      13.723568849205916|                   21.61938283529792|                      13.534000512202049|           1.4419240934311799|                                       78.44665887|                                            NaN|                                                                                    NaN|                                    NaN|                          60.65593048782011|                                           1.12904|                        5.67859390284171|                                                          NaN|                             1.9380268626478974|                                    1294.4808331924094|                           2229.845299151183|                                                               23.471299613614583|                                            4.6863000488281304E8|                              2.629572364626E11|                                      34.906605413323454|                              3.642585E9|                                                 5.07164027114787E10|       8515770.0|           5194822.8|                    27.565056340286237|2008|\n",
            "|                                              14.75822057877675|                                     109.1113358|                17.196918851451127|    1.93886505E8|                 0.961946715342144|                                              1.818|                                           73.3|                                                    17.5|                                                                    NaN|                                                                                      68.3124|                    NaN|                                8.52000045776367|                                                NaN|          53.7|                                        5.4|                                      3.2|                                                                             NaN|                                                            98.9|                                                99.0|                                                             19.5|                                                       0.5|                             5.46355009078979|                         96.6654815673828|                          96.58508|                               131.165161132813|                                                                         NaN|                                             1.04416000843048|                                                           90.298210144043|                                    12980.0|                                  8320.0|            2.515776265189062...|          1.61402960119433E12|                         13269.122107324934|         8597.794335262639|     -0.1258120029914096|1.666996294372871...|                  7.313482745945407|                  21.878592629077925|                     4.476773992870127|                      11.254604431529682|                  18.796135045888693|                       10.85137108902099|             1.53862569660074|                                       87.36326511|                                            NaN|                                                                                    NaN|                                    NaN|                          63.80782742754212|                                           1.11866|                        4.88803479876804|                                                          NaN|                             1.8094606429673896|                                    1240.1773037272503|                          2197.1255812775626|                                                                23.48894259899559|                                              3.74809997558594E8|                              2.816511384324E11|                                       80.21899535793968|                             2.8891595E9|                                                       3.14809317E10|       8515770.0|           5155314.9|                    27.651295623188894|2009|\n",
            "|                                             12.589452917244639|                                     127.2123978|                17.812622775394686|    1.95713637E8|                 0.937959306704135|                                              1.796|                                         73.619|                                                    16.7|                                                                    NaN|                                                                                      66.8926|                    NaN|                                7.27400016784668|                                                NaN|           NaN|                                        NaN|                                      NaN|                                                                             NaN|                                                            98.9|                                                99.0|                                                             18.6|                                                       0.5|                             5.64879989624023|                                      NaN|                               NaN|                                            NaN|                                                                         NaN|                                                          NaN|                                                          90.3791809082031|                                    13860.0|                                  9650.0|            2.712168018855725E12|         1.887913977335481...|                          14299.55513849254|         11286.07154021204|       7.528225818121513|2.208838108577090...|                  8.423338335981882|                  23.267977354744023|                      4.11575648758173|                      11.906593337308442|                  21.801321565156837|                      10.865584774696483|             1.53940698112515|                                       100.6214912|                                            NaN|                                                                                    NaN|                     28.999894669587604|                          61.31878046114786|                                           1.15992|                        5.03872690108066|                                                          NaN|                             2.0322038162317733|                                    1358.5024021601519|                           2374.116628367598|                                                                18.38526443530585|                                              4.64779998779297E8|                              3.523644128626E11|                                        69.9718849470429|                         3.08280186611E9|                                                   8.238993246807E10|       8515770.0|           5115807.0|                     27.73753490609155|2010|\n",
            "+---------------------------------------------------------------+------------------------------------------------+----------------------------------+----------------+----------------------------------+---------------------------------------------------+-----------------------------------------------+--------------------------------------------------------+-----------------------------------------------------------------------+---------------------------------------------------------------------------------------------+-----------------------+------------------------------------------------+---------------------------------------------------+--------------+-------------------------------------------+-----------------------------------------+--------------------------------------------------------------------------------+----------------------------------------------------------------+----------------------------------------------------+-----------------------------------------------------------------+----------------------------------------------------------+---------------------------------------------+-----------------------------------------+----------------------------------+-----------------------------------------------+----------------------------------------------------------------------------+-------------------------------------------------------------+--------------------------------------------------------------------------+-------------------------------------------+----------------------------------------+--------------------------------+-----------------------------+-------------------------------------------+--------------------------+------------------------+--------------------+-----------------------------------+------------------------------------+--------------------------------------+----------------------------------------+------------------------------------+----------------------------------------+-----------------------------+--------------------------------------------------+-----------------------------------------------+---------------------------------------------------------------------------------------+---------------------------------------+-------------------------------------------+--------------------------------------------------+----------------------------------------+-------------------------------------------------------------+-----------------------------------------------+------------------------------------------------------+--------------------------------------------+---------------------------------------------------------------------------------+----------------------------------------------------------------+-----------------------------------------------+--------------------------------------------------------+----------------------------------------+--------------------------------------------------------------------+----------------+--------------------+--------------------------------------+----+\n",
            "only showing top 20 rows\n",
            "\n"
          ]
        }
      ]
    },
    {
      "cell_type": "code",
      "source": [
        "#RENOMEANDO AS COLUNAS DO DFFSpark\n",
        "dffspark = (dffspark.withColumnRenamed('Despesas militares (% do PIB)','desp_mili_%_pib')\\\n",
        "                    .withColumnRenamed('Assinatura de telefone celular (por 1.000 pessoas)','ass_cel_1000_pessoas')\\\n",
        "                    .withColumnRenamed('Tempo necessário para iniciar um negócio (dias)','temp_necess_inic_neg_dias')\\\n",
        "                    .withColumnRenamed('Índice da facilidade de fazer negócios (1 = regulamentações mais favoráveis ao usuário)','ind_fac_faz_neg_regulam_favora_usu')\\\n",
        "                    .withColumnRenamed('Receita, excluindo subsídios (% do PIB)','rec_excl_subsi_%_pib')\\\n",
        "                    .withColumnRenamed('Dívida do governo central, total (% do PIB)','div_gov_cent_tot_%_pib')\\\n",
        "                    .withColumnRenamed('Despesa com pesquisas e desenvolvimento (% do PIB)','desp_pesq_dese_%_pib')\\\n",
        "                    .withColumnRenamed('Inflação, preços ao consumidor (% anual)','infl_precos_cons_%_anual')\\\n",
        "                    .withColumnRenamed('Retiradas anuais de água doce, total (% de recursos internos)','retir_anua_agua_doc_tot_%_rec_int')\\\n",
        "                    .withColumnRenamed('Emissões de CO2 (toneladas métricas per capita)','emiss_de_co2_ton_met_per_cap')\\\n",
        "                    .withColumnRenamed('Uso de energia (kg do petróleo equivalente per capita)','uso_energ_kg_pet_equiv_per_')\\\n",
        "                    .withColumnRenamed('Consumo de energia elétrica (kWh per capita)','cons_ener_elet_per_capita')\\\n",
        "                    .withColumnRenamed('Serviço da dívida total (% de exportações de produtos, serviços e renda primária)','serv_da_div_tot_%_exp_pro_serv_renda_prim')\n",
        "                    .withColumnRenamed('Assistência oficial para o desenvolvimento  (US$ atual, líquido)','assis_of_des_US$_at_liq')\\\n",
        "                    .withColumnRenamed('Ações da dívida externa, total (DOD, US$ atual)','acoes_da_div_ext_tot_dod_US$_atual')\\\n",
        "                    .withColumnRenamed('Capitalização de mercado de empresas listadas (% do PIB)','cap_de_merc_emp_list_%_pib')\\\n",
        "                    .withColumnRenamed('Remessas pessoais, recebidas (US$ atual)','remess_pess_receb_US$_atual')\\\n",
        "                    .withColumnRenamed('Investimento estrangeiro direto, ingressos líquidos (BoP, US$ atual)','invest_estra_dir_ingr_liq_bop_US$_atual')\\\n",
        "                    .withColumnRenamed('Superfície (km²)','superfice')\\\n",
        "                    .withColumnRenamed('Área florestal (km²)','area_flor_km')\\\n",
        "                    .withColumnRenamed('Terra cultivável (% de área terrestre)','terra_cult_%_area_terr')\\\n",
        "                    .withColumnRenamed('Despesa pública na educação, total (% do PIB)','despesa_publica_educacao_%_PIB')\\\n",
        "                    .withColumnRenamed('Matrícula escolar, ensino médio (% bruto)','matricula_ens_medio_%_bruto')\\\n",
        "                    .withColumnRenamed('Taxa de Matrícula Líquida Ajustada','tx_matricula_liquida')\\\n",
        "                    .withColumnRenamed('Matrícula escolar, ensino fundamental (% bruto)','matricula_ens_fundamental_%_bruto')\\\n",
        "                    .withColumnRenamed('Taxa de conclusão do ensino fundamental, total (% de faixa etária relevante)','tx_conclusao_ens_fundamental')\\\n",
        "                    .withColumnRenamed('Proporção meninas/meninos nos ensinos fundamental e médio (%)','proporcao_meninas_meninos_ens_fundamental_medio_%')\\\n",
        "                    .withColumnRenamed('Taxa de alfabetização, total de adultos (% de pessoas com 15 anos ou mais)','tx_alfabetizacao_adultos')\\\n",
        "                    .withColumnRenamed('RNB per capita, PPP ($ internacional atual)','rnb_per_capita')\\\n",
        "                    .withColumnRenamed('RNB per capita, método Atlas (US$ atual)','rnb_per_capita_atlas')\\\n",
        "                    .withColumnRenamed('RNB, PPP ($ internacional atual)','rnb_PPP')\\\n",
        "                    .withColumnRenamed('RNB, método Atlas (US$ atual)','rnb_metodo_atlas')\\\n",
        "                    .withColumnRenamed('PIB per capita, PPP ($ internacional atual)','pib_per_capita_PPP')\\\n",
        "                    .withColumnRenamed('PIB per capita (US$ atual)','pib_per_capita')\\\n",
        "                    .withColumnRenamed('Aumento do PIB (% anual)','aumento_pib_%')\\\n",
        "                    .withColumnRenamed('PIB, (US$ atual)','pib_dolar_atual')\\\n",
        "                    .withColumnRenamed('Inflação, deflator do PIB (% anual)','inflacao_deflator_pib_%')\\\n",
        "                    .withColumnRenamed('Indústria, valor agregado (% do PIB)','industria_valor_agregadado_%')\\\n",
        "                    .withColumnRenamed('Agricultura, valor agregado (% do PIB)','agricultura_valor_agregado_%')\\\n",
        "                    .withColumnRenamed('Importação de bens e serviços (% do PIB)','importacao_bens_servicos_%')\\\n",
        "                    .withColumnRenamed('Formação de capital bruto (% do PIB)','formacao_capital_bruto_%')\\\n",
        "                    .withColumnRenamed('Exportação de bens e serviços (% do PIB)','exportacao_bens_servicos_%')\\\n",
        "                    .withColumnRenamed('Exportações de alta tecnologia (% de exportações manufaturadas)', 'exportacao_alta_tec%')\\\n",
        "                    .withColumnRenamed('Índice de termos de permuta líquida (2000 = 100)', 'indice_ter_per_liq_2000=100' )\\\n",
        "                    .withColumnRenamed('Comércio de mercadorias (% do PIB)', 'comercio_mercadori%pib' )\\\n",
        "                    .withColumnRenamed('População, total', 'pop_total' )\\\n",
        "                    .withColumnRenamed('Crescimento da população (anual %)', 'cresc_pop_anual%' )\\\n",
        "                    .withColumnRenamed('Taxa de fertilidade, total (nascimentos por mulher)', 'tx_fertili_nasc_por_mulher' )\\\n",
        "                    .withColumnRenamed('Expectativa de vida no nascimento, total (anos)', 'expec_vida_nasc_em_anos' )\\\n",
        "                    .withColumnRenamed('Taxa de mortalidade infantil (por 1.000 nascidos vivos):', 'tx_mort_infantil_1000nascidos' )\\\n",
        "                    .withColumnRenamed('Uso de método anticoncepcional (% de mulheres de 15 a 19 anos de idade)', 'uso_metodo_anticon_15a19' )\\\n",
        "                    .withColumnRenamed('Taxa de fertilidade de adolescentes (nascimentos por 1.000 mulheres de 15 a 19 anos de idade)', 'tx_fertili_adolesc_por1000_de15a19' )\\\n",
        "                    .withColumnRenamed('Migração, total líquido', 'migracao_total' )\\\n",
        "                    .withColumnRenamed('Desemprego, total (% da força de trabalho total', 'desemprego_total%' )\\\n",
        "                    .withColumnRenamed('Pobreza, linha de pobreza nacional (% da população)', 'pobreza_linha_nacional%' )\\\n",
        "                    .withColumnRenamed('Índice de Gini', 'indice_gini' )\\\n",
        "                    .withColumnRenamed('Pobreza, US$1,90/dia (PPP) (% da população)', 'pobreza_1.90dolar_por_dia%' )\\\n",
        "                    .withColumnRenamed('Participação da renda dos 20% mais pobres', 'particip_renda_20%_mais_pobres' )\\\n",
        "                    .withColumnRenamed('Prevalência da desnutrição, peso para a idade (% de crianças menores de 5 anos)', 'desnutricao_peso_idade_menores_5_anos' )\\\n",
        "                    .withColumnRenamed('Partos assistidos por pessoal de saúde qualificado (% do total)', 'partos_assistidos_pessoa_qualificada' )\\\n",
        "                    .withColumnRenamed('Imunização, sarampo (% de crianças de 12 a 23 meses)', 'imuniza_sarampo_12a23_meses' )\\\n",
        "                    .withColumnRenamed('Taxa de mortalidade, menores de 5 anos (por 1.000 nascidos vivos)','tx_mortalidade_menor_5anos' )\\\n",
        "                    .withColumnRenamed('Prevalência de HIV, total (% de população de 15 a 49 anos)', 'hiv_total_15a49anos' ) \n",
        ")\n",
        " \n",
        " \n",
        "\n",
        " \n",
        "\n",
        " \n",
        " \n",
        "\n"
      ],
      "metadata": {
        "id": "rGOWUFQtmnxs"
      },
      "execution_count": null,
      "outputs": []
    },
    {
      "cell_type": "code",
      "source": [
        "dffspark.show()"
      ],
      "metadata": {
        "id": "Rg43nKAzzYcw",
        "colab": {
          "base_uri": "https://localhost:8080/"
        },
        "outputId": "20c05bc6-1af3-4d33-ef47-bdf19382b8b1"
      },
      "execution_count": null,
      "outputs": [
        {
          "output_type": "stream",
          "name": "stdout",
          "text": [
            "+--------------------+---------------------------+----------------------+------------+-----------------+--------------------------+-----------------------+-----------------------------+------------------------+----------------------------------+--------------+------------------------------------------------+-----------------------+-----------+--------------------------+------------------------------+--------------------------------------------------------------------------------+----------------------------------------------------------------+---------------------------+--------------------------+-------------------+------------------------------+---------------------------+--------------------+---------------------------------+----------------------------+-------------------------------------------------+------------------------+--------------+--------------------+--------------------+--------------------+------------------+------------------+-------------------+--------------------+-----------------------+----------------------------+----------------------------+--------------------------+------------------------+--------------------------+------------------+--------------------+-------------------------+----------------------------------+--------------------+----------------------+--------------------+------------------------+---------------------------------+----------------------------+---------------------------+-------------------------+-----------------------------------------+-----------------------+----------------------------------+--------------------------+---------------------------+---------------------------------------+---------+------------+----------------------+----+\n",
            "|exportacao_alta_tec%|indice_ter_per_liq_2000=100|comercio_mercadori%pib|   pop_total| cresc_pop_anual%|tx_fertili_nasc_por_mulher|expec_vida_nasc_em_anos|tx_mort_infantil_1000nascidos|uso_metodo_anticon_15a19|tx_fertili_adolesc_por1000_de15a19|migracao_total|Desemprego, total (% da força de trabalho total)|pobreza_linha_nacional%|indice_gini|pobreza_1.90dolar_por_dia%|particip_renda_20%_mais_pobres|Prevalência da desnutrição, peso para a idade (% de crianças menores de 5 anos):|Partos assistidos por pessoal de saúde qualificado (% do total):|imuniza_sarampo_12a23_meses|tx_mortalidade_menor_5anos|hiv_total_15a49anos|despesa_publica_educacao_%_PIB|matricula_ens_medio_%_bruto|tx_matricula_liquida|matricula_ens_fundamental_%_bruto|tx_conclusao_ens_fundamental|proporcao_meninas_meninos_ens_fundamental_medio_%|tx_alfabetizacao_adultos|rnb_per_capita|rnb_per_capita_atlas|             rnb_PPP|    rnb_metodo_atlas|pib_per_capita_PPP|    pib_per_capita|      aumento_pib_%|     pib_dolar_atual|inflacao_deflator_pib_%|industria_valor_agregadado_%|agricultura_valor_agregado_%|importacao_bens_servicos_%|formacao_capital_bruto_%|exportacao_bens_servicos_%|   desp_mili_%_pib|ass_cel_1000_pessoas|temp_necess_inic_neg_dias|ind_fac_faz_neg_regulam_favora_usu|rec_excl_subsi_%_pib|div_gov_cent_tot_%_pib|desp_pesq_dese_%_pib|infl_precos_cons_%_anual|retir_anua_agua_doc_tot_%_rec_int|emiss_de_co2_ton_met_per_cap|uso_energ_kg_pet_equiv_per_|cons_ener_elet_per_capita|serv_da_div_tot_%_exp_pro_serv_renda_prim|assis_of_des_US$_at_liq|acoes_da_div_ext_tot_dod_US$_atual|cap_de_merc_emp_list_%_pib|remess_pess_receb_US$_atual|invest_estra_dir_ingr_liq_bop_US$_atual|superfice|area_flor_km|terra_cult_%_area_terr| ano|\n",
            "+--------------------+---------------------------+----------------------+------------+-----------------+--------------------------+-----------------------+-----------------------------+------------------------+----------------------------------+--------------+------------------------------------------------+-----------------------+-----------+--------------------------+------------------------------+--------------------------------------------------------------------------------+----------------------------------------------------------------+---------------------------+--------------------------+-------------------+------------------------------+---------------------------+--------------------+---------------------------------+----------------------------+-------------------------------------------------+------------------------+--------------+--------------------+--------------------+--------------------+------------------+------------------+-------------------+--------------------+-----------------------+----------------------------+----------------------------+--------------------------+------------------------+--------------------------+------------------+--------------------+-------------------------+----------------------------------+--------------------+----------------------+--------------------+------------------------+---------------------------------+----------------------------+---------------------------+-------------------------+-----------------------------------------+-----------------------+----------------------------------+--------------------------+---------------------------+---------------------------------------+---------+------------+----------------------+----+\n",
            "|                 NaN|                   78.90625|     15.92689153307888|1.51648007E8| 1.75941419381772|                     2.822|                 66.742|                         50.6|                    59.2|                           83.3338|           NaN|                                6.31400012969971|                    NaN|        NaN|                       NaN|                           NaN|                                                                             NaN|                                                            69.5|                       85.0|                      60.4|                0.2|                           NaN|                        NaN|                 NaN|                              NaN|                         NaN|                                              NaN|                     NaN|        6720.0|              2390.0|1.018865679386809...|3.624708143008414...| 6872.636942722494| 2259.239893668009| 1.0321895854695953|3.426092272096454...|     416.67808769907003|          31.767245605248323|           6.841308029801072|         7.914520879740154|      19.768805298004384|         8.677605337920818|  1.96333333333333|         0.004418126|                      NaN|                               NaN|                 NaN|                   NaN|                 NaN|        432.786661926461|                              NaN|          1.3530016256659412|          942.0380381260137|       1486.2246095987268|                       23.425089253389878|   1.9613999938964802E8|                 1.213367091298E11|                       NaN|                     1.11E9|                                1.103E9|8515770.0|   5851170.6|    27.934468673652272|1991|\n",
            "|                 NaN|                81.96721311|     17.94977573764493|1.54259382E8| 1.70733923298647|                     2.754|                 67.141|                         48.4|                     NaN|                            83.727|           0.0|                                6.42000007629395|                    NaN|       53.2|                      20.7|                           2.8|                                                                             NaN|                                                             NaN|                       91.0|                      57.4|                0.2|                           NaN|                        NaN|                 NaN|                              NaN|                         NaN|                                              NaN|                     NaN|        6740.0|              2340.0|1.040174352114559...|3.614235595203693E11| 6872.666791263366|2127.5071898116885|-0.5440720510302981|3.281879443009078E11|       969.012921772513|           34.13226664222514|           6.806091411657388|          8.38505912549662|       18.93453584914791|        10.868313400759144|  1.52152886115445|         0.020744281|                      NaN|                               NaN|                 NaN|                   NaN|                 NaN|        951.962053052818|               0.8135782841671083|          1.3526567868656443|          935.7464624096575|       1494.0614762737737|                       21.240737381399548|   -2.35589996337890...|                 1.295359485572E11|                       NaN|                    1.791E9|                                2.061E9|8515770.0|   5813361.2|    27.764598343650622|1992|\n",
            "|                 NaN|                87.27272727|    17.963551035141624|1.56849086E8| 1.66486231216782|                     2.693|                 67.539|                         46.0|                     NaN|                            83.834|           NaN|                                6.03000020980835|                    NaN|       60.1|                      19.8|                           2.4|                                                                             NaN|                                                             NaN|                       85.0|                      54.3|                0.2|                           NaN|                        NaN|                 NaN|                              NaN|                         NaN|                                              NaN|                     NaN|        7080.0|              2310.0|1.111028305480113E12|3.624349184766566E11| 7260.168864366995| 2348.090047334286|  4.924690004637739|3.682957777700794...|     1996.1503502950345|           37.29912071752452|           6.778109376557369|         9.096048645829836|      20.846355555839878|        10.503271539985565|  1.92792281498297|          0.11603511|                      NaN|                               NaN|                 NaN|                   NaN|                 NaN|        1927.38079016026|                              NaN|          1.3718919598932187|          943.3269952239315|       1537.5926385697906|                       25.158259372647706|     1.97520004272461E8|                 1.445995771243E11|                       NaN|                    1.247E9|                                1.292E9|8515770.0|   5775551.8|    27.594728013648968|1993|\n",
            "|                 NaN|                 100.952381|    15.177307908807173|1.59432717E8|  1.6337888839804|                     2.639|                 67.932|                         43.5|                     NaN|                            83.941|           NaN|                                6.16900014877319|                    NaN|        NaN|                       NaN|                           NaN|                                                                             NaN|                                                             NaN|                       77.0|                      51.1|                0.2|                           NaN|                        NaN|                 NaN|                              NaN|                         NaN|                                              NaN|                     NaN|        7590.0|              2670.0|1.210607970679508E12|4.259605399379371...|7722.0089579309515| 3295.244923623438|  5.852870364389304|5.253698513537422E11|      2240.168869201598|           35.42091971797434|           8.721989375176728|         9.161683369082233|      22.145562946480453|         9.513076427020039|    2.016007789121|         0.360032128|                      NaN|                               NaN|                 NaN|                   NaN|                 NaN|        2075.88839757325|                              NaN|          1.3969529227805857|          976.9821773783108|       1566.7612313224267|                        31.24183905940014|     2.59869995117188E8|                 1.529031035577E11|                       NaN|                    2.068E9|                                3.072E9|8515770.0|   5737742.4|    27.424857683647318|1994|\n",
            "|                 NaN|                110.3773585|    13.081845804305619|1.62019889E8| 1.60971030654546|                     2.588|                 68.318|                         41.1|                     NaN|                            84.048|           NaN|                                6.42000007629395|                    NaN|       59.6|                      12.9|                           2.4|                                                                             NaN|                                                             NaN|                       87.0|                      48.0|                0.2|              4.56816005706787|                        NaN|                 NaN|                              NaN|                         NaN|                                              NaN|                     NaN|        7970.0|              3430.0|1.290556008162411...|5.557715069238184E11| 8085.722898559345| 4748.388207876052|  4.223793633647205|7.693333303689868E11|      93.97804304413225|           23.38146038673418|           5.011666463863474|         9.455584964252443|      17.292346346417908|         7.528875043387441|  1.86213698033379|         0.793441443|                      NaN|                               NaN|                 NaN|                   NaN|                 NaN|        66.0070335542481|                              NaN|          1.4905577425744316|          994.2898491925273|        1634.398107753302|                        38.56568185532461|     2.64329986572266E8|                 1.609642283435E11|                       NaN|                    2.952E9|                                4.859E9|8515770.0|   5699933.0|     27.25546592902249|1995|\n",
            "|                 NaN|                108.3333333|    12.314763033653014|1.64614682E8| 1.58883830194468|                     2.536|                 68.695|                         38.7|                    76.7|                            84.155|           NaN|                                            7.25|                    NaN|       59.9|                      14.1|                           2.2|                                                                             4.5|                                                            87.6|                       80.0|                      45.0|                0.3|                           NaN|                        NaN|                 NaN|                              NaN|                         NaN|                                              NaN|                     NaN|        8060.0|              4350.0|1.326770296838026...|7.156639102725813E11| 8282.988337581175|  5166.16393308148|  2.208864050514819| 8.50426433004077E11|     18.456243776898546|          22.340114560779302|           4.768411208331665|         8.905381793670406|      17.266946378350628|         6.730209684712538|1.6548434995029102|         1.517576609|                      NaN|                               NaN|                 NaN|                   NaN|                 NaN|        15.7576656002606|                              NaN|          1.5970628913889955|         1030.6680724869973|        1687.085238241386|                        43.69477886805171|     2.57799987792969E8|                 1.817935269892E11|                       NaN|                    2.059E9|                              1.2552E10|8515770.0|   5662123.6|    27.267872995666497|1996|\n",
            "|                 NaN|                114.4230769|    13.273906641983627|1.67209046E8| 1.56373197369546|                     2.483|                 69.061|                         36.5|                     NaN|                            84.262|           0.0|                                8.15999984741211|                    NaN|       59.8|                      14.0|                           2.3|                                                                             NaN|                                                            98.6|                       99.0|                      42.2|                0.3|                           NaN|                        NaN|                 NaN|                              NaN|                         NaN|                                              NaN|                     NaN|        8310.0|              5020.0|1.389212962001470...|8.387656790861338E11| 8582.069531493746| 5282.049469949876| 3.3948459853159676|8.832064527951244E11|      7.729023410047816|           22.59414761182627|           4.685047025481692|         9.592559686050647|      17.763985615088906|          6.98364957728647|1.5776883155177401|         2.721144742|                      NaN|                               NaN|                 NaN|                   NaN|                 NaN|        6.92671251629151|               0.9742095036212683|          1.6835811622297039|         1066.1869513925699|        1762.410629386642|                        59.84653480084312|   2.2978999328613302E8|                 1.989802934951E11|                       NaN|                    1.572E9|                    1.89929343106468E10|8515770.0|   5624314.2|    27.280280062310514|1997|\n",
            "|                 NaN|                114.2857143|    12.943218165780626|1.69785253E8| 1.52896188133332|                     2.426|                 69.419|                         34.3|                     NaN|                            83.578|           NaN|                                9.42000007629395|                    NaN|       59.6|                      12.7|                           2.4|                                                                             NaN|                                                            98.6|                       95.0|                      39.6|                0.3|              4.75665998458862|                        NaN|                 NaN|                              NaN|                         NaN|                                              NaN|                     NaN|        8200.0|              4840.0|1.391681461944338...| 8.22017838549981E11| 8575.875453525092| 5087.079072323747|  0.338097901952338|8.637110073254927E11|      4.924361586752909|          22.118790379466635|           4.750044787566312|         9.408084593565363|      18.164751917307612|          7.03050033464164|1.6622919197582402|          4.33972798|                      NaN|                               NaN|                 NaN|                   NaN|                 NaN|        3.19507629280056|                              NaN|           1.712516221888835|         1075.1990810415084|        1808.343154514132|                        80.75591555346179|     2.60609985351563E8|                 2.419984157638E11|                       NaN|                    1.236E9|                      2.885560991642E10|8515770.0|   5586504.8|     27.29268712895453|1998|\n",
            "|                 NaN|                103.1578947|    16.639926409309435|1.72318674E8| 1.48110975211591|                     2.365|                 69.769|                         32.3|                     NaN|                            82.894|           NaN|                                 10.210000038147|                    NaN|       59.0|                      13.3|                           2.5|                                                                             NaN|                                                            98.6|                       99.0|                      37.1|                0.3|              3.80062007904053|                        NaN|            98.07272|                 165.645385742188|                         NaN|                                              NaN|                     NaN|        8160.0|              4120.0|1.406472958187046...|7.103610005277623E11| 8611.902385806623|3479.8438328539514|0.46793756667946695|5.996420750044706E11|      8.010500876868292|          21.746711249679297|           4.645981538206647|        11.417268214315927|       17.38955974337654|         9.564898259565036|  1.64547466656987|         8.723777617|                      NaN|                               NaN|                 NaN|                   NaN|                 NaN|        4.85844749902668|                              NaN|          1.7445584568507069|          1083.403984410883|       1832.3783062536797|                       116.56389423631173|     1.44380004882813E8|                  2.45114967226E11|                       NaN|                    1.501E9|                    2.83856756149902E10|8515770.0|   5548695.4|    27.305094195598546|1999|\n",
            "|                 NaN|                      100.0|     17.35636806047378|1.74790339E8| 1.42416744229362|                       2.3|                 70.116|                         30.4|                     NaN|                             82.21|           NaN|                                9.56099987030029|                    NaN|        NaN|                       NaN|                           NaN|                                                                             NaN|                                                            98.6|                       99.0|                      34.7|                0.3|              3.94893002510071|                        NaN|                 NaN|                              NaN|                         NaN|                                              NaN|        86.3678817749023|        8800.0|              3930.0|1.538129578645821...|6.874776141114637E11| 9060.788666957324|3749.9108475288826|  4.387949443648694|6.554481882593507E11|      5.606065152717775|          23.006618629367843|           4.750459972091092|        12.451713727280987|      18.903119268969977|        10.188048187509985|  1.73072614713627|         13.26627719|                      NaN|                               NaN|                 NaN|                   NaN|             1.04751|        7.04414105947266|                              NaN|          1.7888288436811144|         1072.3795438144896|       1897.3531483339018|                        87.00462324894433|   2.5567999267578098E8|                 2.425116855218E11|         34.50346099828032|                 1.349591E9|                      3.299471869975E10|8515770.0|   5510886.0|    27.317501262242555|2000|\n",
            "|                 NaN|                 99.7753485|     20.83435627626412|1.77196051E8| 1.36695595542708|                     2.232|                 70.462|                         28.5|                     NaN|                            81.526|           NaN|                                9.60999965667725|                    NaN|       58.4|                      11.5|                           2.5|                                                                             NaN|                                                            98.3|                       99.0|                      32.5|                0.3|              3.84468007087708|                        NaN|            98.85493|                 150.785552978516|            112.229606628418|                                              NaN|                     NaN|        8960.0|              3350.0|1.587692146986589...|5.939349887486967E11| 9260.768380930815| 3160.249344914407| 1.3898964044580993|5.599837040941699E11|      8.225094316433413|          22.639527912854906|           4.801043018955071|        14.564574473394803|      18.741860293251456|        12.371710548036031|1.9518824453253198|         16.22257852|                      NaN|                               NaN|                 NaN|                   NaN|             1.06198|        6.84035902487525|                              NaN|          1.8034261948648054|         1076.2754921665833|       1747.9396310022732|                        71.73722700005504|     2.52020004272461E8|                 2.299597174021E11|        33.257683864436395|                 1.448914E9|                     2.3225846372251E10|8515770.0|   5471378.1|     27.32990832888657|2001|\n",
            "|                 NaN|                98.40117544|    21.609066685129662|1.79537523E8| 1.31274754952678|                     2.163|                 70.813|                         26.8|                     NaN|                            80.842|           0.0|                                9.36999988555908|                    NaN|       58.1|                      10.2|                           2.6|                                                                             NaN|                                                            98.5|                       96.0|                      30.4|                0.4|              3.75037002563477|           109.994216918945|            96.72741|                 146.827789306641|            114.199432373047|                                  1.0129599571228|                     NaN|        9250.0|              3100.0|1.660197051679057E12|5.565543192239004E11| 9568.066027297284|2839.4915010896643| 3.0534618568361935|5.097952706851901E11|      9.798112234313109|          22.495327821077982|           5.475274894762806|        13.387767211830262|      17.449079484503706|        14.230590318793604|1.8957711991561699|         19.42823093|                      NaN|                               NaN|                 NaN|                   NaN|             1.00968|         8.4501643770833|               1.0024730612965906|           1.767207181531629|         1090.3498484826484|        1806.669684308834|                        72.04845901011001|   2.3641000366210902E8|                 2.319441810345E11|        24.865183592155773|                 2.003791E9|                     1.6586600193114E10|8515770.0|   5431870.2|    27.342315395530587|2002|\n",
            "|                 NaN|                97.25000194|    22.227965568663517|1.81809244E8| 1.25737996705435|                     2.097|                  71.17|                         25.1|                     NaN|                            78.904|           NaN|                                9.98999977111816|                    NaN|       57.6|                      11.0|                           2.6|                                                                             NaN|                                                            98.4|                       97.0|                      28.4|                0.4|                           NaN|           101.868667602539|            94.29506|                 140.544494628906|            109.366607666016|                                 1.03544998168945|                     NaN|        9420.0|              2990.0|1.713529919962907...|5.434808988921519E11| 9733.773303922619|3070.4364194194154| 1.1408289987710134|5.582337241647108E11|     14.091021527267017|          23.083817818323578|           6.167184387424183|        12.959601188915107|         16.856688397799|        15.180783597872816|  1.50347763554507|         25.50654987|                      NaN|                               NaN|                 NaN|                   NaN|             0.99939|        14.7149197228147|                              NaN|          1.7015086427618609|         1094.4246817285045|        1882.264028335105|                        67.92177237640448|   2.2930000305175802E8|                 2.359079841684E11|         42.01824967686678|                  2.28668E9|                    1.01230136709901E10|8515770.0|   5392362.3|    27.354722462174596|2003|\n",
            "|                 NaN|                 98.8866955|    24.370775784395672|1.84006479E8| 1.20129414101631|                     2.033|                 71.531|                         23.5|                     NaN|                            76.966|           NaN|                                9.10999965667725|                    NaN|       56.5|                       9.7|                           2.9|                                                                             NaN|                                                            98.6|                       97.0|                      26.5|                0.4|              3.97447991371155|           102.371032714844|            95.58531|                 133.696304321289|            100.684646606445|                                 1.03352999687195|        88.6162414550781|       10140.0|              3350.0|1.865228223661733...|6.161544794445844E11| 10445.34717821038| 3637.313890151203|  5.759964636859976|6.692893219445156E11|      7.752060759463262|           24.30662329057763|          5.6653115767889215|         13.13249111009058|      17.912568341938947|        16.545761629733345|  1.46126840890621|         35.65363548|                      NaN|                               NaN|                 NaN|                   NaN|             0.96343|        6.59718509985962|                              NaN|          1.7758070355772635|         1141.4911102124834|       1956.1593806705034|                       48.356227095706544|     1.78279998779297E8|                 2.206935926006E11|        49.357814202119584|                 2.812514E9|                    1.81613804597533E10|8515770.0|   5352854.4|    27.367129528818612|2004|\n",
            "|                 NaN|                99.71589304|    21.999726137269565|1.86127108E8| 1.14588477164177|                     1.976|                 71.896|                         22.0|                     NaN|                            75.028|           NaN|                                9.56999969482422|                    NaN|       56.3|                       8.6|                           2.9|                                                                             NaN|                                                            98.6|                       98.0|                      24.8|                0.4|              4.47908020019531|             101.2919921875|            96.07993|                 133.262161254883|                         NaN|                                 1.02884995937347|                     NaN|       10670.0|              4000.0|1.986219466903224...|7.439144003285754E11|10988.961148447677| 4790.456565861311| 3.2021320621625478|8.916338266033773E11|      7.431224754784878|          24.172578278009887|           4.651168820814417|        11.842965919765717|      17.204883460677934|         15.24382913811164|  1.52401339252107|         46.31799164|                      NaN|                               NaN|                 NaN|                   NaN|             1.00246|        6.86953720898965|                              NaN|          1.7757219974642275|         1156.9075365421786|       2015.7998694096725|                        46.18653099320047|     2.17240005493164E8|                 1.883645455899E11|        53.233386378816206|                 2.805358E9|                    1.54599816041196E10|8515770.0|   5313346.5|     27.37953659546263|2005|\n",
            "|                 NaN|                104.9823954|    21.094200563589098|1.88167353E8| 1.09019257285986|                     1.925|                  72.26|                         20.7|                    80.3|                             73.09|           NaN|                                8.64000034332275|                    NaN|       55.6|                       7.2|                           3.0|                                                                             NaN|                                                            97.0|                       99.0|                      23.2|                0.4|              4.87060022354126|                        NaN|                 NaN|                              NaN|                         NaN|                                              NaN|        89.6152267456055|       11350.0|              4850.0|2.135908103751852E12|  9.1292379236696E11|11642.447054683771| 5886.391521948159|  3.961988708994852|1.107626711406626...|       6.77427411909737|          23.544021669300093|           4.370043779317608|         11.66738343157781|        17.8164739011777|         14.37431638762409|  1.48108489489303|         53.10093266|                      NaN|                               NaN|                 NaN|     63.95235634010889|             0.98807|        4.18356812896902|                              NaN|          1.7749093807999732|         1184.1451210720918|        2072.362680257292|                        38.24854708267736|   1.1019999694824201E8|                 1.943030180169E11|         64.12335877111738|                 3.287162E9|                    1.94180855980794E10|8515770.0|   5273838.6|    27.392577774480927|2006|\n",
            "|  12.609200038580607|                 108.793436|    20.563386319250622|1.90130445E8| 1.03786468320243|                     1.882|                 72.618|                         19.5|                    80.6|                            71.152|           0.0|                                8.32999992370605|                    NaN|       54.9|                       6.7|                           3.0|                                                                             2.2|                                                            98.6|                       99.0|                      21.8|                0.4|              4.97425985336304|           95.1699981689453|            92.47411|                 128.179794311523|                         NaN|                                 1.04399001598358|        90.0093688964844|       12280.0|              6190.0|2.335440691796655E12|1.177507338896767...| 12549.93099930229| 7348.187962907121|  6.069870607331282|1.397114247331174...|      6.439038089211451|          23.125380408802084|           4.416915436128082|        11.964936310849552|      19.819325987884255|        13.327675165405212|  1.46629209992902|         63.63005371|                      NaN|                               NaN|                 NaN|    62.451683488729415|             1.08138|        3.64127299102654|               1.0990990990990992|           1.848835939977945|         1238.4116283954418|       2167.6065608535237|                        28.05208160488058|   3.2858999633789104E8|                 2.384444526226E11|         98.03860154003006|                 3.305694E9|                    4.45794924636336E10|8515770.0|   5234330.7|     27.47881705738358|2007|\n",
            "|  12.757724396567498|                112.6734729|    22.426381508501233|1.92030362E8|0.994310571973971|                     1.847|                 72.966|                         18.4|                     NaN|                           69.7322|           NaN|                                7.34000015258789|                    NaN|       54.0|                       5.5|                           3.2|                                                                             NaN|                                                            98.8|                       99.0|                      20.6|                0.4|              5.26883983612061|           96.7201232910156|            98.53831|                 132.055206298828|                         NaN|                                 1.03873002529144|          90.03662109375|       12990.0|              7620.0|2.493770166044803...|1.462688129612041...|13312.766757452167| 8831.183642776741|  5.094195448119976|1.695855391810896...|      8.778552722176045|          23.085293753548424|            4.56785118173209|        13.723568849205916|       21.61938283529792|        13.534000512202049|1.4419240934311799|         78.44665887|                      NaN|                               NaN|                 NaN|     60.65593048782011|             1.12904|        5.67859390284171|                              NaN|          1.9380268626478974|         1294.4808331924094|        2229.845299151183|                       23.471299613614583|   4.6863000488281304E8|                 2.629572364626E11|        34.906605413323454|                 3.642585E9|                    5.07164027114787E10|8515770.0|   5194822.8|    27.565056340286237|2008|\n",
            "|   14.75822057877675|                109.1113358|    17.196918851451127|1.93886505E8|0.961946715342144|                     1.818|                   73.3|                         17.5|                     NaN|                           68.3124|           NaN|                                8.52000045776367|                    NaN|       53.7|                       5.4|                           3.2|                                                                             NaN|                                                            98.9|                       99.0|                      19.5|                0.5|              5.46355009078979|           96.6654815673828|            96.58508|                 131.165161132813|                         NaN|                                 1.04416000843048|         90.298210144043|       12980.0|              8320.0|2.515776265189062...| 1.61402960119433E12|13269.122107324934| 8597.794335262639|-0.1258120029914096|1.666996294372871...|      7.313482745945407|          21.878592629077925|           4.476773992870127|        11.254604431529682|      18.796135045888693|         10.85137108902099|  1.53862569660074|         87.36326511|                      NaN|                               NaN|                 NaN|     63.80782742754212|             1.11866|        4.88803479876804|                              NaN|          1.8094606429673896|         1240.1773037272503|       2197.1255812775626|                        23.48894259899559|     3.74809997558594E8|                 2.816511384324E11|         80.21899535793968|                2.8891595E9|                          3.14809317E10|8515770.0|   5155314.9|    27.651295623188894|2009|\n",
            "|  12.589452917244639|                127.2123978|    17.812622775394686|1.95713637E8|0.937959306704135|                     1.796|                 73.619|                         16.7|                     NaN|                           66.8926|           NaN|                                7.27400016784668|                    NaN|        NaN|                       NaN|                           NaN|                                                                             NaN|                                                            98.9|                       99.0|                      18.6|                0.5|              5.64879989624023|                        NaN|                 NaN|                              NaN|                         NaN|                                              NaN|        90.3791809082031|       13860.0|              9650.0|2.712168018855725E12|1.887913977335481...| 14299.55513849254| 11286.07154021204|  7.528225818121513|2.208838108577090...|      8.423338335981882|          23.267977354744023|            4.11575648758173|        11.906593337308442|      21.801321565156837|        10.865584774696483|  1.53940698112515|         100.6214912|                      NaN|                               NaN|  28.999894669587604|     61.31878046114786|             1.15992|        5.03872690108066|                              NaN|          2.0322038162317733|         1358.5024021601519|        2374.116628367598|                        18.38526443530585|     4.64779998779297E8|                 3.523644128626E11|          69.9718849470429|            3.08280186611E9|                      8.238993246807E10|8515770.0|   5115807.0|     27.73753490609155|2010|\n",
            "+--------------------+---------------------------+----------------------+------------+-----------------+--------------------------+-----------------------+-----------------------------+------------------------+----------------------------------+--------------+------------------------------------------------+-----------------------+-----------+--------------------------+------------------------------+--------------------------------------------------------------------------------+----------------------------------------------------------------+---------------------------+--------------------------+-------------------+------------------------------+---------------------------+--------------------+---------------------------------+----------------------------+-------------------------------------------------+------------------------+--------------+--------------------+--------------------+--------------------+------------------+------------------+-------------------+--------------------+-----------------------+----------------------------+----------------------------+--------------------------+------------------------+--------------------------+------------------+--------------------+-------------------------+----------------------------------+--------------------+----------------------+--------------------+------------------------+---------------------------------+----------------------------+---------------------------+-------------------------+-----------------------------------------+-----------------------+----------------------------------+--------------------------+---------------------------+---------------------------------------+---------+------------+----------------------+----+\n",
            "only showing top 20 rows\n",
            "\n"
          ]
        }
      ]
    },
    {
      "cell_type": "code",
      "source": [
        "# DEFININDO O SCHEMA PARA O DFESTADO\n",
        "\n",
        "schema = (\n",
        "    StructType([\n",
        "        StructField(\"Territorialidade\",StringType(), True),\n",
        "        StructField(\"Posição IDHM\" , IntegerType(), True),\n",
        "        StructField(\"IDHM\" , FloatType(), True),\n",
        "        StructField(\"Posição IDHM Renda\", IntegerType(), True),\n",
        "        StructField(\"IDHM Renda\" , FloatType(), True),\n",
        "        StructField(\"Posição IDHM Educação\", IntegerType(), True),\n",
        "        StructField(\"IDHM Educação\" , FloatType(), True),\n",
        "        StructField(\"Posição IDHM Longevidade\", IntegerType(), True),\n",
        "        StructField(\"IDHM Longevidade\", FloatType(), True),\n",
        "        StructField(\"Posição Negros\", IntegerType(), True),\n",
        "        StructField(\"IDHM Negros\", FloatType(), True),\n",
        "        StructField(\"Posição Brancos\", IntegerType(), True),\n",
        "        StructField(\"IDHM Brancos\", FloatType(), True),\n",
        "        StructField(\"ano\", IntegerType(), True)\n",
        "    ]))\n"
      ],
      "metadata": {
        "id": "1_7B2ryuwqlH"
      },
      "execution_count": null,
      "outputs": []
    },
    {
      "cell_type": "code",
      "source": [
        "# IMPORTANDO O DFESTADO PARA O PySpark\n",
        "\n",
        "path = 'gs://bucket-estilo-vida/dados_tratados/Tratados_pandas/dfestado.csv'\n",
        "\n",
        "dfsestado= (\n",
        "    spark.read.format('csv')\n",
        "    .option('delimiter',',')\n",
        "    .option('header','true')\n",
        "    .option('inferschema','true')\n",
        "    .load(path)\n",
        "\n",
        ")"
      ],
      "metadata": {
        "id": "5tp6Y8VdXqV-"
      },
      "execution_count": null,
      "outputs": []
    },
    {
      "cell_type": "code",
      "source": [
        "# EXIBINDO O NOME DAS COLUNAS\n",
        "dfsestado.columns"
      ],
      "metadata": {
        "id": "oAuPZGHkQHm0",
        "colab": {
          "base_uri": "https://localhost:8080/"
        },
        "outputId": "dc6f190d-1af9-4c0b-b497-9bc69b0bfc01"
      },
      "execution_count": null,
      "outputs": [
        {
          "output_type": "execute_result",
          "data": {
            "text/plain": [
              "['Territorialidade',\n",
              " 'Posição IDHM',\n",
              " 'IDHM',\n",
              " 'Posição IDHM Renda',\n",
              " 'IDHM Renda',\n",
              " 'Posição IDHM Educação',\n",
              " 'IDHM Educação',\n",
              " 'Posição IDHM Longevidade',\n",
              " 'IDHM Longevidade',\n",
              " 'Posição Negros',\n",
              " 'IDHM Negros',\n",
              " 'Posição Brancos',\n",
              " 'IDHM Brancos',\n",
              " 'ano']"
            ]
          },
          "metadata": {},
          "execution_count": 34
        }
      ]
    },
    {
      "cell_type": "code",
      "source": [
        "#RENOMEANDO AS COLUNAS DO DFESTADO\n",
        "dfs2estado = dfsestado.withColumnRenamed(\"Territorialidade\", \"uf\")\\\n",
        "                    .withColumnRenamed(\"Posição IDHM\", \"pos_idhm\")\\\n",
        "                    .withColumnRenamed(\"Posição IDHM Renda\", \"pos_idhm_renda\")\\\n",
        "                    .withColumnRenamed(\"IDHM Renda\", \"idhm_renda\")\\\n",
        "                    .withColumnRenamed(\"Posição IDHM Educação\", \"pos_idhm_educacao\")\\\n",
        "                    .withColumnRenamed(\"IDHM Educação\", \"idhm_educacao\")\\\n",
        "                    .withColumnRenamed(\"Posição IDHM Longevidade\", \"pos_idhm_long\")\\\n",
        "                    .withColumnRenamed(\"IDHM Longevidade\", \"idhm_longevidade\")\\\n",
        "                    .withColumnRenamed(\"Posição Negros\", \"pos_negros\")\\\n",
        "                    .withColumnRenamed(\"IDHM Negros\", \"idhm_negros\")\\\n",
        "                    .withColumnRenamed(\"Posição Brancos\", \"pos_brancos\")\\\n",
        "                    .withColumnRenamed(\"IDHM Brancos\", \"idhm_brancos\")\n",
        "\n"
      ],
      "metadata": {
        "id": "SEB2fH4lVttf"
      },
      "execution_count": null,
      "outputs": []
    },
    {
      "cell_type": "code",
      "source": [
        "dfs2estado.show()"
      ],
      "metadata": {
        "id": "JDaig8S5VtD1",
        "colab": {
          "base_uri": "https://localhost:8080/"
        },
        "outputId": "db41c349-7548-42ce-a28c-44b7c47188a5"
      },
      "execution_count": null,
      "outputs": [
        {
          "output_type": "stream",
          "name": "stdout",
          "text": [
            "+---+--------+-----+--------------+----------+-----------------+-------------+-------------+----------------+----------+-----------+-----------+------------+----+\n",
            "| uf|pos_idhm| IDHM|pos_idhm_renda|idhm_renda|pos_idhm_educacao|idhm_educacao|pos_idhm_long|idhm_longevidade|pos_negros|idhm_negros|pos_brancos|idhm_brancos| ano|\n",
            "+---+--------+-----+--------------+----------+-----------------+-------------+-------------+----------------+----------+-----------+-----------+------------+----+\n",
            "| DF|       1|0.725|             1|     0.814|                1|        0.582|            1|           0.805|        20|      0.506|         16|       0.663|2000|\n",
            "| SP|       2|0.702|             4|     0.786|                2|        0.581|            2|           0.756|         9|      0.655|          4|        0.78|2000|\n",
            "| SC|       3|0.674|             2|     0.812|                4|        0.526|            5|           0.717|        16|      0.556|         14|       0.687|2000|\n",
            "| RS|       4|0.664|             3|     0.804|                6|        0.505|            4|            0.72|         2|      0.764|          1|       0.815|2000|\n",
            "| RJ|       4|0.664|            10|      0.74|                3|         0.53|            3|           0.745|        15|      0.593|         13|       0.716|2000|\n",
            "| PR|       5| 0.65|             9|     0.747|                5|        0.522|            6|           0.704|         5|      0.716|          5|        0.76|2000|\n",
            "| ES|       6| 0.64|             5|     0.777|                7|        0.491|            8|           0.687|        13|      0.622|          8|       0.734|2000|\n",
            "| MG|       7|0.624|             7|     0.759|                8|         0.47|           10|            0.68|         3|      0.737|          2|       0.787|2000|\n",
            "| GO|       8|0.615|             6|     0.773|               11|        0.439|            9|           0.686|         1|      0.765|          3|       0.786|2000|\n",
            "| MS|       9|0.613|             8|     0.752|               10|        0.445|            8|           0.687|        14|      0.617|         10|       0.726|2000|\n",
            "| MT|      10|0.601|            10|      0.74|               12|        0.426|            7|           0.689|        12|      0.632|          6|       0.739|2000|\n",
            "| RR|      11|0.598|            12|     0.717|                9|        0.457|           12|           0.652|        11|      0.634|         11|        0.72|2000|\n",
            "| AP|      12|0.577|            14|     0.711|               13|        0.424|           13|           0.638|         6|      0.702|          7|       0.737|2000|\n",
            "| RN|      13|0.552|            16|       0.7|               14|        0.396|           16|           0.608|        17|      0.555|         18|       0.658|2000|\n",
            "| PE|      14|0.544|            15|     0.705|               16|        0.372|           14|           0.615|         7|      0.693|          9|       0.729|2000|\n",
            "| CE|      15|0.541|            13|     0.713|               15|        0.377|           21|           0.588|        24|      0.332|         24|        0.45|2000|\n",
            "| RO|      16|0.537|            19|     0.688|               18|        0.345|           11|           0.654|        19|      0.508|         20|       0.574|2000|\n",
            "| TO|      17|0.525|            19|     0.688|               17|        0.348|           17|           0.605|         8|      0.676|         12|       0.718|2000|\n",
            "| SE|      18|0.518|            21|     0.678|               19|        0.343|           19|           0.596|        16|      0.556|         17|       0.659|2000|\n",
            "| PA|      18|0.518|            11|     0.725|               24|        0.319|           18|           0.601|         4|      0.721|          7|       0.737|2000|\n",
            "+---+--------+-----+--------------+----------+-----------------+-------------+-------------+----------------+----------+-----------+-----------+------------+----+\n",
            "only showing top 20 rows\n",
            "\n"
          ]
        }
      ]
    },
    {
      "cell_type": "code",
      "source": [
        "# criação da coluna de região\n",
        "#definindo as listas com os estados\n",
        "norte = ['AC','TO','RO','AM','PA','RR','AP']\n",
        "sul = ['PR','RS','SC']\n",
        "nordeste = ['MA','PI','CE','RN','PB','PE','AL','SE','BA']\n",
        "sudeste = ['MG','SP','RJ','ES']\n",
        "centro_oeste = ['MT','MS','GO','DF']\n",
        "\n",
        "#criando a nova coluna regiao ,de acordo com os estados presentes em cada lista\n",
        "dfregiao=(dfs.withColumn('regiao', F.when((F.col('uf').isin(norte)), F.lit('NORTE'))\n",
        "                                    .when((F.col('uf').isin(sul)),F.lit('SUL'))\n",
        "                                    .when((F.col('uf').isin(nordeste)),F.lit('NORDESTE'))\n",
        "                                    .when((F.col('uf').isin(sudeste)),F.lit('SUDESTE'))\n",
        "                                    .when((F.col('uf').isin(centro_oeste)),F.lit('CENTRO-OESTE'))\n",
        "                               \n",
        "))"
      ],
      "metadata": {
        "id": "7Y1a22MwaOWB"
      },
      "execution_count": null,
      "outputs": []
    },
    {
      "cell_type": "code",
      "source": [
        ""
      ],
      "metadata": {
        "id": "jq-sUlkk15cO"
      },
      "execution_count": null,
      "outputs": []
    },
    {
      "cell_type": "markdown",
      "source": [
        "#INSIGHTS"
      ],
      "metadata": {
        "id": "de37J3-IKqfV"
      }
    },
    {
      "cell_type": "markdown",
      "source": [
        "##Quantos munícipios foram pesquisados nos censos de 1991 - 2010?"
      ],
      "metadata": {
        "id": "IErrP6_4kG7C"
      }
    },
    {
      "cell_type": "code",
      "source": [
        "dfs.show()"
      ],
      "metadata": {
        "id": "n-uq4jvxZo_8",
        "colab": {
          "base_uri": "https://localhost:8080/"
        },
        "outputId": "d45b663f-4ad4-4b93-c409-f4f4c71e4b01"
      },
      "execution_count": null,
      "outputs": [
        {
          "output_type": "stream",
          "name": "stdout",
          "text": [
            "+----+---+--------------------+-----------+---------------+------------------+------------------+------------------+----------------+----------+-------------+-----------------+-----+-----------------+---------+---------+-------+\n",
            "| ano| uf|           municipio|renda_media|tx_ativ_10_anos|tx_ativ_10-14_anos|tx_desocup_10_anos|tx_desocup_adultos|idhm_longevidade|idhm_renda|idhm_educacao|escol_fund_adulta| idhm|perc_ocup_18_anos|pop_rural|pop_total|pop_urb|\n",
            "+----+---+--------------------+-----------+---------------+------------------+------------------+------------------+----------------+----------+-------------+-----------------+-----+-----------------+---------+---------+-------+\n",
            "|1991| RO|ALTA FLORESTA D'O...|     198.46|           null|              null|              null|              null|           0.617|     0.516|        0.112|            0.117|0.329|             null|    14167|    23546|   9379|\n",
            "|1991| RO|           ARIQUEMES|     319.47|           null|              null|              null|              null|           0.684|     0.593|        0.199|              0.2|0.432|             null|    11529|    56812|  45283|\n",
            "|1991| RO|              CABIXI|     116.38|           null|              null|              null|              null|           0.636|      0.43|        0.108|            0.111|0.309|             null|     5760|     7676|   1916|\n",
            "|1991| RO|              CACOAL|     320.24|           null|              null|              null|              null|           0.667|     0.593|        0.171|            0.176|0.407|             null|    27036|    69725|  42689|\n",
            "|1991| RO|          CEREJEIRAS|      240.1|           null|              null|              null|              null|           0.629|     0.547|        0.167|            0.152|0.386|             null|     5316|    19371|  14055|\n",
            "|1991| RO|   COLORADO DO OESTE|     224.82|           null|              null|              null|              null|           0.658|     0.536|        0.151|            0.148|0.376|             null|    10369|    25664|  15295|\n",
            "|1991| RO|          CORUMBIARA|      81.38|           null|              null|              null|              null|           0.572|     0.373|        0.039|            0.035|0.203|             null|    11897|    11897|      0|\n",
            "|1991| RO|       COSTA MARQUES|     250.08|           null|              null|              null|              null|           0.629|     0.553|         0.22|            0.236|0.425|             null|     1193|     7806|   6613|\n",
            "|1991| RO|     ESPIGÃO D'OESTE|     263.03|           null|              null|              null|              null|           0.653|     0.561|        0.159|            0.158|0.388|             null|    11970|    23156|  11186|\n",
            "|1991| RO|       GUAJARÁ-MIRIM|     391.37|           null|              null|              null|              null|           0.662|     0.625|        0.247|            0.319|0.468|             null|     5177|    32583|  27406|\n",
            "|1991| RO|                JARU|     221.53|           null|              null|              null|              null|           0.658|     0.534|        0.124|            0.123|0.352|             null|    21926|    49601|  27675|\n",
            "|1991| RO|           JI-PARANÁ|     312.09|           null|              null|              null|              null|           0.659|     0.589|        0.209|            0.223|0.433|             null|    25312|   100726|  75414|\n",
            "|1991| RO|  MACHADINHO D'OESTE|     220.98|           null|              null|              null|              null|           0.591|     0.533|        0.074|            0.132|0.286|             null|     6883|    11774|   4891|\n",
            "|1991| RO|NOVA BRASILÂNDIA ...|     109.75|           null|              null|              null|              null|           0.607|     0.421|        0.079|            0.069|0.272|             null|    14282|    19313|   5031|\n",
            "|1991| RO| OURO PRETO DO OESTE|     276.84|           null|              null|              null|              null|           0.629|      0.57|        0.155|             0.16|0.382|             null|    14219|    37805|  23586|\n",
            "|1991| RO|       PIMENTA BUENO|     332.51|           null|              null|              null|              null|           0.629|     0.599|        0.185|            0.202|0.412|             null|     6405|    31910|  25505|\n",
            "|1991| RO|         PORTO VELHO|     486.43|           null|              null|              null|              null|           0.633|      0.66|         0.29|            0.383|0.495|             null|    41653|   271441| 229788|\n",
            "|1991| RO|   PRESIDENTE MÉDICI|     187.85|           null|              null|              null|              null|           0.647|     0.507|        0.128|            0.111|0.348|             null|    18924|    29727|  10803|\n",
            "|1991| RO|          RIO CRESPO|     140.95|           null|              null|              null|              null|           0.578|     0.461|        0.065|            0.104|0.259|             null|     2696|     2696|      0|\n",
            "|1991| RO|      ROLIM DE MOURA|      251.8|           null|              null|              null|              null|           0.665|     0.554|        0.153|            0.157|0.383|             null|    15658|    43930|  28272|\n",
            "+----+---+--------------------+-----------+---------------+------------------+------------------+------------------+----------------+----------+-------------+-----------------+-----+-----------------+---------+---------+-------+\n",
            "only showing top 20 rows\n",
            "\n"
          ]
        }
      ]
    },
    {
      "cell_type": "code",
      "source": [
        "filtro1991 = dfs.select('municipio').filter(F.col('ano') == 1991).count()"
      ],
      "metadata": {
        "id": "PNSMxGpBkRXD"
      },
      "execution_count": null,
      "outputs": []
    },
    {
      "cell_type": "code",
      "source": [
        "filtro2000 = dfs.select('municipio').filter(F.col('ano') == 2000).count()"
      ],
      "metadata": {
        "id": "oS6U2hsimHwT"
      },
      "execution_count": null,
      "outputs": []
    },
    {
      "cell_type": "code",
      "source": [
        "filtro2010 = dfs.select('municipio').filter(F.col('ano') == 2010).count()"
      ],
      "metadata": {
        "id": "55f-NIRumbZ3"
      },
      "execution_count": null,
      "outputs": []
    },
    {
      "cell_type": "code",
      "source": [
        "print(f'Referente ao censo de 1991 existem dados de {filtro1991} municípios.\\nEm relação ao censo de 2000 temos dados de {filtro2000} municípios.\\nNo censo de 2010 temos informações de {filtro2010} municípios.')\n",
        "\n",
        "'''Observação: No dataset existem municípios criados após o período de realização de algum dos censos.\n",
        "Isso foi possível pois estes \"herdaram\" dados dos municípios dos quais se emanciparam. Fonte: IBGE'''"
      ],
      "metadata": {
        "id": "Qc9z6T1Zk64e",
        "colab": {
          "base_uri": "https://localhost:8080/"
        },
        "outputId": "e2efa8ab-b815-4a4f-901c-44167a9fcfd5"
      },
      "execution_count": null,
      "outputs": [
        {
          "output_type": "stream",
          "name": "stdout",
          "text": [
            "Referente ao censo de 1991 existem dados de 5565 municípios.\n",
            "Em relação ao censo de 2000 temos dados de 5565 municípios.\n",
            "No censo de 2010 temos informações de 5565 municípios.\n"
          ]
        },
        {
          "output_type": "execute_result",
          "data": {
            "text/plain": [
              "'Observação: No dataset existem municípios criados após o período de realização de algum dos censos.\\nIsso foi possível pois estes \"herdaram\" dados dos municípios dos quais se emanciparam. Fonte: IBGE'"
            ],
            "application/vnd.google.colaboratory.intrinsic+json": {
              "type": "string"
            }
          },
          "metadata": {},
          "execution_count": 42
        }
      ]
    },
    {
      "cell_type": "markdown",
      "source": [
        "##Qual a renda per capta média dos brasileiros por estado nos anos de 1991, 2000 e 2010?"
      ],
      "metadata": {
        "id": "GMk6zsgm9-0g"
      }
    },
    {
      "cell_type": "code",
      "source": [
        "#Agrupando as cidades com base nos anos, de forma a definir suas rendas máximas, mínimas e médias\n",
        "dfs2 = ( dfs.groupBy(F.col(\"uf\"),F.col(\"ano\"))\n",
        "      .agg(F.max(\"renda_media\").alias(\"renda_maxima\"), #Renda máxima\n",
        "           F.min(\"renda_media\").alias(\"renda_minima\"), #Renda mínima\n",
        "           round(F.avg(\"renda_media\"),2).alias(\"renda_media\")) #Renda média\n",
        ")\n"
      ],
      "metadata": {
        "id": "y6VFyNORHzsp"
      },
      "execution_count": null,
      "outputs": []
    },
    {
      "cell_type": "code",
      "source": [
        "#Filtrando as colunas pelo ano de 1991 e exibindo a renda média de forma ascendente\n",
        "dfs2.orderBy(F.col(\"renda_media\").desc()).filter(F.col(\"ano\")==1991).show(27)\n",
        "\n",
        "#Observação: O Distrito Federal apresenta valores iguais para renda_media, renda_min e renda_max,\n",
        "#pois o IBGE considera que apenas Brasília faz parte do DF"
      ],
      "metadata": {
        "id": "fsAmujMgJptB",
        "colab": {
          "base_uri": "https://localhost:8080/"
        },
        "outputId": "5081317f-6791-4696-ba7d-f1d7f1818a92"
      },
      "execution_count": null,
      "outputs": [
        {
          "output_type": "stream",
          "name": "stdout",
          "text": [
            "+---+----+------------+------------+-----------+\n",
            "| uf| ano|renda_maxima|renda_minima|renda_media|\n",
            "+---+----+------------+------------+-----------+\n",
            "| DF|1991|       916.0|       916.0|      916.0|\n",
            "| SP|1991|     1185.28|       142.8|     428.06|\n",
            "| RJ|1991|     1090.93|      150.16|     338.56|\n",
            "| RS|1991|     1021.93|        67.2|     322.57|\n",
            "| MS|1991|      633.42|      120.61|     315.81|\n",
            "| MT|1991|      684.79|      119.86|     313.39|\n",
            "| SC|1991|      921.95|      108.04|     308.26|\n",
            "| GO|1991|      693.72|      100.65|     271.68|\n",
            "| PR|1991|      878.39|       77.25|     268.39|\n",
            "| ES|1991|      871.44|      120.94|     261.15|\n",
            "| AP|1991|      464.14|       84.07|     230.28|\n",
            "| MG|1991|      797.42|       56.21|      228.5|\n",
            "| RR|1991|      575.35|       56.02|     219.39|\n",
            "| RO|1991|      486.43|       76.31|     195.35|\n",
            "| PA|1991|      529.93|       76.32|     175.89|\n",
            "| TO|1991|      555.09|       42.39|      165.2|\n",
            "| AC|1991|      437.12|        63.5|     161.79|\n",
            "| AM|1991|      537.29|       68.96|     161.12|\n",
            "| PE|1991|      594.62|       39.45|     144.85|\n",
            "| SE|1991|      513.29|       80.82|     141.28|\n",
            "| BA|1991|      570.63|       43.85|     131.69|\n",
            "| RN|1991|      496.15|       56.94|     122.73|\n",
            "| AL|1991|      455.26|       56.87|     119.47|\n",
            "| CE|1991|      457.04|       44.65|     113.29|\n",
            "| MA|1991|      371.59|       33.24|     103.12|\n",
            "| PB|1991|      483.07|       41.71|     101.72|\n",
            "| PI|1991|      346.37|       41.37|      92.12|\n",
            "+---+----+------------+------------+-----------+\n",
            "\n"
          ]
        }
      ]
    },
    {
      "cell_type": "code",
      "source": [
        "#Filtrando as colunas pelo ano de 2000 e exibindo a renda média de forma ascendente\n",
        "dfs2.orderBy(F.col(\"renda_media\").desc()).filter(F.col(\"ano\")==2000).show(27)"
      ],
      "metadata": {
        "id": "BYRON9vpPo8I",
        "colab": {
          "base_uri": "https://localhost:8080/"
        },
        "outputId": "e7d9c928-b049-4749-f093-d6d6613f0c8f"
      },
      "execution_count": null,
      "outputs": [
        {
          "output_type": "stream",
          "name": "stdout",
          "text": [
            "+---+----+------------+------------+-----------+\n",
            "| uf| ano|renda_maxima|renda_minima|renda_media|\n",
            "+---+----+------------+------------+-----------+\n",
            "| DF|2000|     1199.44|     1199.44|    1199.44|\n",
            "| SP|2000|     1759.76|      203.69|     547.52|\n",
            "| RJ|2000|     1596.51|       307.5|     520.36|\n",
            "| SC|2000|     1563.49|      168.71|     507.74|\n",
            "| RS|2000|      1399.5|      150.04|     482.07|\n",
            "| MT|2000|      904.73|      149.42|     441.76|\n",
            "| MS|2000|      857.52|      174.32|     419.34|\n",
            "| ES|2000|     1315.63|      199.21|     417.31|\n",
            "| PR|2000|     1225.28|      156.51|     399.92|\n",
            "| GO|2000|     1001.94|      116.72|     386.36|\n",
            "| RO|2000|      613.61|      185.42|     365.45|\n",
            "| MG|2000|     1101.96|       85.69|     349.45|\n",
            "| AP|2000|      526.35|      150.14|     268.16|\n",
            "| RR|2000|       592.6|       76.77|     262.44|\n",
            "| TO|2000|      714.58|       77.29|     236.26|\n",
            "| PA|2000|      625.48|      100.22|     231.11|\n",
            "| AC|2000|      527.43|       62.65|     209.31|\n",
            "| PE|2000|     1104.89|       77.98|     200.21|\n",
            "| BA|2000|      685.87|       82.03|     188.19|\n",
            "| RN|2000|      673.38|       85.31|     187.54|\n",
            "| SE|2000|      700.81|      103.68|     182.84|\n",
            "| AM|2000|      531.53|       81.81|      179.2|\n",
            "| PB|2000|      662.85|       78.85|     164.62|\n",
            "| CE|2000|      610.48|       86.97|     163.46|\n",
            "| AL|2000|      583.12|        69.2|     153.99|\n",
            "| PI|2000|       498.4|        63.5|     141.94|\n",
            "| MA|2000|      502.14|       64.55|     138.17|\n",
            "+---+----+------------+------------+-----------+\n",
            "\n"
          ]
        }
      ]
    },
    {
      "cell_type": "code",
      "source": [
        "#Filtrando as colunas pelo ano de 2010 e exibindo a renda média de forma ascendente\n",
        "dfs2.orderBy(F.col(\"renda_media\").desc()).filter(F.col(\"ano\")==2010).show(27)"
      ],
      "metadata": {
        "id": "7kcziJFMRh65",
        "colab": {
          "base_uri": "https://localhost:8080/"
        },
        "outputId": "064168f7-9c6f-45ac-f937-1c8c3af5b892"
      },
      "execution_count": null,
      "outputs": [
        {
          "output_type": "stream",
          "name": "stdout",
          "text": [
            "+---+----+------------+------------+-----------+\n",
            "| uf| ano|renda_maxima|renda_minima|renda_media|\n",
            "+---+----+------------+------------+-----------+\n",
            "| DF|2010|     1715.11|     1715.11|    1715.11|\n",
            "| SC|2010|     1798.12|      373.86|     766.96|\n",
            "| RS|2010|     1758.27|      336.44|     742.83|\n",
            "| SP|2010|     2043.74|      318.44|     713.93|\n",
            "| RJ|2010|     2000.29|      375.49|     666.01|\n",
            "| PR|2010|     1581.04|      277.33|     610.22|\n",
            "| MS|2010|     1089.37|      241.32|     596.73|\n",
            "| GO|2010|     1348.55|      276.05|      582.8|\n",
            "| MT|2010|      1162.4|      271.99|     579.78|\n",
            "| ES|2010|     1866.58|      353.86|     575.92|\n",
            "| RO|2010|      929.19|      341.22|     493.74|\n",
            "| MG|2010|     1731.84|      181.77|      490.6|\n",
            "| AP|2010|      717.88|      213.26|     396.36|\n",
            "| TO|2010|     1087.35|      168.85|      375.5|\n",
            "| AC|2010|      744.67|      157.27|     325.71|\n",
            "| RR|2010|      786.55|      121.32|     324.36|\n",
            "| RN|2010|      950.34|      174.39|     307.21|\n",
            "| PA|2010|      853.82|       130.4|     301.55|\n",
            "| SE|2010|     1052.03|      194.24|     301.35|\n",
            "| PE|2010|     1144.26|      155.49|     299.95|\n",
            "| BA|2010|     1031.78|      135.49|     298.57|\n",
            "| PB|2010|     1036.21|      166.28|     277.35|\n",
            "| CE|2010|      846.36|      171.62|     267.64|\n",
            "| AM|2010|      790.27|      122.21|     251.34|\n",
            "| AL|2010|      792.54|      151.62|     251.22|\n",
            "| PI|2010|      757.57|      141.79|     249.39|\n",
            "| MA|2010|      805.36|       96.25|     231.85|\n",
            "+---+----+------------+------------+-----------+\n",
            "\n"
          ]
        }
      ]
    },
    {
      "cell_type": "code",
      "source": [
        "'''Verificação para saber quais municípios pertencem ao Distrito Federal. Como exemplo, foi utilizado um município\n",
        "que atualmente pertence ao DF e o mesmo se encontra em Goiás de acordo com os dados do censo do IBGE'''\n",
        "dfs.filter(F.col(\"municipio\")=='PLANALTINA').show()"
      ],
      "metadata": {
        "id": "PCrtI1pHVL1x",
        "colab": {
          "base_uri": "https://localhost:8080/"
        },
        "outputId": "a272c37e-39b6-4928-f78c-415fa9228e7f"
      },
      "execution_count": null,
      "outputs": [
        {
          "output_type": "stream",
          "name": "stdout",
          "text": [
            "+----+---+----------+-----------+---------------+------------------+------------------+------------------+----------------+----------+-------------+-----------------+-----+-----------------+---------+---------+-------+\n",
            "| ano| uf| municipio|renda_media|tx_ativ_10_anos|tx_ativ_10-14_anos|tx_desocup_10_anos|tx_desocup_adultos|idhm_longevidade|idhm_renda|idhm_educacao|escol_fund_adulta| idhm|perc_ocup_18_anos|pop_rural|pop_total|pop_urb|\n",
            "+----+---+----------+-----------+---------------+------------------+------------------+------------------+----------------+----------+-------------+-----------------+-----+-----------------+---------+---------+-------+\n",
            "|1991| GO|PLANALTINA|     251.86|           null|              null|              null|              null|           0.657|     0.554|        0.156|            0.186|0.384|             null|     2702|    40201|  37499|\n",
            "|2000| GO|PLANALTINA|     338.63|          42.83|              9.02|             22.11|             20.08|            0.76|     0.602|        0.286|            0.246|0.508|            41.22|     3591|    73718|  70127|\n",
            "|2010| GO|PLANALTINA|     466.69|          59.41|               6.4|              9.68|              8.44|            0.81|     0.653|        0.566|            0.476|0.669|            48.37|     4067|    81649|  77582|\n",
            "+----+---+----------+-----------+---------------+------------------+------------------+------------------+----------------+----------+-------------+-----------------+-----+-----------------+---------+---------+-------+\n",
            "\n"
          ]
        }
      ]
    },
    {
      "cell_type": "markdown",
      "source": [
        "##Quais os estados com a menor taxa de desocupados entre 10 e 14 anos?"
      ],
      "metadata": {
        "id": "M7x9OEwEX7KF"
      }
    },
    {
      "cell_type": "code",
      "source": [
        "#No censo de 1991, não foram feitas análises de desocupados entre 10 e 14 anos. Para níveis de tratamento e análise\n",
        "#serão considerados os censos de 2000 e 2010.\n",
        "deso2000 = dfs.filter(F.col(\"ano\")==2000)"
      ],
      "metadata": {
        "id": "tES36rXwYCsZ"
      },
      "execution_count": null,
      "outputs": []
    },
    {
      "cell_type": "code",
      "source": [
        "deso2010 = dfs.filter(F.col(\"ano\")==2010)"
      ],
      "metadata": {
        "id": "v2Lam-T7fALD"
      },
      "execution_count": null,
      "outputs": []
    },
    {
      "cell_type": "code",
      "source": [
        "#Taxa minima de desocupados por estado em ordem decrescente.\n",
        "deso2000.groupBy(\"uf\").agg(F.min(\"tx_desocup_10_anos\").alias(\"min_desocupados_10-14_anos\")).sort(F.col(\"min_desocupados_10-14_anos\").desc()).show(5)"
      ],
      "metadata": {
        "id": "Mpw608ObYdkd",
        "colab": {
          "base_uri": "https://localhost:8080/"
        },
        "outputId": "3af203e8-4fe4-4386-8eab-968bff81997e"
      },
      "execution_count": null,
      "outputs": [
        {
          "output_type": "stream",
          "name": "stdout",
          "text": [
            "+---+--------------------------+\n",
            "| uf|min_desocupados_10-14_anos|\n",
            "+---+--------------------------+\n",
            "| DF|                     17.42|\n",
            "| RR|                      7.19|\n",
            "| AP|                      4.81|\n",
            "| RJ|                      2.94|\n",
            "| GO|                      2.66|\n",
            "+---+--------------------------+\n",
            "only showing top 5 rows\n",
            "\n"
          ]
        }
      ]
    },
    {
      "cell_type": "code",
      "source": [
        "deso2010.groupBy(\"uf\").agg(F.min(\"tx_desocup_10_anos\").alias(\"min_desocupados_10-14_anos\")).sort(F.col(\"min_desocupados_10-14_anos\").desc()).show(5)"
      ],
      "metadata": {
        "id": "8WF9sLPMfPt-",
        "colab": {
          "base_uri": "https://localhost:8080/"
        },
        "outputId": "c6e8d2aa-5b57-4c09-8113-db506b97c6c6"
      },
      "execution_count": null,
      "outputs": [
        {
          "output_type": "stream",
          "name": "stdout",
          "text": [
            "+---+--------------------------+\n",
            "| uf|min_desocupados_10-14_anos|\n",
            "+---+--------------------------+\n",
            "| DF|                      8.58|\n",
            "| AP|                      5.52|\n",
            "| BA|                       2.9|\n",
            "| AC|                      2.64|\n",
            "| MS|                      2.45|\n",
            "+---+--------------------------+\n",
            "only showing top 5 rows\n",
            "\n"
          ]
        }
      ]
    },
    {
      "cell_type": "markdown",
      "source": [
        "##Quais são os municípios com maior número de trabalhadores entre 10 e 14 anos?"
      ],
      "metadata": {
        "id": "-EH7n155Y0_o"
      }
    },
    {
      "cell_type": "code",
      "source": [
        "#No censo de 1991 não foram feitas análises de trabalhadores entre 10-14 anos, resultando em valores nulos. Para fins de análise, serão considerados\n",
        "#os censos de 2000 e 2010\n",
        "trabalhadores2000 = dfs.filter(F.col(\"ano\")==2000)\n",
        "trabalhadores2010 = dfs.filter(F.col(\"ano\")==2010)\n"
      ],
      "metadata": {
        "id": "CnIGi_PrZ0KI"
      },
      "execution_count": null,
      "outputs": []
    },
    {
      "cell_type": "code",
      "source": [
        "#Tabela com o top 10 dos municípios que possuem as maiores taxas de trabalhadores com idades entre 10 e 14 anos em 2000\n",
        "\n",
        "trabalhadores2000.groupBy(\"uf\",\"municipio\").agg(F.max(\"tx_ativ_10-14_anos\").alias(\"max_atividades1014\")).sort(F.col(\"max_atividades1014\").desc()).show(10)"
      ],
      "metadata": {
        "id": "viVxP0gMY0JC",
        "colab": {
          "base_uri": "https://localhost:8080/"
        },
        "outputId": "4b49c96b-9313-4733-c9e8-4b8b5ae5987b"
      },
      "execution_count": null,
      "outputs": [
        {
          "output_type": "stream",
          "name": "stdout",
          "text": [
            "+---+-------------------+------------------+\n",
            "| uf|          municipio|max_atividades1014|\n",
            "+---+-------------------+------------------+\n",
            "| SC|CHAPADÃO DO LAGEADO|              98.5|\n",
            "| RS|   ESPERANÇA DO SUL|             84.56|\n",
            "| RS|         CENTENÁRIO|             80.74|\n",
            "| RS|LAGOA BONITA DO SUL|             80.67|\n",
            "| RS|              SÉRIO|             79.47|\n",
            "| SC|      LEOBERTO LEAL|             75.24|\n",
            "| RS|          UBIRETAMA|             74.01|\n",
            "| RS|   TAQUARUÇU DO SUL|             73.44|\n",
            "| RS|       VISTA ALEGRE|             72.32|\n",
            "| RS|            IBARAMA|             72.14|\n",
            "+---+-------------------+------------------+\n",
            "only showing top 10 rows\n",
            "\n"
          ]
        }
      ]
    },
    {
      "cell_type": "code",
      "source": [
        "#Tabela com o top 10 dos municípios que possuem as maiores taxas de trabalhadores com idades entre 10 e 14 anos em 2010\n",
        "\n",
        "trabalhadores2010.groupBy(\"uf\",\"municipio\").agg(F.max(\"tx_ativ_10-14_anos\").alias(\"max_atividades1014\")).sort(F.col(\"max_atividades1014\").desc()).show(10)"
      ],
      "metadata": {
        "id": "tUHYWcD71c3Q",
        "colab": {
          "base_uri": "https://localhost:8080/"
        },
        "outputId": "0b5596e9-ef81-4f4a-cd48-d293cf20dfb8"
      },
      "execution_count": null,
      "outputs": [
        {
          "output_type": "stream",
          "name": "stdout",
          "text": [
            "+---+-------------------+------------------+\n",
            "| uf|          municipio|max_atividades1014|\n",
            "+---+-------------------+------------------+\n",
            "| SC|     NOVO HORIZONTE|             72.55|\n",
            "| RS|             BOZANO|             71.13|\n",
            "| RS|            ITAPUCA|             65.18|\n",
            "| RS|          UBIRETAMA|             64.03|\n",
            "| PE|             MANARI|             61.89|\n",
            "| SC|          XAVANTINA|             61.61|\n",
            "| RS|         NOVO XINGU|             61.15|\n",
            "| RS|LAGOA BONITA DO SUL|             57.35|\n",
            "| RS|       TRÊS ARROIOS|              56.8|\n",
            "| SC|           SALTINHO|             56.77|\n",
            "+---+-------------------+------------------+\n",
            "only showing top 10 rows\n",
            "\n"
          ]
        }
      ]
    },
    {
      "cell_type": "markdown",
      "source": [
        "##Qual a renda per capita do brasileiro nos últimos censos por estado e região."
      ],
      "metadata": {
        "id": "l6fjoXTBbDum"
      }
    },
    {
      "cell_type": "code",
      "source": [
        "# filtros por ano\n",
        "ano1991 = dfregiao.filter(F.col(\"ano\")==1991)\n",
        "ano2000 = dfregiao.filter(F.col(\"ano\")==2000)\n",
        "ano2010 = dfregiao.filter(F.col(\"ano\")==2010)"
      ],
      "metadata": {
        "id": "Qfe1PmQ8bkgC"
      },
      "execution_count": null,
      "outputs": []
    },
    {
      "cell_type": "code",
      "source": [
        "#Renda média per capita por região em 1991\n",
        "ano1991.groupBy(F.col(\"regiao\")).agg(round(F.avg(F.col(\"renda_media\")),3).alias(\"renda_media\"))\\\n",
        "          .orderBy(F.col('renda_media').desc()).show(truncate=50)"
      ],
      "metadata": {
        "id": "pOup---hbugi",
        "colab": {
          "base_uri": "https://localhost:8080/"
        },
        "outputId": "b759358a-fbfd-4428-acfc-0fc50c1f63ab"
      },
      "execution_count": null,
      "outputs": [
        {
          "output_type": "stream",
          "name": "stdout",
          "text": [
            "+------------+-----------+\n",
            "|      regiao|renda_media|\n",
            "+------------+-----------+\n",
            "|     SUDESTE|    313.267|\n",
            "|         SUL|    300.844|\n",
            "|CENTRO-OESTE|     293.07|\n",
            "|       NORTE|    175.497|\n",
            "|    NORDESTE|    117.911|\n",
            "+------------+-----------+\n",
            "\n"
          ]
        }
      ]
    },
    {
      "cell_type": "code",
      "source": [
        "#Renda média per capita por estado em 1991\n",
        "ano1991.groupBy(\"uf\").agg(F.avg(F.col(\"renda_media\"))).sort(F.col(\"avg(renda_media)\").desc()).show(27)"
      ],
      "metadata": {
        "id": "8_AYvBbTc1u1",
        "colab": {
          "base_uri": "https://localhost:8080/"
        },
        "outputId": "9e3f9d36-55ac-41f5-c99b-8da31a065c02"
      },
      "execution_count": null,
      "outputs": [
        {
          "output_type": "stream",
          "name": "stdout",
          "text": [
            "+---+------------------+\n",
            "| uf|  avg(renda_media)|\n",
            "+---+------------------+\n",
            "| DF|             916.0|\n",
            "| SP|  428.061565891473|\n",
            "| RJ|338.56021739130415|\n",
            "| RS| 322.5658266129033|\n",
            "| MS| 315.8061538461538|\n",
            "| MT|313.39347517730505|\n",
            "| SC|308.25914675767916|\n",
            "| GO| 271.6796747967481|\n",
            "| PR|268.39476190476216|\n",
            "| ES| 261.1476923076924|\n",
            "| AP|        230.284375|\n",
            "| MG|228.50273153575614|\n",
            "| RR|219.39000000000001|\n",
            "| RO| 195.3473076923077|\n",
            "| PA|175.89174825174823|\n",
            "| TO|165.20467625899283|\n",
            "| AC|161.78772727272727|\n",
            "| AM|161.11612903225802|\n",
            "| PE|144.85129729729732|\n",
            "| SE|141.27546666666663|\n",
            "| BA|131.69448441247005|\n",
            "| RN|122.72820359281442|\n",
            "| AL|119.47196078431374|\n",
            "| CE| 113.2901630434783|\n",
            "| MA|103.12294930875578|\n",
            "| PB|101.71744394618835|\n",
            "| PI| 92.12325892857143|\n",
            "+---+------------------+\n",
            "\n"
          ]
        }
      ]
    },
    {
      "cell_type": "code",
      "source": [
        "#Renda média per capita por região em 2000\n",
        "ano2000.groupBy(\"regiao\").agg(F.avg(F.col(\"renda_media\"))).sort(F.col(\"avg(renda_media)\").desc()).show()"
      ],
      "metadata": {
        "id": "QwSjLrxJdAmU",
        "colab": {
          "base_uri": "https://localhost:8080/"
        },
        "outputId": "274dbf62-c480-44e9-d1bb-d036ff3172d1"
      },
      "execution_count": null,
      "outputs": [
        {
          "output_type": "stream",
          "name": "stdout",
          "text": [
            "+------------+------------------+\n",
            "|      regiao|  avg(renda_media)|\n",
            "+------------+------------------+\n",
            "|         SUL|460.80941919191946|\n",
            "|     SUDESTE|438.64173860911296|\n",
            "|CENTRO-OESTE| 410.3857939914162|\n",
            "|       NORTE|242.39400890868615|\n",
            "|    NORDESTE|169.90931995540677|\n",
            "+------------+------------------+\n",
            "\n"
          ]
        }
      ]
    },
    {
      "cell_type": "code",
      "source": [
        "#Renda média per capita por estado em 2000\n",
        "ano2000.groupBy(\"uf\").agg(F.avg(F.col(\"renda_media\"))).sort(F.col(\"avg(renda_media)\").desc()).show(27)"
      ],
      "metadata": {
        "id": "CCnQIBATdGGn",
        "colab": {
          "base_uri": "https://localhost:8080/"
        },
        "outputId": "b7b41142-74fc-41f7-fb66-949531e94ae3"
      },
      "execution_count": null,
      "outputs": [
        {
          "output_type": "stream",
          "name": "stdout",
          "text": [
            "+---+------------------+\n",
            "| uf|  avg(renda_media)|\n",
            "+---+------------------+\n",
            "| DF|           1199.44|\n",
            "| SP| 547.5221395348836|\n",
            "| RJ|          520.3625|\n",
            "| SC|507.73747440273013|\n",
            "| RS| 482.0688911290316|\n",
            "| MT| 441.7552482269504|\n",
            "| MS| 419.3448717948717|\n",
            "| ES|417.30807692307707|\n",
            "| PR|399.92065162907295|\n",
            "| GO|386.35752032520327|\n",
            "| RO|365.45076923076937|\n",
            "| MG|349.44813599062144|\n",
            "| AP|         268.15875|\n",
            "| RR|262.44066666666663|\n",
            "| TO|236.25892086330933|\n",
            "| PA|231.11090909090905|\n",
            "| AC|209.31181818181815|\n",
            "| PE|200.20648648648648|\n",
            "| BA|188.19354916067158|\n",
            "| RN|187.53532934131724|\n",
            "| SE| 182.8365333333333|\n",
            "| AM|179.20338709677418|\n",
            "| PB|164.61928251121077|\n",
            "| CE|163.45983695652183|\n",
            "| AL|153.99176470588228|\n",
            "| PI| 141.9360267857143|\n",
            "| MA| 138.1738709677419|\n",
            "+---+------------------+\n",
            "\n"
          ]
        }
      ]
    },
    {
      "cell_type": "code",
      "source": [
        "#Renda média per capita por região em 2010\n",
        "ano2010.groupBy(\"regiao\").agg(F.avg(F.col(\"renda_media\"))).sort(F.col(\"avg(renda_media)\").desc()).show()"
      ],
      "metadata": {
        "id": "jd_2KpN_dK0Q",
        "colab": {
          "base_uri": "https://localhost:8080/"
        },
        "outputId": "c3318ae7-256f-4c86-dd71-55a0dcd704a8"
      },
      "execution_count": null,
      "outputs": [
        {
          "output_type": "stream",
          "name": "stdout",
          "text": [
            "+------------+-----------------+\n",
            "|      regiao| avg(renda_media)|\n",
            "+------------+-----------------+\n",
            "|         SUL|704.2425757575769|\n",
            "|     SUDESTE|590.6227877697845|\n",
            "|CENTRO-OESTE|586.6486480686699|\n",
            "|       NORTE| 345.091514476615|\n",
            "|    NORDESTE|276.9185674470454|\n",
            "+------------+-----------------+\n",
            "\n"
          ]
        }
      ]
    },
    {
      "cell_type": "code",
      "source": [
        "#Renda média per capita por estado em 2010\n",
        "ano2010.groupBy(\"uf\").agg(F.avg(F.col(\"renda_media\"))).sort(F.col(\"avg(renda_media)\").desc()).show(27)"
      ],
      "metadata": {
        "id": "vn0lMYWLdO4P",
        "colab": {
          "base_uri": "https://localhost:8080/"
        },
        "outputId": "f3f8884d-b53c-4b8f-dcff-3e6e79df1c2d"
      },
      "execution_count": null,
      "outputs": [
        {
          "output_type": "stream",
          "name": "stdout",
          "text": [
            "+---+------------------+\n",
            "| uf|  avg(renda_media)|\n",
            "+---+------------------+\n",
            "| DF|           1715.11|\n",
            "| SC| 766.9621501706488|\n",
            "| RS| 742.8291532258066|\n",
            "| SP| 713.9261550387594|\n",
            "| RJ| 666.0146739130433|\n",
            "| PR| 610.2180701754387|\n",
            "| MS| 596.7333333333332|\n",
            "| GO|  582.802845528455|\n",
            "| MT| 579.7763120567374|\n",
            "| ES|  575.916794871795|\n",
            "| RO| 493.7365384615386|\n",
            "| MG|490.59974208675237|\n",
            "| AP|396.35562500000003|\n",
            "| TO| 375.4978417266186|\n",
            "| AC|            325.71|\n",
            "| RR|324.36133333333333|\n",
            "| RN| 307.2094610778443|\n",
            "| PA|301.55048951048957|\n",
            "| SE| 301.3542666666665|\n",
            "| PE|299.94756756756783|\n",
            "| BA|  298.569928057554|\n",
            "| PB| 277.3511659192826|\n",
            "| CE| 267.6351086956521|\n",
            "| AM| 251.3409677419355|\n",
            "| AL|251.21549019607835|\n",
            "| PI| 249.3887946428571|\n",
            "| MA|231.84866359447008|\n",
            "+---+------------------+\n",
            "\n"
          ]
        }
      ]
    },
    {
      "cell_type": "markdown",
      "source": [
        "##Ranking dos estados e regiões por IDHM?"
      ],
      "metadata": {
        "id": "DQYGXFXfdfHS"
      }
    },
    {
      "cell_type": "code",
      "source": [
        "#Ranking IDHM por região em 1991\n",
        "ano1991.groupBy(\"regiao\").agg(F.avg(F.col(\"idhm\"))).sort(F.col(\"avg(idhm)\").desc()).show()"
      ],
      "metadata": {
        "id": "wRABRuBUdXac",
        "colab": {
          "base_uri": "https://localhost:8080/"
        },
        "outputId": "5cb29d9a-2abc-448f-b59b-d1393d5985e5"
      },
      "execution_count": null,
      "outputs": [
        {
          "output_type": "stream",
          "name": "stdout",
          "text": [
            "+------------+-------------------+\n",
            "|      regiao|          avg(idhm)|\n",
            "+------------+-------------------+\n",
            "|         SUL| 0.4525799663299664|\n",
            "|     SUDESTE|0.43818884892086407|\n",
            "|CENTRO-OESTE| 0.4032381974248926|\n",
            "|       NORTE| 0.3065011135857462|\n",
            "|    NORDESTE|0.29445094760312146|\n",
            "+------------+-------------------+\n",
            "\n"
          ]
        }
      ]
    },
    {
      "cell_type": "code",
      "source": [
        "#Ranking IDHM por estado em 1991\n",
        "ano1991.groupBy(\"uf\").agg(F.avg(F.col(\"idhm\"))).sort(F.col(\"avg(idhm)\").desc()).show(10)"
      ],
      "metadata": {
        "id": "Rfa03CyHeZng",
        "colab": {
          "base_uri": "https://localhost:8080/"
        },
        "outputId": "1a43698b-288c-46af-85b8-f2e4e82887e3"
      },
      "execution_count": null,
      "outputs": [
        {
          "output_type": "stream",
          "name": "stdout",
          "text": [
            "+---+-------------------+\n",
            "| uf|          avg(idhm)|\n",
            "+---+-------------------+\n",
            "| DF|              0.616|\n",
            "| SP|0.49511627906976724|\n",
            "| RJ| 0.4790326086956522|\n",
            "| SC|0.46620136518771305|\n",
            "| RS|0.46095161290322567|\n",
            "| PR|0.43217042606516326|\n",
            "| ES|0.43211538461538435|\n",
            "| GO| 0.4140081300813009|\n",
            "| MS| 0.4122179487179486|\n",
            "| MG| 0.3912930832356391|\n",
            "+---+-------------------+\n",
            "only showing top 10 rows\n",
            "\n"
          ]
        }
      ]
    },
    {
      "cell_type": "code",
      "source": [
        "#Ranking IDHM por região em 2000\n",
        "ano2000.groupBy(\"regiao\").agg(F.avg(F.col(\"idhm\"))).sort(F.col(\"avg(idhm)\").desc()).show()"
      ],
      "metadata": {
        "id": "3ug7-lXhel7m",
        "colab": {
          "base_uri": "https://localhost:8080/"
        },
        "outputId": "a9e3f207-688f-4b5d-f3da-5ec48ef7f54b"
      },
      "execution_count": null,
      "outputs": [
        {
          "output_type": "stream",
          "name": "stdout",
          "text": [
            "+------------+-------------------+\n",
            "|      regiao|          avg(idhm)|\n",
            "+------------+-------------------+\n",
            "|         SUL| 0.6030563973063973|\n",
            "|     SUDESTE| 0.5895455635491603|\n",
            "|CENTRO-OESTE| 0.5510793991416308|\n",
            "|       NORTE|0.44358797327394234|\n",
            "|    NORDESTE| 0.4221872909698997|\n",
            "+------------+-------------------+\n",
            "\n"
          ]
        }
      ]
    },
    {
      "cell_type": "code",
      "source": [
        "#Ranking IDHM por estado em 2000\n",
        "ano2000.groupBy(\"uf\").agg(F.avg(F.col(\"idhm\"))).sort(F.col(\"avg(idhm)\").desc()).show(10)"
      ],
      "metadata": {
        "id": "xe5o0ppMexRN",
        "colab": {
          "base_uri": "https://localhost:8080/"
        },
        "outputId": "9112c84c-ac18-49b2-d76b-7cb50b7729e6"
      },
      "execution_count": null,
      "outputs": [
        {
          "output_type": "stream",
          "name": "stdout",
          "text": [
            "+---+------------------+\n",
            "| uf|         avg(idhm)|\n",
            "+---+------------------+\n",
            "| DF|             0.725|\n",
            "| SP|0.6444759689922477|\n",
            "| SC|0.6131160409556314|\n",
            "| RS|0.6051915322580641|\n",
            "| RJ| 0.601086956521739|\n",
            "| PR|0.5930150375939853|\n",
            "| ES|0.5781794871794872|\n",
            "| GO|0.5571585365853658|\n",
            "| MS|0.5511666666666669|\n",
            "| MG| 0.547804220398593|\n",
            "+---+------------------+\n",
            "only showing top 10 rows\n",
            "\n"
          ]
        }
      ]
    },
    {
      "cell_type": "code",
      "source": [
        "#Ranking IDHM por região em 2010\n",
        "ano2010.groupBy(\"regiao\").agg(F.avg(F.col(\"idhm\"))).sort(F.col(\"avg(idhm)\").desc()).show()"
      ],
      "metadata": {
        "id": "SfVyFjAfe4xg",
        "colab": {
          "base_uri": "https://localhost:8080/"
        },
        "outputId": "fc137183-4b95-46d0-f91d-e7eb627f63f3"
      },
      "execution_count": null,
      "outputs": [
        {
          "output_type": "stream",
          "name": "stdout",
          "text": [
            "+------------+------------------+\n",
            "|      regiao|         avg(idhm)|\n",
            "+------------+------------------+\n",
            "|         SUL|0.7141127946127946|\n",
            "|     SUDESTE|0.6989844124700233|\n",
            "|CENTRO-OESTE|0.6894678111587985|\n",
            "|       NORTE|0.6079510022271718|\n",
            "|    NORDESTE|0.5906783723522865|\n",
            "+------------+------------------+\n",
            "\n"
          ]
        }
      ]
    },
    {
      "cell_type": "code",
      "source": [
        "#Ranking IDHM por região em 2010\n",
        "ano2010.groupBy(\"uf\").agg(F.avg(F.col(\"idhm\"))).sort(F.col(\"avg(idhm)\").desc()).show()"
      ],
      "metadata": {
        "id": "RXpZ3yubfD1N",
        "colab": {
          "base_uri": "https://localhost:8080/"
        },
        "outputId": "97546fcf-bfaf-4457-b8c6-99188ebae268"
      },
      "execution_count": null,
      "outputs": [
        {
          "output_type": "stream",
          "name": "stdout",
          "text": [
            "+---+------------------+\n",
            "| uf|         avg(idhm)|\n",
            "+---+------------------+\n",
            "| DF|             0.824|\n",
            "| SP|0.7395271317829464|\n",
            "| SC|0.7316484641638221|\n",
            "| RS| 0.713530241935484|\n",
            "| RJ|0.7089130434782609|\n",
            "| PR|0.7019598997493739|\n",
            "| GO|0.6949837398373981|\n",
            "| ES|0.6921923076923077|\n",
            "| MT|0.6842907801418439|\n",
            "| MS|0.6797051282051283|\n",
            "| MG|0.6678780773739738|\n",
            "| RO|0.6440384615384617|\n",
            "| AP|         0.6428125|\n",
            "| TO|0.6399280575539567|\n",
            "| CE|0.6166304347826085|\n",
            "| RN|0.6108502994011976|\n",
            "| RR|            0.6102|\n",
            "| SE|0.5969333333333334|\n",
            "| PE|0.5962486486486489|\n",
            "| BA|0.5939040767386091|\n",
            "+---+------------------+\n",
            "only showing top 20 rows\n",
            "\n"
          ]
        }
      ]
    },
    {
      "cell_type": "markdown",
      "source": [
        "##Quais são os estados com maior média de Longevidade?"
      ],
      "metadata": {
        "id": "K2Ifl0iBfp6x"
      }
    },
    {
      "cell_type": "code",
      "source": [
        "# Quais são os estados com maior média de Longevidade em 1991?\n",
        "filter1991=dfs.filter(F.col('ano')==1991) #filtro pelo ano\n",
        "print(f'Os estados com maior média de longevidade em 1991 são :')\n",
        "filter1991.groupBy(F.col(\"uf\")).agg(round(F.avg(\"idhm_longevidade\"),2).alias(\"med_idhm_longevidade\"))\\\n",
        "          .orderBy(F.col('med_idhm_longevidade').desc()).show(10) #groupby por UF para F.avg para pegar a média de longevidade"
      ],
      "metadata": {
        "id": "1XKTyy_UfoLN",
        "colab": {
          "base_uri": "https://localhost:8080/"
        },
        "outputId": "abe2d053-f6c2-4c37-ebae-5c75176b8ece"
      },
      "execution_count": null,
      "outputs": [
        {
          "output_type": "stream",
          "name": "stdout",
          "text": [
            "Os estados com maior média de longevidade em 1991 são :\n",
            "+---+--------------------+\n",
            "| uf|med_idhm_longevidade|\n",
            "+---+--------------------+\n",
            "| SC|                0.74|\n",
            "| DF|                0.73|\n",
            "| RS|                0.73|\n",
            "| SP|                0.72|\n",
            "| MG|                0.68|\n",
            "| PR|                0.68|\n",
            "| RJ|                0.68|\n",
            "| MS|                0.68|\n",
            "| ES|                0.67|\n",
            "| GO|                0.66|\n",
            "+---+--------------------+\n",
            "only showing top 10 rows\n",
            "\n"
          ]
        }
      ]
    },
    {
      "cell_type": "code",
      "source": [
        "# Quais são os estados com maior média de Longevidade em 2000?\n",
        "filter2000=dfs.filter(F.col('ano')==2000) #filtro pelo ano\n",
        "print(f'Os estados com maior média de longevidade em 2000 são :')\n",
        "filter2000.groupBy(F.col(\"uf\")).agg(round(F.avg(\"idhm_longevidade\"),2).alias(\"med_idhm_longevidade\"))\\\n",
        ".orderBy(F.col('med_idhm_longevidade').desc()).show(10)#groupby por UF para F.avg para pegar a média de longevidade"
      ],
      "metadata": {
        "id": "en-teFexgoJI",
        "colab": {
          "base_uri": "https://localhost:8080/"
        },
        "outputId": "bf5c5312-2747-4ce3-c4ce-cf9151735874"
      },
      "execution_count": null,
      "outputs": [
        {
          "output_type": "stream",
          "name": "stdout",
          "text": [
            "Os estados com maior média de longevidade em 2000 são :\n",
            "+---+--------------------+\n",
            "| uf|med_idhm_longevidade|\n",
            "+---+--------------------+\n",
            "| DF|                0.81|\n",
            "| SC|                0.79|\n",
            "| RS|                0.79|\n",
            "| SP|                0.78|\n",
            "| GO|                0.76|\n",
            "| MS|                0.75|\n",
            "| PR|                0.75|\n",
            "| ES|                0.75|\n",
            "| MG|                0.75|\n",
            "| MT|                0.74|\n",
            "+---+--------------------+\n",
            "only showing top 10 rows\n",
            "\n"
          ]
        }
      ]
    },
    {
      "cell_type": "code",
      "source": [
        "#Quais são os estados com maior média de Longevidade em 2010?\n",
        "filter2010=dfs.filter(F.col('ano')==2010) #filtro pelo ano\n",
        "print(f'Os estados com maior média de longevidade em 2010 são :')\n",
        "filter2010.groupBy(F.col(\"uf\")).agg(round(F.avg(\"idhm_longevidade\"),2).alias(\"med_idhm_longevidade\"))\\\n",
        ".orderBy(F.col('med_idhm_longevidade').desc()).show(10)#groupby por UF para F.avg para pegar a média de longevidade\n",
        "\n"
      ],
      "metadata": {
        "id": "DxrPLbUMg4G4",
        "colab": {
          "base_uri": "https://localhost:8080/"
        },
        "outputId": "cbbb68b8-15e9-48ad-d7e1-4ad7d9346e4f"
      },
      "execution_count": null,
      "outputs": [
        {
          "output_type": "stream",
          "name": "stdout",
          "text": [
            "Os estados com maior média de longevidade em 2010 são :\n",
            "+---+--------------------+\n",
            "| uf|med_idhm_longevidade|\n",
            "+---+--------------------+\n",
            "| DF|                0.87|\n",
            "| SC|                0.85|\n",
            "| SP|                0.84|\n",
            "| RS|                0.84|\n",
            "| ES|                0.83|\n",
            "| GO|                0.83|\n",
            "| MT|                0.82|\n",
            "| RJ|                0.82|\n",
            "| MS|                0.82|\n",
            "| MG|                0.82|\n",
            "+---+--------------------+\n",
            "only showing top 10 rows\n",
            "\n"
          ]
        }
      ]
    },
    {
      "cell_type": "markdown",
      "source": [
        "##Quais são as regiões com maior média de Longevidade?"
      ],
      "metadata": {
        "id": "cQsn4B8ThPjG"
      }
    },
    {
      "cell_type": "code",
      "source": [
        "# Quais são as regiões com maior média de Longevidade em 1991?\n",
        "reg1991=dfregiao.filter(F.col('ano')==1991) #filtro pelo ano\n",
        "print(f'As regiões com maior média de longevidade em 1991 são :')\n",
        "reg1991.groupBy(F.col(\"regiao\")).agg(round(F.avg(\"idhm_longevidade\"),2).alias(\"med_idhm_longevidade\"))\\\n",
        "          .orderBy(F.col('med_idhm_longevidade').desc()).show(5) #groupby por REGIAO F.avg para pegar a média de longevidade\n"
      ],
      "metadata": {
        "id": "IIY1dKiFhAs2",
        "colab": {
          "base_uri": "https://localhost:8080/"
        },
        "outputId": "2a052f77-8707-4c03-af76-2a802640322b"
      },
      "execution_count": null,
      "outputs": [
        {
          "output_type": "stream",
          "name": "stdout",
          "text": [
            "As regiões com maior média de longevidade em 1991 são :\n",
            "+------------+--------------------+\n",
            "|      regiao|med_idhm_longevidade|\n",
            "+------------+--------------------+\n",
            "|         SUL|                0.71|\n",
            "|     SUDESTE|                0.69|\n",
            "|CENTRO-OESTE|                0.67|\n",
            "|       NORTE|                0.61|\n",
            "|    NORDESTE|                0.56|\n",
            "+------------+--------------------+\n",
            "\n"
          ]
        }
      ]
    },
    {
      "cell_type": "code",
      "source": [
        "# Quais são as regiões com maior média de Longevidade em 2000? - Guilherme\n",
        "reg2000=dfregiao.filter(F.col('ano')==2000) #filtro pelo ano\n",
        "print(f'As regiões com maior média de longevidade em 2000 são :')\n",
        "reg2000.groupBy(F.col(\"regiao\")).agg(round(F.avg(\"idhm_longevidade\"),2).alias(\"med_idhm_longevidade\"))\\\n",
        "          .orderBy(F.col('med_idhm_longevidade').desc()).show(5) #groupby por REGIAO F.avg para pegar a média de longevidade"
      ],
      "metadata": {
        "id": "BoBJP56qhaRm",
        "colab": {
          "base_uri": "https://localhost:8080/"
        },
        "outputId": "b7381f67-df3d-478c-930a-2939f7954cd4"
      },
      "execution_count": null,
      "outputs": [
        {
          "output_type": "stream",
          "name": "stdout",
          "text": [
            "As regiões com maior média de longevidade em 2000 são :\n",
            "+------------+--------------------+\n",
            "|      regiao|med_idhm_longevidade|\n",
            "+------------+--------------------+\n",
            "|         SUL|                0.78|\n",
            "|     SUDESTE|                0.76|\n",
            "|CENTRO-OESTE|                0.75|\n",
            "|       NORTE|                0.69|\n",
            "|    NORDESTE|                0.65|\n",
            "+------------+--------------------+\n",
            "\n"
          ]
        }
      ]
    },
    {
      "cell_type": "code",
      "source": [
        "# Quais são as regiões com maior média de Longevidade em 2010?\n",
        "reg2010=dfregiao.filter(F.col('ano')==2010) #filtro pelo ano\n",
        "print(f'As regiões com maior média de longevidade em 2010 são :')\n",
        "reg2010.groupBy(F.col(\"regiao\")).agg(round(F.avg(\"idhm_longevidade\"),2).alias(\"med_idhm_longevidade\"))\\\n",
        "          .orderBy(F.col('med_idhm_longevidade').desc()).show() #groupby por REGIAO F.avg para pegar a média de longevidade"
      ],
      "metadata": {
        "id": "-IV5Ddv-hiY-",
        "colab": {
          "base_uri": "https://localhost:8080/"
        },
        "outputId": "e3178fef-da0a-41af-a108-f11107820a2e"
      },
      "execution_count": null,
      "outputs": [
        {
          "output_type": "stream",
          "name": "stdout",
          "text": [
            "As regiões com maior média de longevidade em 2010 são :\n",
            "+------------+--------------------+\n",
            "|      regiao|med_idhm_longevidade|\n",
            "+------------+--------------------+\n",
            "|         SUL|                0.84|\n",
            "|     SUDESTE|                0.83|\n",
            "|CENTRO-OESTE|                0.82|\n",
            "|       NORTE|                0.78|\n",
            "|    NORDESTE|                0.75|\n",
            "+------------+--------------------+\n",
            "\n"
          ]
        }
      ]
    },
    {
      "cell_type": "markdown",
      "source": [
        "##Quais são os municipios com maior média índice de Longevidade?"
      ],
      "metadata": {
        "id": "PZLX6GBYjb6O"
      }
    },
    {
      "cell_type": "code",
      "source": [
        "#Agrupando os municipios por ano, de forma a definir os índices médios de Longevidade de cada estado\n",
        "dfsP1 = ( dfs.groupBy(F.col(\"uf\"),F.col(\"ano\"), F.col(\"municipio\"))\n",
        "      .agg(round(F.avg(\"idhm_longevidade\"),2).alias(\"longe_media\")) #Longevidade média\n",
        ")"
      ],
      "metadata": {
        "id": "cnk1mIZKjrzM"
      },
      "execution_count": null,
      "outputs": []
    },
    {
      "cell_type": "code",
      "source": [
        "#Ordenando os municipios pelo IDHM Longevidade média de forma descendente no ano de 1991\n",
        "dfsP1.orderBy(F.col(\"longe_media\").desc()).filter(F.col(\"ano\")==1991).show(10)"
      ],
      "metadata": {
        "id": "HDMdqcpvjdL_",
        "colab": {
          "base_uri": "https://localhost:8080/"
        },
        "outputId": "a0c7cc9b-06f1-492e-fa89-5747c4cc4f33"
      },
      "execution_count": null,
      "outputs": [
        {
          "output_type": "stream",
          "name": "stdout",
          "text": [
            "+---+----+-------------------+-----------+\n",
            "| uf| ano|          municipio|longe_media|\n",
            "+---+----+-------------------+-----------+\n",
            "| SC|1991|           CUNHATAÍ|       0.81|\n",
            "| SC|1991|          GUABIRUBA|       0.81|\n",
            "| SC|1991|          URUSSANGA|        0.8|\n",
            "| SC|1991|       MASSARANDUBA|        0.8|\n",
            "| SC|1991|SÃO MIGUEL DO OESTE|       0.79|\n",
            "| SP|1991|      FERNANDÓPOLIS|       0.79|\n",
            "| SP|1991|           SALTINHO|       0.79|\n",
            "| SP|1991| ÁGUAS DE SÃO PEDRO|       0.79|\n",
            "| SP|1991| SÃO CAETANO DO SUL|       0.79|\n",
            "| RS|1991|             OSÓRIO|       0.79|\n",
            "+---+----+-------------------+-----------+\n",
            "only showing top 10 rows\n",
            "\n"
          ]
        }
      ]
    },
    {
      "cell_type": "code",
      "source": [
        "#Ordenando os municipios pelo IDHM Longevidade média de forma descendente no ano de 2000\n",
        "dfsP1.orderBy(F.col(\"longe_media\").desc()).filter(F.col(\"ano\")==2000).show(10)"
      ],
      "metadata": {
        "id": "ykFXWsZYkLyD",
        "colab": {
          "base_uri": "https://localhost:8080/"
        },
        "outputId": "ec8a5867-f3bf-4b6c-b3c3-73a9335bfe84"
      },
      "execution_count": null,
      "outputs": [
        {
          "output_type": "stream",
          "name": "stdout",
          "text": [
            "+---+----+------------------+-----------+\n",
            "| uf| ano|         municipio|longe_media|\n",
            "+---+----+------------------+-----------+\n",
            "| SC|2000|          CUNHATAÍ|       0.87|\n",
            "| SP|2000|ÁGUAS DE SÃO PEDRO|       0.87|\n",
            "| RS|2000|CAMPESTRE DA SERRA|       0.87|\n",
            "| SP|2000|SÃO CAETANO DO SUL|       0.87|\n",
            "| SC|2000|         JOINVILLE|       0.87|\n",
            "| SC|2000|            ZORTÉA|       0.86|\n",
            "| SC|2000|             SEARA|       0.86|\n",
            "| RS|2000|          BARRACÃO|       0.86|\n",
            "| SC|2000|    ANTÔNIO CARLOS|       0.86|\n",
            "| RS|2000|           CHARRUA|       0.86|\n",
            "+---+----+------------------+-----------+\n",
            "only showing top 10 rows\n",
            "\n"
          ]
        }
      ]
    },
    {
      "cell_type": "code",
      "source": [
        "#Ordenando os municipios pelo IDHM Longevidade média de forma descendente no ano de 2010\n",
        "dfsP1.orderBy(F.col(\"longe_media\").desc()).filter(F.col(\"ano\")==2010).show(10)"
      ],
      "metadata": {
        "id": "ph3aiSYfkSXg",
        "colab": {
          "base_uri": "https://localhost:8080/"
        },
        "outputId": "fb48f57b-e97d-4b54-9039-2e07d625f115"
      },
      "execution_count": null,
      "outputs": [
        {
          "output_type": "stream",
          "name": "stdout",
          "text": [
            "+---+----+------------------+-----------+\n",
            "| uf| ano|         municipio|longe_media|\n",
            "+---+----+------------------+-----------+\n",
            "| SP|2010|SÃO CAETANO DO SUL|       0.89|\n",
            "| RS|2010|      CARLOS GOMES|       0.89|\n",
            "| SC|2010|          BLUMENAU|       0.89|\n",
            "| MG|2010|            Passos|       0.89|\n",
            "| SC|2010|           BRUSQUE|       0.89|\n",
            "| SC|2010|            MODELO|       0.89|\n",
            "| RS|2010|    LAGOA VERMELHA|       0.89|\n",
            "| RS|2010| PRESIDENTE LUCENA|       0.89|\n",
            "| SP|2010|         ANDRADINA|       0.89|\n",
            "| RS|2010|      ERVAL GRANDE|       0.89|\n",
            "+---+----+------------------+-----------+\n",
            "only showing top 10 rows\n",
            "\n"
          ]
        }
      ]
    },
    {
      "cell_type": "markdown",
      "source": [
        "## Quais as cidades, estados e regiões em que os adultos possuem maior índice de escolaridade fundamental?"
      ],
      "metadata": {
        "id": "HYO6Sil0ksLC"
      }
    },
    {
      "cell_type": "code",
      "source": [
        "#Agrupando os estados com base nos anos, de forma a identificar quais são os índices\n",
        "# máximos, mínimos e médios e adultos com escolaridade fundamental\n",
        "dfsP2 = ( dfs.groupBy(F.col(\"ano\"), F.col(\"uf\"))\n",
        "      .agg(round(F.max(\"escol_fund_adulta\"),2).alias(\"es_fun_adul_maxima\"), #escolaridade fundamental máxima\n",
        "           round(F.min(\"escol_fund_adulta\"),2).alias(\"es_fun_adul_minima\"), #escolaridade fundamental mínima\n",
        "           round(F.avg(\"escol_fund_adulta\"),2).alias(\"es_fun_adul_media\")) #escolaridade fundamental média\n",
        "         \n",
        ")"
      ],
      "metadata": {
        "id": "kSJVjtaikul7"
      },
      "execution_count": null,
      "outputs": []
    },
    {
      "cell_type": "code",
      "source": [
        "#Filtrando as colunas pelo ano de 1991 e exibindo os índices escolaridade fundamental média de adultos descendente por estado\n",
        "dfsP2.orderBy(F.col(\"es_fun_adul_media\").desc()).filter(F.col(\"ano\")==1991).show(27)"
      ],
      "metadata": {
        "id": "4djgAjHdlGeb",
        "colab": {
          "base_uri": "https://localhost:8080/"
        },
        "outputId": "0336dc67-c07b-4710-da3e-87e5cc1d4c61"
      },
      "execution_count": null,
      "outputs": [
        {
          "output_type": "stream",
          "name": "stdout",
          "text": [
            "+----+---+------------------+------------------+-----------------+\n",
            "| ano| uf|es_fun_adul_maxima|es_fun_adul_minima|es_fun_adul_media|\n",
            "+----+---+------------------+------------------+-----------------+\n",
            "|1991| DF|              0.52|              0.52|             0.52|\n",
            "|1991| RJ|              0.64|              0.09|             0.27|\n",
            "|1991| SP|              0.54|              0.04|             0.23|\n",
            "|1991| SC|              0.63|              0.05|              0.2|\n",
            "|1991| ES|              0.57|              0.07|             0.19|\n",
            "|1991| RS|              0.57|              0.03|             0.18|\n",
            "|1991| GO|              0.49|              0.04|             0.18|\n",
            "|1991| PR|              0.53|              0.02|             0.18|\n",
            "|1991| MS|              0.41|              0.07|             0.17|\n",
            "|1991| MT|              0.45|              0.03|             0.16|\n",
            "|1991| AP|              0.41|              0.03|             0.15|\n",
            "|1991| MG|              0.48|              0.01|             0.15|\n",
            "|1991| RR|              0.41|              0.06|             0.13|\n",
            "|1991| RN|              0.44|              0.01|             0.12|\n",
            "|1991| SE|              0.46|              0.04|             0.12|\n",
            "|1991| PE|              0.46|              0.01|             0.12|\n",
            "|1991| TO|              0.41|               0.0|             0.11|\n",
            "|1991| RO|              0.38|              0.02|             0.11|\n",
            "|1991| PA|              0.47|              0.02|              0.1|\n",
            "|1991| AL|              0.41|              0.03|              0.1|\n",
            "|1991| AM|              0.44|              0.01|              0.1|\n",
            "|1991| AC|              0.34|              0.01|              0.1|\n",
            "|1991| MA|              0.52|              0.01|             0.09|\n",
            "|1991| BA|              0.48|               0.0|             0.09|\n",
            "|1991| PB|              0.47|              0.01|             0.09|\n",
            "|1991| CE|              0.41|              0.01|             0.09|\n",
            "|1991| PI|               0.4|               0.0|             0.07|\n",
            "+----+---+------------------+------------------+-----------------+\n",
            "\n"
          ]
        }
      ]
    },
    {
      "cell_type": "code",
      "source": [
        "#Filtrando as colunas pelo ano de 2000 e exibindo os índices escolaridade fundamental média de adultos de forma descendente por estado\n",
        "dfsP2.orderBy(F.col(\"es_fun_adul_media\").desc()).filter(F.col(\"ano\")==2000).show(27)"
      ],
      "metadata": {
        "id": "BxXB4E0Jl9jt",
        "colab": {
          "base_uri": "https://localhost:8080/"
        },
        "outputId": "9d16bb7e-03dd-4310-d651-3b4971f4cdcc"
      },
      "execution_count": null,
      "outputs": [
        {
          "output_type": "stream",
          "name": "stdout",
          "text": [
            "+----+---+------------------+------------------+-----------------+\n",
            "| ano| uf|es_fun_adul_maxima|es_fun_adul_minima|es_fun_adul_media|\n",
            "+----+---+------------------+------------------+-----------------+\n",
            "|2000| DF|               0.6|               0.6|              0.6|\n",
            "|2000| RJ|               0.7|              0.15|             0.37|\n",
            "|2000| SP|              0.65|              0.15|             0.35|\n",
            "|2000| PR|              0.64|              0.08|              0.3|\n",
            "|2000| ES|              0.67|              0.15|             0.29|\n",
            "|2000| AP|              0.53|              0.16|             0.28|\n",
            "|2000| SC|              0.68|              0.11|             0.28|\n",
            "|2000| RS|              0.65|              0.07|             0.27|\n",
            "|2000| GO|              0.57|               0.1|             0.26|\n",
            "|2000| MS|              0.51|              0.11|             0.26|\n",
            "|2000| MT|              0.57|               0.1|             0.25|\n",
            "|2000| RR|              0.52|              0.11|             0.25|\n",
            "|2000| MG|              0.58|              0.06|             0.24|\n",
            "|2000| TO|              0.55|              0.04|             0.22|\n",
            "|2000| RN|              0.52|              0.09|              0.2|\n",
            "|2000| SE|              0.54|              0.07|             0.19|\n",
            "|2000| RO|              0.49|              0.07|             0.19|\n",
            "|2000| AC|              0.43|              0.04|             0.18|\n",
            "|2000| PE|              0.56|              0.04|             0.18|\n",
            "|2000| PA|              0.56|              0.05|             0.18|\n",
            "|2000| AM|              0.52|              0.05|             0.18|\n",
            "|2000| CE|               0.5|              0.06|             0.17|\n",
            "|2000| BA|              0.56|              0.03|             0.16|\n",
            "|2000| PB|              0.53|              0.04|             0.15|\n",
            "|2000| MA|               0.6|              0.03|             0.15|\n",
            "|2000| AL|              0.45|              0.05|             0.14|\n",
            "|2000| PI|              0.49|              0.01|             0.12|\n",
            "+----+---+------------------+------------------+-----------------+\n",
            "\n"
          ]
        }
      ]
    },
    {
      "cell_type": "code",
      "source": [
        "#Filtrando as colunas pelo ano de 2010 e exibindo os índices escolaridade fundamental média de adultos de forma descendente por estado\n",
        "dfsP2.orderBy(F.col(\"es_fun_adul_media\").desc()).filter(F.col(\"ano\")==2010).show(27)"
      ],
      "metadata": {
        "id": "CvIp2EZYmHIs",
        "colab": {
          "base_uri": "https://localhost:8080/"
        },
        "outputId": "70b5179c-4410-4104-d150-0d8b01fbed84"
      },
      "execution_count": null,
      "outputs": [
        {
          "output_type": "stream",
          "name": "stdout",
          "text": [
            "+----+---+------------------+------------------+-----------------+\n",
            "| ano| uf|es_fun_adul_maxima|es_fun_adul_minima|es_fun_adul_media|\n",
            "+----+---+------------------+------------------+-----------------+\n",
            "|2010| DF|              0.72|              0.72|             0.72|\n",
            "|2010| RJ|              0.79|              0.26|             0.53|\n",
            "|2010| SP|              0.76|              0.26|             0.51|\n",
            "|2010| AP|              0.68|              0.36|             0.48|\n",
            "|2010| SC|               0.8|              0.26|             0.45|\n",
            "|2010| MT|               0.7|              0.24|             0.44|\n",
            "|2010| PR|              0.74|              0.21|             0.43|\n",
            "|2010| ES|              0.79|              0.29|             0.43|\n",
            "|2010| GO|              0.71|              0.29|             0.43|\n",
            "|2010| MS|              0.67|              0.22|             0.42|\n",
            "|2010| RS|              0.75|              0.21|             0.42|\n",
            "|2010| TO|              0.75|              0.23|             0.41|\n",
            "|2010| RR|              0.69|              0.22|              0.4|\n",
            "|2010| MG|               0.7|              0.16|             0.38|\n",
            "|2010| CE|              0.66|              0.22|             0.37|\n",
            "|2010| RO|              0.62|              0.27|             0.37|\n",
            "|2010| AM|              0.68|              0.15|             0.36|\n",
            "|2010| AC|              0.61|              0.25|             0.36|\n",
            "|2010| SE|               0.7|              0.22|             0.35|\n",
            "|2010| RN|              0.68|              0.24|             0.35|\n",
            "|2010| PA|              0.69|              0.12|             0.35|\n",
            "|2010| PE|              0.77|              0.19|             0.33|\n",
            "|2010| MA|              0.74|              0.15|             0.33|\n",
            "|2010| BA|               0.7|              0.15|             0.33|\n",
            "|2010| PB|              0.66|              0.18|              0.3|\n",
            "|2010| AL|              0.59|              0.16|             0.29|\n",
            "|2010| PI|              0.64|              0.16|             0.29|\n",
            "+----+---+------------------+------------------+-----------------+\n",
            "\n"
          ]
        }
      ]
    },
    {
      "cell_type": "code",
      "source": [
        "#Agrupando os municpios com base no ano de 1991 de forma a identificar quais são os índices\n",
        "#médios de adultos com escolaridade fundamental \n",
        "dfsP3 = (dfs.groupBy(F.col(\"ano\"),F.col(\"uf\"),F.col(\"municipio\"))\n",
        "      .agg(round(F.avg(\"escol_fund_adulta\"),2).alias(\"es_fun_adul_media\")) #escolaridade fundamental média\n",
        ")"
      ],
      "metadata": {
        "id": "MyAkPWHdmVZ_"
      },
      "execution_count": null,
      "outputs": []
    },
    {
      "cell_type": "code",
      "source": [
        "#Municípios com maiores índices de escolaridade fundamental de adultos top 10 no ano de 1991.\n",
        "dfsP3.orderBy(F.col(\"es_fun_adul_media\").desc()).filter(F.col(\"ano\")==1991).show(10)"
      ],
      "metadata": {
        "id": "ijrhLvaimvl2",
        "colab": {
          "base_uri": "https://localhost:8080/"
        },
        "outputId": "c2a86af6-c1ef-4243-927d-8bdd6968e2cb"
      },
      "execution_count": null,
      "outputs": [
        {
          "output_type": "stream",
          "name": "stdout",
          "text": [
            "+----+---+--------------+-----------------+\n",
            "| ano| uf|     municipio|es_fun_adul_media|\n",
            "+----+---+--------------+-----------------+\n",
            "|1991| RJ|       NITERÓI|             0.64|\n",
            "|1991| SC| FLORIANÓPOLIS|             0.63|\n",
            "|1991| ES|       VITÓRIA|             0.57|\n",
            "|1991| RS|  PORTO ALEGRE|             0.57|\n",
            "|1991| RJ|RIO DE JANEIRO|             0.56|\n",
            "|1991| SP|        SANTOS|             0.54|\n",
            "|1991| PR|      CURITIBA|             0.53|\n",
            "|1991| SC|      SÃO JOSÉ|             0.52|\n",
            "|1991| MA|      SÃO LUÍS|             0.52|\n",
            "|1991| DF|      BRASÍLIA|             0.52|\n",
            "+----+---+--------------+-----------------+\n",
            "only showing top 10 rows\n",
            "\n"
          ]
        }
      ]
    },
    {
      "cell_type": "code",
      "source": [
        "#Municípios com maiores índices de escolaridade fundamental de adultos top 10 do ano 2000\n",
        "dfsP3.orderBy(F.col(\"es_fun_adul_media\").desc()).filter(F.col(\"ano\")==2000).show(10)"
      ],
      "metadata": {
        "id": "KX5MEknqm9vg",
        "colab": {
          "base_uri": "https://localhost:8080/"
        },
        "outputId": "4b94e551-6564-416f-b72f-3c112439bad6"
      },
      "execution_count": null,
      "outputs": [
        {
          "output_type": "stream",
          "name": "stdout",
          "text": [
            "+----+---+------------------+-----------------+\n",
            "| ano| uf|         municipio|es_fun_adul_media|\n",
            "+----+---+------------------+-----------------+\n",
            "|2000| RJ|           NITERÓI|              0.7|\n",
            "|2000| SC|     FLORIANÓPOLIS|             0.68|\n",
            "|2000| ES|           VITÓRIA|             0.67|\n",
            "|2000| SP|            SANTOS|             0.65|\n",
            "|2000| SP|SÃO CAETANO DO SUL|             0.65|\n",
            "|2000| RS|      PORTO ALEGRE|             0.65|\n",
            "|2000| PR|          CURITIBA|             0.64|\n",
            "|2000| SC|BALNEÁRIO CAMBORIÚ|             0.63|\n",
            "|2000| RJ|    RIO DE JANEIRO|             0.62|\n",
            "|2000| ES|        VILA VELHA|              0.6|\n",
            "+----+---+------------------+-----------------+\n",
            "only showing top 10 rows\n",
            "\n"
          ]
        }
      ]
    },
    {
      "cell_type": "code",
      "source": [
        "#Municípios com maiores índices de escolaridade fundamental de adultos top 10 do ano 2010\n",
        "dfsP3.orderBy(F.col(\"es_fun_adul_media\").desc()).filter(F.col(\"ano\")==2010).show(10)"
      ],
      "metadata": {
        "id": "qe3q-e9tnKM2",
        "colab": {
          "base_uri": "https://localhost:8080/"
        },
        "outputId": "b8ccae24-eef1-4132-b75c-c4dc90f8bab8"
      },
      "execution_count": null,
      "outputs": [
        {
          "output_type": "stream",
          "name": "stdout",
          "text": [
            "+----+---+-------------------+-----------------+\n",
            "| ano| uf|          municipio|es_fun_adul_media|\n",
            "+----+---+-------------------+-----------------+\n",
            "|2010| SC|      FLORIANÓPOLIS|              0.8|\n",
            "|2010| ES|            VITÓRIA|             0.79|\n",
            "|2010| RJ|            NITERÓI|             0.79|\n",
            "|2010| PE|FERNANDO DE NORONHA|             0.77|\n",
            "|2010| SP|             SANTOS|             0.76|\n",
            "|2010| SC| BALNEÁRIO CAMBORIÚ|             0.76|\n",
            "|2010| SP| SÃO CAETANO DO SUL|             0.76|\n",
            "|2010| TO|             PALMAS|             0.75|\n",
            "|2010| SP| ÁGUAS DE SÃO PEDRO|             0.75|\n",
            "|2010| RS|       PORTO ALEGRE|             0.75|\n",
            "+----+---+-------------------+-----------------+\n",
            "only showing top 10 rows\n",
            "\n"
          ]
        }
      ]
    },
    {
      "cell_type": "code",
      "source": [
        "#Agrupando por Regiões com base nos anos dos censos para identificar quais são os índices\n",
        "# máximos, mínimos e médios e adultos com escolaridade fundamental\n",
        "dfsP4 = ( dfregiao.groupBy(F.col(\"ano\"), F.col(\"regiao\"))\n",
        "      .agg(round(F.max(\"escol_fund_adulta\"),2).alias(\"es_fun_adul_maxima\"), #escolaridade fundamental máxima\n",
        "           round(F.min(\"escol_fund_adulta\"),2).alias(\"es_fun_adul_minima\"), #escolaridade fundamental mínima\n",
        "           round(F.avg(\"escol_fund_adulta\"),2).alias(\"es_fun_adul_media\")) #escolaridade fundamental média\n",
        ")"
      ],
      "metadata": {
        "id": "wf-i95LvnWsa"
      },
      "execution_count": null,
      "outputs": []
    },
    {
      "cell_type": "code",
      "source": [
        "#Máximas, mínimos e médias do indice de adultos com escolaridade fundamental por Região  em 1991\n",
        "dfsP4.orderBy(F.col(\"es_fun_adul_media\").desc()).filter(F.col(\"ano\")==1991).show(5)"
      ],
      "metadata": {
        "id": "7KIKGow8ntmg",
        "colab": {
          "base_uri": "https://localhost:8080/"
        },
        "outputId": "57b11615-9587-4d6f-a92e-8b39628c2215"
      },
      "execution_count": null,
      "outputs": [
        {
          "output_type": "stream",
          "name": "stdout",
          "text": [
            "+----+------------+------------------+------------------+-----------------+\n",
            "| ano|      regiao|es_fun_adul_maxima|es_fun_adul_minima|es_fun_adul_media|\n",
            "+----+------------+------------------+------------------+-----------------+\n",
            "|1991|     SUDESTE|              0.64|              0.01|             0.19|\n",
            "|1991|         SUL|              0.63|              0.02|             0.18|\n",
            "|1991|CENTRO-OESTE|              0.52|              0.03|             0.17|\n",
            "|1991|       NORTE|              0.47|               0.0|             0.11|\n",
            "|1991|    NORDESTE|              0.52|               0.0|              0.1|\n",
            "+----+------------+------------------+------------------+-----------------+\n",
            "\n"
          ]
        }
      ]
    },
    {
      "cell_type": "code",
      "source": [
        "#Máximas, mínimas e médias do indice de adultos com escolaridade fundamental por Região  em 2000\n",
        "dfsP4.orderBy(F.col(\"es_fun_adul_media\").desc()).filter(F.col(\"ano\")==2000).show(5)"
      ],
      "metadata": {
        "id": "DpjRe8e-oM5z",
        "colab": {
          "base_uri": "https://localhost:8080/"
        },
        "outputId": "afc03e13-378a-417d-f344-6521dd83a6cf"
      },
      "execution_count": null,
      "outputs": [
        {
          "output_type": "stream",
          "name": "stdout",
          "text": [
            "+----+------------+------------------+------------------+-----------------+\n",
            "| ano|      regiao|es_fun_adul_maxima|es_fun_adul_minima|es_fun_adul_media|\n",
            "+----+------------+------------------+------------------+-----------------+\n",
            "|2000|         SUL|              0.68|              0.07|             0.29|\n",
            "|2000|     SUDESTE|               0.7|              0.06|             0.29|\n",
            "|2000|CENTRO-OESTE|               0.6|               0.1|             0.26|\n",
            "|2000|       NORTE|              0.56|              0.04|              0.2|\n",
            "|2000|    NORDESTE|               0.6|              0.01|             0.16|\n",
            "+----+------------+------------------+------------------+-----------------+\n",
            "\n"
          ]
        }
      ]
    },
    {
      "cell_type": "code",
      "source": [
        "#Máximas, mínimas e médias do indice de adultos com escolaridade fundamental por Região  em 2010\n",
        "dfsP4.orderBy(F.col(\"es_fun_adul_media\").desc()).filter(F.col(\"ano\")==2010).show(5)"
      ],
      "metadata": {
        "id": "YrCLXYagoVSv",
        "colab": {
          "base_uri": "https://localhost:8080/"
        },
        "outputId": "f4dd43d4-662e-4381-86c0-b442d40f388d"
      },
      "execution_count": null,
      "outputs": [
        {
          "output_type": "stream",
          "name": "stdout",
          "text": [
            "+----+------------+------------------+------------------+-----------------+\n",
            "| ano|      regiao|es_fun_adul_maxima|es_fun_adul_minima|es_fun_adul_media|\n",
            "+----+------------+------------------+------------------+-----------------+\n",
            "|2010|     SUDESTE|              0.79|              0.16|             0.44|\n",
            "|2010|CENTRO-OESTE|              0.72|              0.22|             0.43|\n",
            "|2010|         SUL|               0.8|              0.21|             0.43|\n",
            "|2010|       NORTE|              0.75|              0.12|             0.38|\n",
            "|2010|    NORDESTE|              0.77|              0.15|             0.33|\n",
            "+----+------------+------------------+------------------+-----------------+\n",
            "\n"
          ]
        }
      ]
    },
    {
      "cell_type": "code",
      "source": [
        "#VERIFICANDO OS TIPOS DE COLUNAS DO DFESTADO\n",
        "dfs2estado.dtypes"
      ],
      "metadata": {
        "id": "_ymPGU__M8wV",
        "colab": {
          "base_uri": "https://localhost:8080/"
        },
        "outputId": "af067054-69a3-4710-d4bc-ce7e5d4a338d"
      },
      "execution_count": null,
      "outputs": [
        {
          "output_type": "execute_result",
          "data": {
            "text/plain": [
              "[('uf', 'string'),\n",
              " ('pos_idhm', 'int'),\n",
              " ('IDHM', 'double'),\n",
              " ('pos_idhm_renda', 'int'),\n",
              " ('idhm_renda', 'double'),\n",
              " ('pos_idhm_educacao', 'int'),\n",
              " ('idhm_educacao', 'double'),\n",
              " ('pos_idhm_long', 'int'),\n",
              " ('idhm_longevidade', 'double'),\n",
              " ('pos_negros', 'int'),\n",
              " ('idhm_negros', 'double'),\n",
              " ('pos_brancos', 'int'),\n",
              " ('idhm_brancos', 'double'),\n",
              " ('ano', 'int')]"
            ]
          },
          "metadata": {},
          "execution_count": 90
        }
      ]
    },
    {
      "cell_type": "markdown",
      "source": [
        "##Visualização gráfica do idhm dos negros entre 2000-2010"
      ],
      "metadata": {
        "id": "S3hD1Zk5oI0c"
      }
    },
    {
      "cell_type": "code",
      "source": [
        "#CONSTRUÇÃO DE PLOTAGENS MATPLOTLIB E PANDAS\n",
        "spkest = dfs2estado"
      ],
      "metadata": {
        "id": "tZ23NycYYsyF"
      },
      "execution_count": null,
      "outputs": []
    },
    {
      "cell_type": "code",
      "source": [
        "spkest2000 = spkest.filter(F.col(\"ano\") == 2000)\n",
        "pd2000 = spkest2000.toPandas()"
      ],
      "metadata": {
        "id": "GeVUdFqaY6nC"
      },
      "execution_count": null,
      "outputs": []
    },
    {
      "cell_type": "code",
      "source": [
        "spkest2010 = spkest.filter(F.col(\"ano\")==2010)\n",
        "pd2010 = spkest2010.toPandas()"
      ],
      "metadata": {
        "id": "HcPh8cuBZXCA"
      },
      "execution_count": null,
      "outputs": []
    },
    {
      "cell_type": "code",
      "source": [
        "#Agrupamento do idhm dos negros por Estado no ano de 2000\n",
        "negros2000 = pd2000.groupby(\"uf\").mean(\"idhm_negros\")"
      ],
      "metadata": {
        "id": "ZFZu2FrqdPgx"
      },
      "execution_count": null,
      "outputs": []
    },
    {
      "cell_type": "code",
      "source": [
        "#Plotagem do gráfico de barras que representa o IDHM dos negros por estado no ano de 2000\n",
        "negros2000[\"idhm_negros\"].sort_values(ascending=False).plot.bar(figsize=(22,10),xlabel='Estado',ylabel='IDHM Negros',title=\"IDHM Negros x Estado (2000)\")\n"
      ],
      "metadata": {
        "id": "Jkw9cZJkd9x-",
        "colab": {
          "base_uri": "https://localhost:8080/"
        },
        "outputId": "d09fe8ac-8eb2-4a7a-d90e-e6c09680fdf8"
      },
      "execution_count": null,
      "outputs": [
        {
          "output_type": "execute_result",
          "data": {
            "text/plain": [
              "<matplotlib.axes._subplots.AxesSubplot at 0x7fbfc62cfb10>"
            ]
          },
          "metadata": {},
          "execution_count": 95
        },
        {
          "output_type": "display_data",
          "data": {
            "text/plain": [
              "<Figure size 1584x720 with 1 Axes>"
            ],
            "image/png": "[encoded data removed]"
          },
          "metadata": {
            "needs_background": "light"
          }
        }
      ]
    },
    {
      "cell_type": "code",
      "source": [
        "#Agrupamento do idhm dos negros por Estado no ano de 2010\n",
        "negros2010 = pd2010.groupby(\"uf\").mean(\"idhm_negros\")"
      ],
      "metadata": {
        "id": "TPJdmBj3i5sz"
      },
      "execution_count": null,
      "outputs": []
    },
    {
      "cell_type": "code",
      "source": [
        "#Plotagem do gráfico de barras que representa o IDHM dos negros por estado no ano de 2010\n",
        "negros2010[\"idhm_negros\"].sort_values(ascending=False).plot.bar(figsize=(22,10),xlabel='Estado',ylabel='IDHM Negros',title=\"IDHM Negros x Estado (2010)\",color='g')"
      ],
      "metadata": {
        "id": "QhELe0KgjKHs",
        "colab": {
          "base_uri": "https://localhost:8080/"
        },
        "outputId": "46882835-ade3-410b-d4fe-39f033aff38d"
      },
      "execution_count": null,
      "outputs": [
        {
          "output_type": "execute_result",
          "data": {
            "text/plain": [
              "<matplotlib.axes._subplots.AxesSubplot at 0x7fbfc6158150>"
            ]
          },
          "metadata": {},
          "execution_count": 97
        },
        {
          "output_type": "display_data",
          "data": {
            "text/plain": [
              "<Figure size 1584x720 with 1 Axes>"
            ],
            "image/png": "[encoded data removed]"
          },
          "metadata": {
            "needs_background": "light"
          }
        }
      ]
    },
    {
      "cell_type": "markdown",
      "source": [
        ""
      ],
      "metadata": {
        "id": "HJMdrwlVG7hM"
      }
    },
    {
      "cell_type": "markdown",
      "source": [
        "##Visualização gráfica do idhm dos brancos entre 2000-2010"
      ],
      "metadata": {
        "id": "lDAFORewoYBQ"
      }
    },
    {
      "cell_type": "code",
      "source": [
        "#Agrupamento do idhm dos brancos por Estado no ano de 2000\n",
        "brancos2000 = pd2000.groupby(\"uf\").mean(\"idhm_brancos\")"
      ],
      "metadata": {
        "id": "vP8K8M-Boff2"
      },
      "execution_count": null,
      "outputs": []
    },
    {
      "cell_type": "code",
      "source": [
        "#Plotagem do gráfico de barras que representa o IDHM dos brancos por estado no ano de 2000\n",
        "brancos2000[\"idhm_brancos\"].sort_values(ascending=False).plot.bar(figsize=(22,10),xlabel='Estado',ylabel='IDHM Brancos',title=\"IDHM Brancos x Estado (2000)\")"
      ],
      "metadata": {
        "id": "Euatrzxso6Re",
        "colab": {
          "base_uri": "https://localhost:8080/"
        },
        "outputId": "91abaa4d-6b5e-404c-f97c-bfa118054cac"
      },
      "execution_count": null,
      "outputs": [
        {
          "output_type": "execute_result",
          "data": {
            "text/plain": [
              "<matplotlib.axes._subplots.AxesSubplot at 0x7fbfc5c0ed10>"
            ]
          },
          "metadata": {},
          "execution_count": 99
        },
        {
          "output_type": "display_data",
          "data": {
            "text/plain": [
              "<Figure size 1584x720 with 1 Axes>"
            ],
            "image/png": "[encoded data removed]"
          },
          "metadata": {
            "needs_background": "light"
          }
        }
      ]
    },
    {
      "cell_type": "code",
      "source": [
        "#Agrupamento do idhm dos brancos por Estado no ano de 2010\n",
        "brancos2010 = pd2010.groupby(\"uf\").mean(\"idhm_brancos\")"
      ],
      "metadata": {
        "id": "0o8c96ubpTFX"
      },
      "execution_count": null,
      "outputs": []
    },
    {
      "cell_type": "code",
      "source": [
        "#Plotagem do gráfico de barras que representa o IDHM dos brancos por estado no ano de 2010\n",
        "brancos2010[\"idhm_brancos\"].sort_values(ascending=False).plot.bar(figsize=(22,10),\\\n",
        "xlabel='Estado',ylabel='IDHM Brancos',title=\"IDHM Brancos x Estado (2010)\",color='r')"
      ],
      "metadata": {
        "id": "l9PeftNmpgDo",
        "colab": {
          "base_uri": "https://localhost:8080/"
        },
        "outputId": "fffc9787-34dc-42a1-e72f-c839b9d68516"
      },
      "execution_count": null,
      "outputs": [
        {
          "output_type": "execute_result",
          "data": {
            "text/plain": [
              "<matplotlib.axes._subplots.AxesSubplot at 0x7fbfc5af5690>"
            ]
          },
          "metadata": {},
          "execution_count": 101
        },
        {
          "output_type": "display_data",
          "data": {
            "text/plain": [
              "<Figure size 1584x720 with 1 Axes>"
            ],
            "image/png": "[encoded data removed]"
          },
          "metadata": {
            "needs_background": "light"
          }
        }
      ]
    },
    {
      "cell_type": "code",
      "source": [
        ""
      ],
      "metadata": {
        "id": "gwhXfhKWrgTc"
      },
      "execution_count": null,
      "outputs": []
    },
    {
      "cell_type": "markdown",
      "source": [
        "# SPARKSQL"
      ],
      "metadata": {
        "id": "2oJ-5HJjYJV-"
      }
    },
    {
      "cell_type": "code",
      "source": [
        "dfs=dfregiao"
      ],
      "metadata": {
        "id": "xiKkoYQ5ZNgD"
      },
      "execution_count": null,
      "outputs": []
    },
    {
      "cell_type": "code",
      "source": [
        "#criando a tabela temporária para dfregiao\n",
        "dfregiao.createOrReplaceTempView('dfconsulta')"
      ],
      "metadata": {
        "id": "FDLtE55hYPai"
      },
      "execution_count": null,
      "outputs": []
    },
    {
      "cell_type": "code",
      "source": [
        "#Quais são as 5 cidades de São Paulo com maior IDHM?\n",
        "\n",
        "spark.sql(\"SELECT * FROM  dfconsulta WHERE idhm >= 0.8 AND ano == 2010 AND uf = 'SP' ORDER BY idhm\").show(5)\n",
        "\n",
        "# As 5 cidades com maior IDHM do estado de São Paulo em 2010, foram: Ribeirão Preto, Botucatu, Taubaté, Pirassununga, Bauru."
      ],
      "metadata": {
        "id": "_yrejctoa5Jn",
        "colab": {
          "base_uri": "https://localhost:8080/"
        },
        "outputId": "d2058f5b-d636-4fbf-af71-c4e9f86c5682"
      },
      "execution_count": null,
      "outputs": [
        {
          "output_type": "stream",
          "name": "stdout",
          "text": [
            "+----+---+--------------+-----------+---------------+------------------+------------------+------------------+----------------+----------+-------------+-----------------+-----+-----------------+---------+---------+-------+-------+\n",
            "| ano| uf|     municipio|renda_media|tx_ativ_10_anos|tx_ativ_10-14_anos|tx_desocup_10_anos|tx_desocup_adultos|idhm_longevidade|idhm_renda|idhm_educacao|escol_fund_adulta| idhm|perc_ocup_18_anos|pop_rural|pop_total|pop_urb| regiao|\n",
            "+----+---+--------------+-----------+---------------+------------------+------------------+------------------+----------------+----------+-------------+-----------------+-----+-----------------+---------+---------+-------+-------+\n",
            "|2010| SP|RIBEIRÃO PRETO|    1314.04|          64.84|              6.39|              5.47|              4.72|           0.844|      0.82|        0.739|            0.683|  0.8|             59.2|     1716|   604682| 602966|SUDESTE|\n",
            "|2010| SP|      BOTUCATU|     1089.1|          58.95|              5.01|              7.37|              6.57|           0.869|      0.79|        0.746|            0.653|  0.8|            58.52|     4650|   127328| 122678|SUDESTE|\n",
            "|2010| SP|       TAUBATÉ|    1011.95|          59.32|              4.31|              8.13|              7.31|           0.883|     0.778|        0.746|            0.682|  0.8|            57.84|     6013|   278686| 272673|SUDESTE|\n",
            "|2010| SP|  PIRASSUNUNGA|    1086.22|          60.31|               5.5|              5.85|               5.0|           0.884|     0.789|        0.736|            0.651|0.801|            57.33|     5865|    70081|  64216|SUDESTE|\n",
            "|2010| SP|         BAURU|    1163.86|          61.81|              5.77|              6.64|              5.64|           0.854|       0.8|        0.752|            0.672|0.801|            58.91|     5753|   343937| 338184|SUDESTE|\n",
            "+----+---+--------------+-----------+---------------+------------------+------------------+------------------+----------------+----------+-------------+-----------------+-----+-----------------+---------+---------+-------+-------+\n",
            "only showing top 5 rows\n",
            "\n"
          ]
        }
      ]
    },
    {
      "cell_type": "code",
      "source": [
        "#criando a tabela temporária para dffspark\n",
        "dffspark.createOrReplaceTempView('dfconsulta2')\n",
        "spark.sql(\"SELECT * FROM dfconsulta2\").show(truncate=False)"
      ],
      "metadata": {
        "id": "m8S6DMyYecu0",
        "colab": {
          "base_uri": "https://localhost:8080/"
        },
        "outputId": "da035ca0-b13d-4e67-c7cc-5e9c91dc3efe"
      },
      "execution_count": null,
      "outputs": [
        {
          "output_type": "stream",
          "name": "stdout",
          "text": [
            "+--------------------+---------------------------+----------------------+------------+-----------------+--------------------------+-----------------------+-----------------------------+------------------------+----------------------------------+--------------+------------------------------------------------+-----------------------+-----------+--------------------------+------------------------------+--------------------------------------------------------------------------------+----------------------------------------------------------------+---------------------------+--------------------------+-------------------+------------------------------+---------------------------+--------------------+---------------------------------+----------------------------+-------------------------------------------------+------------------------+--------------+--------------------+---------------------+---------------------+------------------+------------------+-------------------+---------------------+-----------------------+----------------------------+----------------------------+--------------------------+------------------------+--------------------------+------------------+--------------------+-------------------------+----------------------------------+--------------------+----------------------+--------------------+------------------------+---------------------------------+----------------------------+---------------------------+-------------------------+-----------------------------------------+-----------------------+----------------------------------+--------------------------+---------------------------+---------------------------------------+---------+------------+----------------------+----+\n",
            "|exportacao_alta_tec%|indice_ter_per_liq_2000=100|comercio_mercadori%pib|pop_total   |cresc_pop_anual% |tx_fertili_nasc_por_mulher|expec_vida_nasc_em_anos|tx_mort_infantil_1000nascidos|uso_metodo_anticon_15a19|tx_fertili_adolesc_por1000_de15a19|migracao_total|Desemprego, total (% da força de trabalho total)|pobreza_linha_nacional%|indice_gini|pobreza_1.90dolar_por_dia%|particip_renda_20%_mais_pobres|Prevalência da desnutrição, peso para a idade (% de crianças menores de 5 anos):|Partos assistidos por pessoal de saúde qualificado (% do total):|imuniza_sarampo_12a23_meses|tx_mortalidade_menor_5anos|hiv_total_15a49anos|despesa_publica_educacao_%_PIB|matricula_ens_medio_%_bruto|tx_matricula_liquida|matricula_ens_fundamental_%_bruto|tx_conclusao_ens_fundamental|proporcao_meninas_meninos_ens_fundamental_medio_%|tx_alfabetizacao_adultos|rnb_per_capita|rnb_per_capita_atlas|rnb_PPP              |rnb_metodo_atlas     |pib_per_capita_PPP|pib_per_capita    |aumento_pib_%      |pib_dolar_atual      |inflacao_deflator_pib_%|industria_valor_agregadado_%|agricultura_valor_agregado_%|importacao_bens_servicos_%|formacao_capital_bruto_%|exportacao_bens_servicos_%|desp_mili_%_pib   |ass_cel_1000_pessoas|temp_necess_inic_neg_dias|ind_fac_faz_neg_regulam_favora_usu|rec_excl_subsi_%_pib|div_gov_cent_tot_%_pib|desp_pesq_dese_%_pib|infl_precos_cons_%_anual|retir_anua_agua_doc_tot_%_rec_int|emiss_de_co2_ton_met_per_cap|uso_energ_kg_pet_equiv_per_|cons_ener_elet_per_capita|serv_da_div_tot_%_exp_pro_serv_renda_prim|assis_of_des_US$_at_liq|acoes_da_div_ext_tot_dod_US$_atual|cap_de_merc_emp_list_%_pib|remess_pess_receb_US$_atual|invest_estra_dir_ingr_liq_bop_US$_atual|superfice|area_flor_km|terra_cult_%_area_terr|ano |\n",
            "+--------------------+---------------------------+----------------------+------------+-----------------+--------------------------+-----------------------+-----------------------------+------------------------+----------------------------------+--------------+------------------------------------------------+-----------------------+-----------+--------------------------+------------------------------+--------------------------------------------------------------------------------+----------------------------------------------------------------+---------------------------+--------------------------+-------------------+------------------------------+---------------------------+--------------------+---------------------------------+----------------------------+-------------------------------------------------+------------------------+--------------+--------------------+---------------------+---------------------+------------------+------------------+-------------------+---------------------+-----------------------+----------------------------+----------------------------+--------------------------+------------------------+--------------------------+------------------+--------------------+-------------------------+----------------------------------+--------------------+----------------------+--------------------+------------------------+---------------------------------+----------------------------+---------------------------+-------------------------+-----------------------------------------+-----------------------+----------------------------------+--------------------------+---------------------------+---------------------------------------+---------+------------+----------------------+----+\n",
            "|NaN                 |78.90625                   |15.92689153307888     |1.51648007E8|1.75941419381772 |2.822                     |66.742                 |50.6                         |59.2                    |83.3338                           |NaN           |6.31400012969971                                |NaN                    |NaN        |NaN                       |NaN                           |NaN                                                                             |69.5                                                            |85.0                       |60.4                      |0.2                |NaN                           |NaN                        |NaN                 |NaN                              |NaN                         |NaN                                              |NaN                     |6720.0        |2390.0              |1.0188656793868098E12|3.6247081430084143E11|6872.636942722494 |2259.239893668009 |1.0321895854695953 |3.4260922720964545E11|416.67808769907003     |31.767245605248323          |6.841308029801072           |7.914520879740154         |19.768805298004384      |8.677605337920818         |1.96333333333333  |0.004418126         |NaN                      |NaN                               |NaN                 |NaN                   |NaN                 |432.786661926461        |NaN                              |1.3530016256659412          |942.0380381260137          |1486.2246095987268       |23.425089253389878                       |1.9613999938964802E8   |1.213367091298E11                 |NaN                       |1.11E9                     |1.103E9                                |8515770.0|5851170.6   |27.934468673652272    |1991|\n",
            "|NaN                 |81.96721311                |17.94977573764493     |1.54259382E8|1.70733923298647 |2.754                     |67.141                 |48.4                         |NaN                     |83.727                            |0.0           |6.42000007629395                                |NaN                    |53.2       |20.7                      |2.8                           |NaN                                                                             |NaN                                                             |91.0                       |57.4                      |0.2                |NaN                           |NaN                        |NaN                 |NaN                              |NaN                         |NaN                                              |NaN                     |6740.0        |2340.0              |1.0401743521145591E12|3.614235595203693E11 |6872.666791263366 |2127.5071898116885|-0.5440720510302981|3.281879443009078E11 |969.012921772513       |34.13226664222514           |6.806091411657388           |8.38505912549662          |18.93453584914791       |10.868313400759144        |1.52152886115445  |0.020744281         |NaN                      |NaN                               |NaN                 |NaN                   |NaN                 |951.962053052818        |0.8135782841671083               |1.3526567868656443          |935.7464624096575          |1494.0614762737737       |21.240737381399548                       |-2.3558999633789098E8  |1.295359485572E11                 |NaN                       |1.791E9                    |2.061E9                                |8515770.0|5813361.2   |27.764598343650622    |1992|\n",
            "|NaN                 |87.27272727                |17.963551035141624    |1.56849086E8|1.66486231216782 |2.693                     |67.539                 |46.0                         |NaN                     |83.834                            |NaN           |6.03000020980835                                |NaN                    |60.1       |19.8                      |2.4                           |NaN                                                                             |NaN                                                             |85.0                       |54.3                      |0.2                |NaN                           |NaN                        |NaN                 |NaN                              |NaN                         |NaN                                              |NaN                     |7080.0        |2310.0              |1.111028305480113E12 |3.624349184766566E11 |7260.168864366995 |2348.090047334286 |4.924690004637739  |3.6829577777007947E11|1996.1503502950345     |37.29912071752452           |6.778109376557369           |9.096048645829836         |20.846355555839878      |10.503271539985565        |1.92792281498297  |0.11603511          |NaN                      |NaN                               |NaN                 |NaN                   |NaN                 |1927.38079016026        |NaN                              |1.3718919598932187          |943.3269952239315          |1537.5926385697906       |25.158259372647706                       |1.97520004272461E8     |1.445995771243E11                 |NaN                       |1.247E9                    |1.292E9                                |8515770.0|5775551.8   |27.594728013648968    |1993|\n",
            "|NaN                 |100.952381                 |15.177307908807173    |1.59432717E8|1.6337888839804  |2.639                     |67.932                 |43.5                         |NaN                     |83.941                            |NaN           |6.16900014877319                                |NaN                    |NaN        |NaN                       |NaN                           |NaN                                                                             |NaN                                                             |77.0                       |51.1                      |0.2                |NaN                           |NaN                        |NaN                 |NaN                              |NaN                         |NaN                                              |NaN                     |7590.0        |2670.0              |1.210607970679508E12 |4.2596053993793713E11|7722.0089579309515|3295.244923623438 |5.852870364389304  |5.253698513537422E11 |2240.168869201598      |35.42091971797434           |8.721989375176728           |9.161683369082233         |22.145562946480453      |9.513076427020039         |2.016007789121    |0.360032128         |NaN                      |NaN                               |NaN                 |NaN                   |NaN                 |2075.88839757325        |NaN                              |1.3969529227805857          |976.9821773783108          |1566.7612313224267       |31.24183905940014                        |2.59869995117188E8     |1.529031035577E11                 |NaN                       |2.068E9                    |3.072E9                                |8515770.0|5737742.4   |27.424857683647318    |1994|\n",
            "|NaN                 |110.3773585                |13.081845804305619    |1.62019889E8|1.60971030654546 |2.588                     |68.318                 |41.1                         |NaN                     |84.048                            |NaN           |6.42000007629395                                |NaN                    |59.6       |12.9                      |2.4                           |NaN                                                                             |NaN                                                             |87.0                       |48.0                      |0.2                |4.56816005706787              |NaN                        |NaN                 |NaN                              |NaN                         |NaN                                              |NaN                     |7970.0        |3430.0              |1.2905560081624119E12|5.557715069238184E11 |8085.722898559345 |4748.388207876052 |4.223793633647205  |7.693333303689868E11 |93.97804304413225      |23.38146038673418           |5.011666463863474           |9.455584964252443         |17.292346346417908      |7.528875043387441         |1.86213698033379  |0.793441443         |NaN                      |NaN                               |NaN                 |NaN                   |NaN                 |66.0070335542481        |NaN                              |1.4905577425744316          |994.2898491925273          |1634.398107753302        |38.56568185532461                        |2.64329986572266E8     |1.609642283435E11                 |NaN                       |2.952E9                    |4.859E9                                |8515770.0|5699933.0   |27.25546592902249     |1995|\n",
            "|NaN                 |108.3333333                |12.314763033653014    |1.64614682E8|1.58883830194468 |2.536                     |68.695                 |38.7                         |76.7                    |84.155                            |NaN           |7.25                                            |NaN                    |59.9       |14.1                      |2.2                           |4.5                                                                             |87.6                                                            |80.0                       |45.0                      |0.3                |NaN                           |NaN                        |NaN                 |NaN                              |NaN                         |NaN                                              |NaN                     |8060.0        |4350.0              |1.3267702968380269E12|7.156639102725813E11 |8282.988337581175 |5166.16393308148  |2.208864050514819  |8.50426433004077E11  |18.456243776898546     |22.340114560779302          |4.768411208331665           |8.905381793670406         |17.266946378350628      |6.730209684712538         |1.6548434995029102|1.517576609         |NaN                      |NaN                               |NaN                 |NaN                   |NaN                 |15.7576656002606        |NaN                              |1.5970628913889955          |1030.6680724869973         |1687.085238241386        |43.69477886805171                        |2.57799987792969E8     |1.817935269892E11                 |NaN                       |2.059E9                    |1.2552E10                              |8515770.0|5662123.6   |27.267872995666497    |1996|\n",
            "|NaN                 |114.4230769                |13.273906641983627    |1.67209046E8|1.56373197369546 |2.483                     |69.061                 |36.5                         |NaN                     |84.262                            |0.0           |8.15999984741211                                |NaN                    |59.8       |14.0                      |2.3                           |NaN                                                                             |98.6                                                            |99.0                       |42.2                      |0.3                |NaN                           |NaN                        |NaN                 |NaN                              |NaN                         |NaN                                              |NaN                     |8310.0        |5020.0              |1.3892129620014705E12|8.387656790861338E11 |8582.069531493746 |5282.049469949876 |3.3948459853159676 |8.832064527951244E11 |7.729023410047816      |22.59414761182627           |4.685047025481692           |9.592559686050647         |17.763985615088906      |6.98364957728647          |1.5776883155177401|2.721144742         |NaN                      |NaN                               |NaN                 |NaN                   |NaN                 |6.92671251629151        |0.9742095036212683               |1.6835811622297039          |1066.1869513925699         |1762.410629386642        |59.84653480084312                        |2.2978999328613302E8   |1.989802934951E11                 |NaN                       |1.572E9                    |1.89929343106468E10                    |8515770.0|5624314.2   |27.280280062310514    |1997|\n",
            "|NaN                 |114.2857143                |12.943218165780626    |1.69785253E8|1.52896188133332 |2.426                     |69.419                 |34.3                         |NaN                     |83.578                            |NaN           |9.42000007629395                                |NaN                    |59.6       |12.7                      |2.4                           |NaN                                                                             |98.6                                                            |95.0                       |39.6                      |0.3                |4.75665998458862              |NaN                        |NaN                 |NaN                              |NaN                         |NaN                                              |NaN                     |8200.0        |4840.0              |1.3916814619443381E12|8.22017838549981E11  |8575.875453525092 |5087.079072323747 |0.338097901952338  |8.637110073254927E11 |4.924361586752909      |22.118790379466635          |4.750044787566312           |9.408084593565363         |18.164751917307612      |7.03050033464164          |1.6622919197582402|4.33972798          |NaN                      |NaN                               |NaN                 |NaN                   |NaN                 |3.19507629280056        |NaN                              |1.712516221888835           |1075.1990810415084         |1808.343154514132        |80.75591555346179                        |2.60609985351563E8     |2.419984157638E11                 |NaN                       |1.236E9                    |2.885560991642E10                      |8515770.0|5586504.8   |27.29268712895453     |1998|\n",
            "|NaN                 |103.1578947                |16.639926409309435    |1.72318674E8|1.48110975211591 |2.365                     |69.769                 |32.3                         |NaN                     |82.894                            |NaN           |10.210000038147                                 |NaN                    |59.0       |13.3                      |2.5                           |NaN                                                                             |98.6                                                            |99.0                       |37.1                      |0.3                |3.80062007904053              |NaN                        |98.07272            |165.645385742188                 |NaN                         |NaN                                              |NaN                     |8160.0        |4120.0              |1.4064729581870464E12|7.103610005277623E11 |8611.902385806623 |3479.8438328539514|0.46793756667946695|5.996420750044706E11 |8.010500876868292      |21.746711249679297          |4.645981538206647           |11.417268214315927        |17.38955974337654       |9.564898259565036         |1.64547466656987  |8.723777617         |NaN                      |NaN                               |NaN                 |NaN                   |NaN                 |4.85844749902668        |NaN                              |1.7445584568507069          |1083.403984410883          |1832.3783062536797       |116.56389423631173                       |1.44380004882813E8     |2.45114967226E11                  |NaN                       |1.501E9                    |2.83856756149902E10                    |8515770.0|5548695.4   |27.305094195598546    |1999|\n",
            "|NaN                 |100.0                      |17.35636806047378     |1.74790339E8|1.42416744229362 |2.3                       |70.116                 |30.4                         |NaN                     |82.21                             |NaN           |9.56099987030029                                |NaN                    |NaN        |NaN                       |NaN                           |NaN                                                                             |98.6                                                            |99.0                       |34.7                      |0.3                |3.94893002510071              |NaN                        |NaN                 |NaN                              |NaN                         |NaN                                              |86.3678817749023        |8800.0        |3930.0              |1.5381295786458215E12|6.874776141114637E11 |9060.788666957324 |3749.9108475288826|4.387949443648694  |6.554481882593507E11 |5.606065152717775      |23.006618629367843          |4.750459972091092           |12.451713727280987        |18.903119268969977      |10.188048187509985        |1.73072614713627  |13.26627719         |NaN                      |NaN                               |NaN                 |NaN                   |1.04751             |7.04414105947266        |NaN                              |1.7888288436811144          |1072.3795438144896         |1897.3531483339018       |87.00462324894433                        |2.5567999267578098E8   |2.425116855218E11                 |34.50346099828032         |1.349591E9                 |3.299471869975E10                      |8515770.0|5510886.0   |27.317501262242555    |2000|\n",
            "|NaN                 |99.7753485                 |20.83435627626412     |1.77196051E8|1.36695595542708 |2.232                     |70.462                 |28.5                         |NaN                     |81.526                            |NaN           |9.60999965667725                                |NaN                    |58.4       |11.5                      |2.5                           |NaN                                                                             |98.3                                                            |99.0                       |32.5                      |0.3                |3.84468007087708              |NaN                        |98.85493            |150.785552978516                 |112.229606628418            |NaN                                              |NaN                     |8960.0        |3350.0              |1.5876921469865898E12|5.939349887486967E11 |9260.768380930815 |3160.249344914407 |1.3898964044580993 |5.599837040941699E11 |8.225094316433413      |22.639527912854906          |4.801043018955071           |14.564574473394803        |18.741860293251456      |12.371710548036031        |1.9518824453253198|16.22257852         |NaN                      |NaN                               |NaN                 |NaN                   |1.06198             |6.84035902487525        |NaN                              |1.8034261948648054          |1076.2754921665833         |1747.9396310022732       |71.73722700005504                        |2.52020004272461E8     |2.299597174021E11                 |33.257683864436395        |1.448914E9                 |2.3225846372251E10                     |8515770.0|5471378.1   |27.32990832888657     |2001|\n",
            "|NaN                 |98.40117544                |21.609066685129662    |1.79537523E8|1.31274754952678 |2.163                     |70.813                 |26.8                         |NaN                     |80.842                            |0.0           |9.36999988555908                                |NaN                    |58.1       |10.2                      |2.6                           |NaN                                                                             |98.5                                                            |96.0                       |30.4                      |0.4                |3.75037002563477              |109.994216918945           |96.72741            |146.827789306641                 |114.199432373047            |1.0129599571228                                  |NaN                     |9250.0        |3100.0              |1.660197051679057E12 |5.565543192239004E11 |9568.066027297284 |2839.4915010896643|3.0534618568361935 |5.097952706851901E11 |9.798112234313109      |22.495327821077982          |5.475274894762806           |13.387767211830262        |17.449079484503706      |14.230590318793604        |1.8957711991561699|19.42823093         |NaN                      |NaN                               |NaN                 |NaN                   |1.00968             |8.4501643770833         |1.0024730612965906               |1.767207181531629           |1090.3498484826484         |1806.669684308834        |72.04845901011001                        |2.3641000366210902E8   |2.319441810345E11                 |24.865183592155773        |2.003791E9                 |1.6586600193114E10                     |8515770.0|5431870.2   |27.342315395530587    |2002|\n",
            "|NaN                 |97.25000194                |22.227965568663517    |1.81809244E8|1.25737996705435 |2.097                     |71.17                  |25.1                         |NaN                     |78.904                            |NaN           |9.98999977111816                                |NaN                    |57.6       |11.0                      |2.6                           |NaN                                                                             |98.4                                                            |97.0                       |28.4                      |0.4                |NaN                           |101.868667602539           |94.29506            |140.544494628906                 |109.366607666016            |1.03544998168945                                 |NaN                     |9420.0        |2990.0              |1.7135299199629077E12|5.434808988921519E11 |9733.773303922619 |3070.4364194194154|1.1408289987710134 |5.582337241647108E11 |14.091021527267017     |23.083817818323578          |6.167184387424183           |12.959601188915107        |16.856688397799         |15.180783597872816        |1.50347763554507  |25.50654987         |NaN                      |NaN                               |NaN                 |NaN                   |0.99939             |14.7149197228147        |NaN                              |1.7015086427618609          |1094.4246817285045         |1882.264028335105        |67.92177237640448                        |2.2930000305175802E8   |2.359079841684E11                 |42.01824967686678         |2.28668E9                  |1.01230136709901E10                    |8515770.0|5392362.3   |27.354722462174596    |2003|\n",
            "|NaN                 |98.8866955                 |24.370775784395672    |1.84006479E8|1.20129414101631 |2.033                     |71.531                 |23.5                         |NaN                     |76.966                            |NaN           |9.10999965667725                                |NaN                    |56.5       |9.7                       |2.9                           |NaN                                                                             |98.6                                                            |97.0                       |26.5                      |0.4                |3.97447991371155              |102.371032714844           |95.58531            |133.696304321289                 |100.684646606445            |1.03352999687195                                 |88.6162414550781        |10140.0       |3350.0              |1.8652282236617336E12|6.161544794445844E11 |10445.34717821038 |3637.313890151203 |5.759964636859976  |6.692893219445156E11 |7.752060759463262      |24.30662329057763           |5.6653115767889215          |13.13249111009058         |17.912568341938947      |16.545761629733345        |1.46126840890621  |35.65363548         |NaN                      |NaN                               |NaN                 |NaN                   |0.96343             |6.59718509985962        |NaN                              |1.7758070355772635          |1141.4911102124834         |1956.1593806705034       |48.356227095706544                       |1.78279998779297E8     |2.206935926006E11                 |49.357814202119584        |2.812514E9                 |1.81613804597533E10                    |8515770.0|5352854.4   |27.367129528818612    |2004|\n",
            "|NaN                 |99.71589304                |21.999726137269565    |1.86127108E8|1.14588477164177 |1.976                     |71.896                 |22.0                         |NaN                     |75.028                            |NaN           |9.56999969482422                                |NaN                    |56.3       |8.6                       |2.9                           |NaN                                                                             |98.6                                                            |98.0                       |24.8                      |0.4                |4.47908020019531              |101.2919921875             |96.07993            |133.262161254883                 |NaN                         |1.02884995937347                                 |NaN                     |10670.0       |4000.0              |1.9862194669032244E12|7.439144003285754E11 |10988.961148447677|4790.456565861311 |3.2021320621625478 |8.916338266033773E11 |7.431224754784878      |24.172578278009887          |4.651168820814417           |11.842965919765717        |17.204883460677934      |15.24382913811164         |1.52401339252107  |46.31799164         |NaN                      |NaN                               |NaN                 |NaN                   |1.00246             |6.86953720898965        |NaN                              |1.7757219974642275          |1156.9075365421786         |2015.7998694096725       |46.18653099320047                        |2.17240005493164E8     |1.883645455899E11                 |53.233386378816206        |2.805358E9                 |1.54599816041196E10                    |8515770.0|5313346.5   |27.37953659546263     |2005|\n",
            "|NaN                 |104.9823954                |21.094200563589098    |1.88167353E8|1.09019257285986 |1.925                     |72.26                  |20.7                         |80.3                    |73.09                             |NaN           |8.64000034332275                                |NaN                    |55.6       |7.2                       |3.0                           |NaN                                                                             |97.0                                                            |99.0                       |23.2                      |0.4                |4.87060022354126              |NaN                        |NaN                 |NaN                              |NaN                         |NaN                                              |89.6152267456055        |11350.0       |4850.0              |2.135908103751852E12 |9.1292379236696E11   |11642.447054683771|5886.391521948159 |3.961988708994852  |1.1076267114066265E12|6.77427411909737       |23.544021669300093          |4.370043779317608           |11.66738343157781         |17.8164739011777        |14.37431638762409         |1.48108489489303  |53.10093266         |NaN                      |NaN                               |NaN                 |63.95235634010889     |0.98807             |4.18356812896902        |NaN                              |1.7749093807999732          |1184.1451210720918         |2072.362680257292        |38.24854708267736                        |1.1019999694824201E8   |1.943030180169E11                 |64.12335877111738         |3.287162E9                 |1.94180855980794E10                    |8515770.0|5273838.6   |27.392577774480927    |2006|\n",
            "|12.609200038580607  |108.793436                 |20.563386319250622    |1.90130445E8|1.03786468320243 |1.882                     |72.618                 |19.5                         |80.6                    |71.152                            |0.0           |8.32999992370605                                |NaN                    |54.9       |6.7                       |3.0                           |2.2                                                                             |98.6                                                            |99.0                       |21.8                      |0.4                |4.97425985336304              |95.1699981689453           |92.47411            |128.179794311523                 |NaN                         |1.04399001598358                                 |90.0093688964844        |12280.0       |6190.0              |2.335440691796655E12 |1.1775073388967673E12|12549.93099930229 |7348.187962907121 |6.069870607331282  |1.3971142473311743E12|6.439038089211451      |23.125380408802084          |4.416915436128082           |11.964936310849552        |19.819325987884255      |13.327675165405212        |1.46629209992902  |63.63005371         |NaN                      |NaN                               |NaN                 |62.451683488729415    |1.08138             |3.64127299102654        |1.0990990990990992               |1.848835939977945           |1238.4116283954418         |2167.6065608535237       |28.05208160488058                        |3.2858999633789104E8   |2.384444526226E11                 |98.03860154003006         |3.305694E9                 |4.45794924636336E10                    |8515770.0|5234330.7   |27.47881705738358     |2007|\n",
            "|12.757724396567498  |112.6734729                |22.426381508501233    |1.92030362E8|0.994310571973971|1.847                     |72.966                 |18.4                         |NaN                     |69.7322                           |NaN           |7.34000015258789                                |NaN                    |54.0       |5.5                       |3.2                           |NaN                                                                             |98.8                                                            |99.0                       |20.6                      |0.4                |5.26883983612061              |96.7201232910156           |98.53831            |132.055206298828                 |NaN                         |1.03873002529144                                 |90.03662109375          |12990.0       |7620.0              |2.4937701660448037E12|1.4626881296120415E12|13312.766757452167|8831.183642776741 |5.094195448119976  |1.6958553918108962E12|8.778552722176045      |23.085293753548424          |4.56785118173209            |13.723568849205916        |21.61938283529792       |13.534000512202049        |1.4419240934311799|78.44665887         |NaN                      |NaN                               |NaN                 |60.65593048782011     |1.12904             |5.67859390284171        |NaN                              |1.9380268626478974          |1294.4808331924094         |2229.845299151183        |23.471299613614583                       |4.6863000488281304E8   |2.629572364626E11                 |34.906605413323454        |3.642585E9                 |5.07164027114787E10                    |8515770.0|5194822.8   |27.565056340286237    |2008|\n",
            "|14.75822057877675   |109.1113358                |17.196918851451127    |1.93886505E8|0.961946715342144|1.818                     |73.3                   |17.5                         |NaN                     |68.3124                           |NaN           |8.52000045776367                                |NaN                    |53.7       |5.4                       |3.2                           |NaN                                                                             |98.9                                                            |99.0                       |19.5                      |0.5                |5.46355009078979              |96.6654815673828           |96.58508            |131.165161132813                 |NaN                         |1.04416000843048                                 |90.298210144043         |12980.0       |8320.0              |2.5157762651890625E12|1.61402960119433E12  |13269.122107324934|8597.794335262639 |-0.1258120029914096|1.6669962943728713E12|7.313482745945407      |21.878592629077925          |4.476773992870127           |11.254604431529682        |18.796135045888693      |10.85137108902099         |1.53862569660074  |87.36326511         |NaN                      |NaN                               |NaN                 |63.80782742754212     |1.11866             |4.88803479876804        |NaN                              |1.8094606429673896          |1240.1773037272503         |2197.1255812775626       |23.48894259899559                        |3.74809997558594E8     |2.816511384324E11                 |80.21899535793968         |2.8891595E9                |3.14809317E10                          |8515770.0|5155314.9   |27.651295623188894    |2009|\n",
            "|12.589452917244639  |127.2123978                |17.812622775394686    |1.95713637E8|0.937959306704135|1.796                     |73.619                 |16.7                         |NaN                     |66.8926                           |NaN           |7.27400016784668                                |NaN                    |NaN        |NaN                       |NaN                           |NaN                                                                             |98.9                                                            |99.0                       |18.6                      |0.5                |5.64879989624023              |NaN                        |NaN                 |NaN                              |NaN                         |NaN                                              |90.3791809082031        |13860.0       |9650.0              |2.712168018855725E12 |1.8879139773354812E12|14299.55513849254 |11286.07154021204 |7.528225818121513  |2.2088381085770903E12|8.423338335981882      |23.267977354744023          |4.11575648758173            |11.906593337308442        |21.801321565156837      |10.865584774696483        |1.53940698112515  |100.6214912         |NaN                      |NaN                               |28.999894669587604  |61.31878046114786     |1.15992             |5.03872690108066        |NaN                              |2.0322038162317733          |1358.5024021601519         |2374.116628367598        |18.38526443530585                        |4.64779998779297E8     |3.523644128626E11                 |69.9718849470429          |3.08280186611E9            |8.238993246807E10                      |8515770.0|5115807.0   |27.73753490609155     |2010|\n",
            "+--------------------+---------------------------+----------------------+------------+-----------------+--------------------------+-----------------------+-----------------------------+------------------------+----------------------------------+--------------+------------------------------------------------+-----------------------+-----------+--------------------------+------------------------------+--------------------------------------------------------------------------------+----------------------------------------------------------------+---------------------------+--------------------------+-------------------+------------------------------+---------------------------+--------------------+---------------------------------+----------------------------+-------------------------------------------------+------------------------+--------------+--------------------+---------------------+---------------------+------------------+------------------+-------------------+---------------------+-----------------------+----------------------------+----------------------------+--------------------------+------------------------+--------------------------+------------------+--------------------+-------------------------+----------------------------------+--------------------+----------------------+--------------------+------------------------+---------------------------------+----------------------------+---------------------------+-------------------------+-----------------------------------------+-----------------------+----------------------------------+--------------------------+---------------------------+---------------------------------------+---------+------------+----------------------+----+\n",
            "only showing top 20 rows\n",
            "\n"
          ]
        }
      ]
    },
    {
      "cell_type": "code",
      "source": [
        "# A taxa de fertilidade de nascimento de filhos por mulher vem aumentando ou diminuindo nas ultimas duas décadas?\n",
        "\n",
        "spark.sql('SELECT tx_fertili_nasc_por_mulher , ano FROM dfconsulta2').show(50)\n",
        "\n",
        "# A taxa de fertilidade veio diminuindo ao longo dos anos."
      ],
      "metadata": {
        "id": "EvNFogR0s5WF"
      },
      "execution_count": null,
      "outputs": []
    },
    {
      "cell_type": "code",
      "source": [
        "# O uso de método anticoncepcional entre adolescentes do sexo feminino entre 15 e 19 anos tem \n",
        "# relação com os números da taxa de fertilidade de adolescentes de 15 a 19 anos ?\n",
        "\n",
        "spark.sql('SELECT uso_metodo_anticon_15a19, tx_fertili_adolesc_por1000_de15a19 ,ano FROM dfconsulta2  WHERE ano = 1991 or ano = 1996 or ano = 2006 or ano = 2013').show(50)\n",
        "\n",
        "# Verificamos que a taxa de fertilidade diminuiu nas últimas duas décadas, embora que não de maneira constante.\n",
        "# O uso de anticoncepcionais aumentou nesse mesmo período, porém de 2006 a 2013 houve uma estabilidade nessa taxa."
      ],
      "metadata": {
        "id": "TeCoBtNdqS1A",
        "colab": {
          "base_uri": "https://localhost:8080/"
        },
        "outputId": "ca22618b-e4c9-4081-edaa-7e9d852085c0"
      },
      "execution_count": null,
      "outputs": [
        {
          "output_type": "stream",
          "name": "stdout",
          "text": [
            "+------------------------+----------------------------------+----+\n",
            "|uso_metodo_anticon_15a19|tx_fertili_adolesc_por1000_de15a19| ano|\n",
            "+------------------------+----------------------------------+----+\n",
            "|                    59.2|                           83.3338|1991|\n",
            "|                    76.7|                            84.155|1996|\n",
            "|                    80.3|                             73.09|2006|\n",
            "|                    80.2|                           63.0646|2013|\n",
            "+------------------------+----------------------------------+----+\n",
            "\n"
          ]
        }
      ]
    },
    {
      "cell_type": "markdown",
      "source": [
        "# LOAD"
      ],
      "metadata": {
        "id": "UgmFdGxY3JI_"
      }
    },
    {
      "cell_type": "markdown",
      "source": [
        "## Arquivos tratados do Pyspark para o DATALAKE"
      ],
      "metadata": {
        "id": "suEYHC7mRJM1"
      }
    },
    {
      "cell_type": "code",
      "source": [
        "# Enviando os arquivos tratados do PySpark para o DATALAKE\n",
        "\n",
        "\n",
        "\n",
        "(dfregiao.write.format(\"csv\").option(\"header\", \"true\")\n",
        "                        .option(\"inferschema\", \"true\")\n",
        "                        .option(\"delimiter\", \",\")                        \n",
        "                        .save('gs://bucket-estilo-vida/dados_tratados/Pyspark/dfregiao')\n",
        "                        )"
      ],
      "metadata": {
        "id": "ZUOuOlbCYh9Z"
      },
      "execution_count": null,
      "outputs": []
    },
    {
      "cell_type": "code",
      "source": [
        "(dfs2estado.write.format(\"csv\").option(\"header\", \"true\")\n",
        "                        .option(\"inferschema\", \"true\")\n",
        "                        .option(\"delimiter\", \",\")                        \n",
        "                        .save('gs://bucket-estilo-vida/dados_tratados/Pyspark/dfs2estado')\n",
        "                        )"
      ],
      "metadata": {
        "id": "QTpCKFHdjWUP"
      },
      "execution_count": null,
      "outputs": []
    },
    {
      "cell_type": "code",
      "source": [
        "(dffspark.write.format(\"csv\").option(\"header\", \"true\")\n",
        "                        .option(\"inferschema\", \"true\")\n",
        "                        .option(\"delimiter\", \",\")                        \n",
        "                        .save('gs://bucket-estilo-vida/dados_tratados/Pyspark/dffspark')\n",
        "                        )"
      ],
      "metadata": {
        "id": "3t4uPsRhjNib"
      },
      "execution_count": null,
      "outputs": []
    },
    {
      "cell_type": "markdown",
      "source": [
        "## Enviando os arquivos tratados para o MongoDB"
      ],
      "metadata": {
        "id": "0QUfkDuxXkSN"
      }
    },
    {
      "cell_type": "code",
      "source": [
        "\n",
        "#Transformando do Pyspark para o pandas\n",
        "df_regiao = dfregiao.toPandas()\n",
        "\n",
        "#Criando o Banco e a Coleção dados_brutos\n",
        "db = client['Projetofinal-tratado']\n",
        "colecao = db.df_regiao\n",
        "\n",
        "#Transformando o dataframe para dicionario e inserindo na coleção desejada.\n",
        "df_regiao_dici = df_regiao.to_dict('records')\n",
        "#colecao.insert_many(df_regiao_dici)\n",
        "\n"
      ],
      "metadata": {
        "id": "1vn32KjlSWFE"
      },
      "execution_count": null,
      "outputs": []
    },
    {
      "cell_type": "code",
      "source": [
        "\n",
        "#Transformando do Pyspark para o pandas\n",
        "dfs2estado_pandas = dfs2estado.toPandas()\n",
        "\n",
        "#Criando o Banco e a Coleção dados_brutos\n",
        "db = client['Projetofinal-tratado']\n",
        "colecao = db.dfs2estado_pandas\n",
        "\n",
        "#Transformando o dataframe para dicionario e inserindo na coleção desejada.\n",
        "dfs2estado_pandas_dici = dfs2estado_pandas.to_dict('records')\n",
        "#colecao.insert_many(dfs2estado_pandas_dici)"
      ],
      "metadata": {
        "id": "E0h4kkMvXfSo"
      },
      "execution_count": null,
      "outputs": []
    },
    {
      "cell_type": "code",
      "source": [
        "\n",
        "#Transformando do Pyspark para o pandas\n",
        "dff_spark = dffspark.toPandas()\n",
        "\n",
        "#Criando o Banco e a Coleção dados_brutos\n",
        "db = client['Projetofinal-tratado']\n",
        "colecao = db.dff_spark\n",
        "\n",
        "#Transformando o dataframe para dicionario e inserindo na coleção desejada.\n",
        "dff_spark_dici = dff_spark.to_dict('records')\n",
        "#colecao.insert_many(dff_spark_dici)"
      ],
      "metadata": {
        "id": "ZkOhCgY9YBnu"
      },
      "execution_count": null,
      "outputs": []
    }
  ]
}